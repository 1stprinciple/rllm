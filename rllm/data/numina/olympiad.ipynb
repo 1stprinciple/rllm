{
 "cells": [
  {
   "cell_type": "code",
   "execution_count": 1,
   "metadata": {},
   "outputs": [
    {
     "name": "stderr",
     "output_type": "stream",
     "text": [
      "/opt/conda/envs/rllm/lib/python3.10/site-packages/tqdm/auto.py:21: TqdmWarning: IProgress not found. Please update jupyter and ipywidgets. See https://ipywidgets.readthedocs.io/en/stable/user_install.html\n",
      "  from .autonotebook import tqdm as notebook_tqdm\n"
     ]
    }
   ],
   "source": [
    "# Extract AMC Data from numina\n",
    "from concurrent.futures import as_completed\n",
    "import json\n",
    "from pprint import pprint\n",
    "from tqdm import tqdm\n",
    "\n",
    "from datasets import load_dataset\n",
    "from rllm.grading.grader import extract_boxed_answer\n",
    "\n",
    "\n",
    "ds = load_dataset(\"AI-MO/NuminaMath-CoT\")\n",
    "# Filter for amc_aime problems\n",
    "olympiad = ds['train'].filter(lambda x: x['source'] == 'olympiads')"
   ]
  },
  {
   "cell_type": "code",
   "execution_count": 5,
   "metadata": {},
   "outputs": [
    {
     "name": "stdout",
     "output_type": "stream",
     "text": [
      "3\n",
      " You see a square resembling a chessboard that is divided into 4 parts. Can you arrange these parts in such a way that the new figure has one less cell, i.e., 63 cells?\n",
      "3\n",
      " How to easily and accurately remember the formulas for the sine and cosine of angles:\n",
      "\n",
      "$$\n",
      "\\frac{\\pi}{2} \\pm \\alpha ; \\pi \\pm \\alpha ; \\frac{3 \\pi}{2} \\pm \\alpha, 2 \\pi - \\alpha ?\n",
      "$$\n",
      "3\n",
      " In one glass, there was milk, and in another - the same amount of coffee. A spoonful was transferred from the glass of milk to the glass of coffee and mixed. Then, the same spoonful of the mixture was transferred back to the glass with milk. What is there more of now: coffee in the glass with milk or milk in the glass with coffee?\n",
      "3\n",
      " Cut a triangle into two parts, which can be reassembled into a 20-sided polygon.\n",
      "Retry due to rate limit:  429 Resource exhausted. Please try again later. Please refer to https://cloud.google.com/vertex-ai/generative-ai/docs/error-code-429 for more details.\n",
      "Retry due to rate limit:  429 Resource exhausted. Please try again later. Please refer to https://cloud.google.com/vertex-ai/generative-ai/docs/error-code-429 for more details.\n",
      "Retry due to rate limit:  429 Resource exhausted. Please try again later. Please refer to https://cloud.google.com/vertex-ai/generative-ai/docs/error-code-429 for more details.\n",
      "Retry due to rate limit:  429 Resource exhausted. Please try again later. Please refer to https://cloud.google.com/vertex-ai/generative-ai/docs/error-code-429 for more details.\n",
      "Retry due to rate limit:  429 Resource exhausted. Please try again later. Please refer to https://cloud.google.com/vertex-ai/generative-ai/docs/error-code-429 for more details.\n",
      "Retry due to rate limit:  429 Resource exhausted. Please try again later. Please refer to https://cloud.google.com/vertex-ai/generative-ai/docs/error-code-429 for more details.\n",
      "Retry due to rate limit:  429 Resource exhausted. Please try again later. Please refer to https://cloud.google.com/vertex-ai/generative-ai/docs/error-code-429 for more details.\n",
      "Retry due to rate limit:  429 Resource exhausted. Please try again later. Please refer to https://cloud.google.com/vertex-ai/generative-ai/docs/error-code-429 for more details.\n",
      "Retry due to rate limit:  429 Resource exhausted. Please try again later. Please refer to https://cloud.google.com/vertex-ai/generative-ai/docs/error-code-429 for more details.\n",
      "Retry due to rate limit:  429 Resource exhausted. Please try again later. Please refer to https://cloud.google.com/vertex-ai/generative-ai/docs/error-code-429 for more details.\n",
      "Retry due to rate limit:  429 Resource exhausted. Please try again later. Please refer to https://cloud.google.com/vertex-ai/generative-ai/docs/error-code-429 for more details.\n",
      "Retry due to rate limit:  429 Resource exhausted. Please try again later. Please refer to https://cloud.google.com/vertex-ai/generative-ai/docs/error-code-429 for more details.\n",
      "Retry due to rate limit:  429 Resource exhausted. Please try again later. Please refer to https://cloud.google.com/vertex-ai/generative-ai/docs/error-code-429 for more details.\n",
      "Retry due to rate limit:  429 Resource exhausted. Please try again later. Please refer to https://cloud.google.com/vertex-ai/generative-ai/docs/error-code-429 for more details.\n",
      "Retry due to rate limit:  429 Resource exhausted. Please try again later. Please refer to https://cloud.google.com/vertex-ai/generative-ai/docs/error-code-429 for more details.\n",
      "Retry due to rate limit:  429 Resource exhausted. Please try again later. Please refer to https://cloud.google.com/vertex-ai/generative-ai/docs/error-code-429 for more details.\n",
      "Retry due to rate limit:  429 Resource exhausted. Please try again later. Please refer to https://cloud.google.com/vertex-ai/generative-ai/docs/error-code-429 for more details.\n",
      "Retry due to rate limit:  429 Resource exhausted. Please try again later. Please refer to https://cloud.google.com/vertex-ai/generative-ai/docs/error-code-429 for more details.\n",
      "Retry due to rate limit:  429 Resource exhausted. Please try again later. Please refer to https://cloud.google.com/vertex-ai/generative-ai/docs/error-code-429 for more details.Retry due to rate limit: \n",
      " 429 Resource exhausted. Please try again later. Please refer to https://cloud.google.com/vertex-ai/generative-ai/docs/error-code-429 for more details.\n",
      "Retry due to rate limit:  429 Resource exhausted. Please try again later. Please refer to https://cloud.google.com/vertex-ai/generative-ai/docs/error-code-429 for more details.\n",
      "Retry due to rate limit:  429 Resource exhausted. Please try again later. Please refer to https://cloud.google.com/vertex-ai/generative-ai/docs/error-code-429 for more details.\n",
      "Retry due to rate limit: Retry due to rate limit:   429 Resource exhausted. Please try again later. Please refer to https://cloud.google.com/vertex-ai/generative-ai/docs/error-code-429 for more details.429 Resource exhausted. Please try again later. Please refer to https://cloud.google.com/vertex-ai/generative-ai/docs/error-code-429 for more details.\n",
      "\n",
      "Retry due to rate limit:  429 Resource exhausted. Please try again later. Please refer to https://cloud.google.com/vertex-ai/generative-ai/docs/error-code-429 for more details.\n",
      "Retry due to rate limit: Retry due to rate limit:   429 Resource exhausted. Please try again later. Please refer to https://cloud.google.com/vertex-ai/generative-ai/docs/error-code-429 for more details.429 Resource exhausted. Please try again later. Please refer to https://cloud.google.com/vertex-ai/generative-ai/docs/error-code-429 for more details.\n",
      "\n",
      "Retry due to rate limit:  429 Resource exhausted. Please try again later. Please refer to https://cloud.google.com/vertex-ai/generative-ai/docs/error-code-429 for more details.\n",
      "Retry due to rate limit:  429 Resource exhausted. Please try again later. Please refer to https://cloud.google.com/vertex-ai/generative-ai/docs/error-code-429 for more details.\n",
      "Retry due to rate limit:  429 Resource exhausted. Please try again later. Please refer to https://cloud.google.com/vertex-ai/generative-ai/docs/error-code-429 for more details.\n",
      "Retry due to rate limit:  429 Resource exhausted. Please try again later. Please refer to https://cloud.google.com/vertex-ai/generative-ai/docs/error-code-429 for more details.\n",
      "Retry due to rate limit:  429 Resource exhausted. Please try again later. Please refer to https://cloud.google.com/vertex-ai/generative-ai/docs/error-code-429 for more details.\n",
      "Retry due to rate limit:  429 Resource exhausted. Please try again later. Please refer to https://cloud.google.com/vertex-ai/generative-ai/docs/error-code-429 for more details.\n",
      "Retry due to rate limit:  429 Resource exhausted. Please try again later. Please refer to https://cloud.google.com/vertex-ai/generative-ai/docs/error-code-429 for more details.\n",
      "Retry due to rate limit:  429 Resource exhausted. Please try again later. Please refer to https://cloud.google.com/vertex-ai/generative-ai/docs/error-code-429 for more details.\n",
      "Retry due to rate limit:  429 Resource exhausted. Please try again later. Please refer to https://cloud.google.com/vertex-ai/generative-ai/docs/error-code-429 for more details.\n",
      "Retry due to rate limit:  429 Resource exhausted. Please try again later. Please refer to https://cloud.google.com/vertex-ai/generative-ai/docs/error-code-429 for more details.\n",
      "Retry due to rate limit:  429 Resource exhausted. Please try again later. Please refer to https://cloud.google.com/vertex-ai/generative-ai/docs/error-code-429 for more details.\n",
      "Retry due to rate limit: Retry due to rate limit:  429 Resource exhausted. Please try again later. Please refer to https://cloud.google.com/vertex-ai/generative-ai/docs/error-code-429 for more details. \n",
      "429 Resource exhausted. Please try again later. Please refer to https://cloud.google.com/vertex-ai/generative-ai/docs/error-code-429 for more details.\n",
      "Retry due to rate limit:  429 Resource exhausted. Please try again later. Please refer to https://cloud.google.com/vertex-ai/generative-ai/docs/error-code-429 for more details.\n",
      "Retry due to rate limit:  429 Resource exhausted. Please try again later. Please refer to https://cloud.google.com/vertex-ai/generative-ai/docs/error-code-429 for more details.\n",
      "Retry due to rate limit:  429 Resource exhausted. Please try again later. Please refer to https://cloud.google.com/vertex-ai/generative-ai/docs/error-code-429 for more details.\n",
      "Retry due to rate limit:  429 Resource exhausted. Please try again later. Please refer to https://cloud.google.com/vertex-ai/generative-ai/docs/error-code-429 for more details.\n",
      "Retry due to rate limit:  429 Resource exhausted. Please try again later. Please refer to https://cloud.google.com/vertex-ai/generative-ai/docs/error-code-429 for more details.\n",
      "Retry due to rate limit:  429 Resource exhausted. Please try again later. Please refer to https://cloud.google.com/vertex-ai/generative-ai/docs/error-code-429 for more details.\n",
      "Retry due to rate limit:  429 Resource exhausted. Please try again later. Please refer to https://cloud.google.com/vertex-ai/generative-ai/docs/error-code-429 for more details.\n",
      "Retry due to rate limit:  429 Resource exhausted. Please try again later. Please refer to https://cloud.google.com/vertex-ai/generative-ai/docs/error-code-429 for more details.\n",
      "Retry due to rate limit:  429 Resource exhausted. Please try again later. Please refer to https://cloud.google.com/vertex-ai/generative-ai/docs/error-code-429 for more details.\n",
      "Retry due to rate limit:  429 Resource exhausted. Please try again later. Please refer to https://cloud.google.com/vertex-ai/generative-ai/docs/error-code-429 for more details.Retry due to rate limit: \n",
      " 429 Resource exhausted. Please try again later. Please refer to https://cloud.google.com/vertex-ai/generative-ai/docs/error-code-429 for more details.\n",
      "Retry due to rate limit:  429 Resource exhausted. Please try again later. Please refer to https://cloud.google.com/vertex-ai/generative-ai/docs/error-code-429 for more details.\n",
      "Retry due to rate limit:  429 Resource exhausted. Please try again later. Please refer to https://cloud.google.com/vertex-ai/generative-ai/docs/error-code-429 for more details.\n",
      "Retry due to rate limit: Retry due to rate limit:   429 Resource exhausted. Please try again later. Please refer to https://cloud.google.com/vertex-ai/generative-ai/docs/error-code-429 for more details.429 Resource exhausted. Please try again later. Please refer to https://cloud.google.com/vertex-ai/generative-ai/docs/error-code-429 for more details.\n",
      "\n",
      "Retry due to rate limit:  429 Resource exhausted. Please try again later. Please refer to https://cloud.google.com/vertex-ai/generative-ai/docs/error-code-429 for more details.\n",
      "Retry due to rate limit:  429 Resource exhausted. Please try again later. Please refer to https://cloud.google.com/vertex-ai/generative-ai/docs/error-code-429 for more details.\n",
      "Retry due to rate limit:  429 Resource exhausted. Please try again later. Please refer to https://cloud.google.com/vertex-ai/generative-ai/docs/error-code-429 for more details.\n",
      "Retry due to rate limit:  429 Resource exhausted. Please try again later. Please refer to https://cloud.google.com/vertex-ai/generative-ai/docs/error-code-429 for more details.\n",
      "Retry due to rate limit:  429 Resource exhausted. Please try again later. Please refer to https://cloud.google.com/vertex-ai/generative-ai/docs/error-code-429 for more details.\n",
      "Retry due to rate limit:  429 Resource exhausted. Please try again later. Please refer to https://cloud.google.com/vertex-ai/generative-ai/docs/error-code-429 for more details.\n",
      "Retry due to rate limit:  429 Resource exhausted. Please try again later. Please refer to https://cloud.google.com/vertex-ai/generative-ai/docs/error-code-429 for more details.\n",
      "Retry due to rate limit:  429 Resource exhausted. Please try again later. Please refer to https://cloud.google.com/vertex-ai/generative-ai/docs/error-code-429 for more details.\n",
      "Retry due to rate limit:  429 Resource exhausted. Please try again later. Please refer to https://cloud.google.com/vertex-ai/generative-ai/docs/error-code-429 for more details.Retry due to rate limit: \n",
      " 429 Resource exhausted. Please try again later. Please refer to https://cloud.google.com/vertex-ai/generative-ai/docs/error-code-429 for more details.\n",
      "Retry due to rate limit:  429 Resource exhausted. Please try again later. Please refer to https://cloud.google.com/vertex-ai/generative-ai/docs/error-code-429 for more details.\n",
      "Retry due to rate limit:  429 Resource exhausted. Please try again later. Please refer to https://cloud.google.com/vertex-ai/generative-ai/docs/error-code-429 for more details.\n",
      "Retry due to rate limit:  429 Resource exhausted. Please try again later. Please refer to https://cloud.google.com/vertex-ai/generative-ai/docs/error-code-429 for more details.\n",
      "Retry due to rate limit:  429 Resource exhausted. Please try again later. Please refer to https://cloud.google.com/vertex-ai/generative-ai/docs/error-code-429 for more details.\n",
      "Retry due to rate limit:  429 Resource exhausted. Please try again later. Please refer to https://cloud.google.com/vertex-ai/generative-ai/docs/error-code-429 for more details.\n",
      "Retry due to rate limit:  429 Resource exhausted. Please try again later. Please refer to https://cloud.google.com/vertex-ai/generative-ai/docs/error-code-429 for more details.\n",
      "Retry due to rate limit:  429 Resource exhausted. Please try again later. Please refer to https://cloud.google.com/vertex-ai/generative-ai/docs/error-code-429 for more details.\n",
      "Retry due to rate limit:  429 Resource exhausted. Please try again later. Please refer to https://cloud.google.com/vertex-ai/generative-ai/docs/error-code-429 for more details.\n",
      "Retry due to rate limit: Retry due to rate limit:   429 Resource exhausted. Please try again later. Please refer to https://cloud.google.com/vertex-ai/generative-ai/docs/error-code-429 for more details.429 Resource exhausted. Please try again later. Please refer to https://cloud.google.com/vertex-ai/generative-ai/docs/error-code-429 for more details.\n",
      "\n",
      "Retry due to rate limit:  429 Resource exhausted. Please try again later. Please refer to https://cloud.google.com/vertex-ai/generative-ai/docs/error-code-429 for more details.\n",
      "Retry due to rate limit:  429 Resource exhausted. Please try again later. Please refer to https://cloud.google.com/vertex-ai/generative-ai/docs/error-code-429 for more details.\n",
      "Retry due to rate limit:  429 Resource exhausted. Please try again later. Please refer to https://cloud.google.com/vertex-ai/generative-ai/docs/error-code-429 for more details.\n",
      "Retry due to rate limit:  429 Resource exhausted. Please try again later. Please refer to https://cloud.google.com/vertex-ai/generative-ai/docs/error-code-429 for more details.\n",
      "Retry due to rate limit:  429 Resource exhausted. Please try again later. Please refer to https://cloud.google.com/vertex-ai/generative-ai/docs/error-code-429 for more details.\n",
      "Retry due to rate limit:  429 Resource exhausted. Please try again later. Please refer to https://cloud.google.com/vertex-ai/generative-ai/docs/error-code-429 for more details.\n",
      "Retry due to rate limit:  429 Resource exhausted. Please try again later. Please refer to https://cloud.google.com/vertex-ai/generative-ai/docs/error-code-429 for more details.\n",
      "Retry due to rate limit:  429 Resource exhausted. Please try again later. Please refer to https://cloud.google.com/vertex-ai/generative-ai/docs/error-code-429 for more details.\n",
      "Retry due to rate limit:  429 Resource exhausted. Please try again later. Please refer to https://cloud.google.com/vertex-ai/generative-ai/docs/error-code-429 for more details.\n",
      "Retry due to rate limit: Retry due to rate limit:   429 Resource exhausted. Please try again later. Please refer to https://cloud.google.com/vertex-ai/generative-ai/docs/error-code-429 for more details.429 Resource exhausted. Please try again later. Please refer to https://cloud.google.com/vertex-ai/generative-ai/docs/error-code-429 for more details.\n",
      "\n",
      "Retry due to rate limit:  429 Resource exhausted. Please try again later. Please refer to https://cloud.google.com/vertex-ai/generative-ai/docs/error-code-429 for more details.\n",
      "Retry due to rate limit:  429 Resource exhausted. Please try again later. Please refer to https://cloud.google.com/vertex-ai/generative-ai/docs/error-code-429 for more details.\n",
      "Retry due to rate limit:  429 Resource exhausted. Please try again later. Please refer to https://cloud.google.com/vertex-ai/generative-ai/docs/error-code-429 for more details.\n",
      "Retry due to rate limit:  429 Resource exhausted. Please try again later. Please refer to https://cloud.google.com/vertex-ai/generative-ai/docs/error-code-429 for more details.\n",
      "Retry due to rate limit:  429 Resource exhausted. Please try again later. Please refer to https://cloud.google.com/vertex-ai/generative-ai/docs/error-code-429 for more details.\n",
      "Retry due to rate limit:  429 Resource exhausted. Please try again later. Please refer to https://cloud.google.com/vertex-ai/generative-ai/docs/error-code-429 for more details.\n",
      "Retry due to rate limit:  429 Resource exhausted. Please try again later. Please refer to https://cloud.google.com/vertex-ai/generative-ai/docs/error-code-429 for more details.\n",
      "Retry due to rate limit:  429 Resource exhausted. Please try again later. Please refer to https://cloud.google.com/vertex-ai/generative-ai/docs/error-code-429 for more details.\n",
      "Retry due to rate limit:  429 Resource exhausted. Please try again later. Please refer to https://cloud.google.com/vertex-ai/generative-ai/docs/error-code-429 for more details.\n",
      "Retry due to rate limit: Retry due to rate limit:   429 Resource exhausted. Please try again later. Please refer to https://cloud.google.com/vertex-ai/generative-ai/docs/error-code-429 for more details.\n",
      "429 Resource exhausted. Please try again later. Please refer to https://cloud.google.com/vertex-ai/generative-ai/docs/error-code-429 for more details.\n",
      "Retry due to rate limit:  429 Resource exhausted. Please try again later. Please refer to https://cloud.google.com/vertex-ai/generative-ai/docs/error-code-429 for more details.\n",
      "Retry due to rate limit:  429 Resource exhausted. Please try again later. Please refer to https://cloud.google.com/vertex-ai/generative-ai/docs/error-code-429 for more details.\n",
      "Retry due to rate limit:  429 Resource exhausted. Please try again later. Please refer to https://cloud.google.com/vertex-ai/generative-ai/docs/error-code-429 for more details.\n",
      "Retry due to rate limit:  429 Resource exhausted. Please try again later. Please refer to https://cloud.google.com/vertex-ai/generative-ai/docs/error-code-429 for more details.\n",
      "Retry due to rate limit:  429 Resource exhausted. Please try again later. Please refer to https://cloud.google.com/vertex-ai/generative-ai/docs/error-code-429 for more details.\n",
      "Retry due to rate limit:  429 Resource exhausted. Please try again later. Please refer to https://cloud.google.com/vertex-ai/generative-ai/docs/error-code-429 for more details.\n",
      "Retry due to rate limit:  429 Resource exhausted. Please try again later. Please refer to https://cloud.google.com/vertex-ai/generative-ai/docs/error-code-429 for more details.\n",
      "Retry due to rate limit:  429 Resource exhausted. Please try again later. Please refer to https://cloud.google.com/vertex-ai/generative-ai/docs/error-code-429 for more details.\n",
      "Retry due to rate limit:  429 Resource exhausted. Please try again later. Please refer to https://cloud.google.com/vertex-ai/generative-ai/docs/error-code-429 for more details.\n",
      "Retry due to rate limit:  429 Resource exhausted. Please try again later. Please refer to https://cloud.google.com/vertex-ai/generative-ai/docs/error-code-429 for more details.\n",
      "Retry due to rate limit:  429 Resource exhausted. Please try again later. Please refer to https://cloud.google.com/vertex-ai/generative-ai/docs/error-code-429 for more details.\n",
      "Retry due to rate limit: Retry due to rate limit:   429 Resource exhausted. Please try again later. Please refer to https://cloud.google.com/vertex-ai/generative-ai/docs/error-code-429 for more details.429 Resource exhausted. Please try again later. Please refer to https://cloud.google.com/vertex-ai/generative-ai/docs/error-code-429 for more details.\n",
      "\n",
      "Retry due to rate limit:  429 Resource exhausted. Please try again later. Please refer to https://cloud.google.com/vertex-ai/generative-ai/docs/error-code-429 for more details.\n",
      "Retry due to rate limit:  429 Resource exhausted. Please try again later. Please refer to https://cloud.google.com/vertex-ai/generative-ai/docs/error-code-429 for more details.\n",
      "Retry due to rate limit:  429 Resource exhausted. Please try again later. Please refer to https://cloud.google.com/vertex-ai/generative-ai/docs/error-code-429 for more details.\n",
      "Retry due to rate limit:  429 Resource exhausted. Please try again later. Please refer to https://cloud.google.com/vertex-ai/generative-ai/docs/error-code-429 for more details.\n",
      "Retry due to rate limit:  429 Resource exhausted. Please try again later. Please refer to https://cloud.google.com/vertex-ai/generative-ai/docs/error-code-429 for more details.\n",
      "Retry due to rate limit:  429 Resource exhausted. Please try again later. Please refer to https://cloud.google.com/vertex-ai/generative-ai/docs/error-code-429 for more details.\n",
      "Retry due to rate limit:  429 Resource exhausted. Please try again later. Please refer to https://cloud.google.com/vertex-ai/generative-ai/docs/error-code-429 for more details.\n",
      "Retry due to rate limit:  429 Resource exhausted. Please try again later. Please refer to https://cloud.google.com/vertex-ai/generative-ai/docs/error-code-429 for more details.\n",
      "Retry due to rate limit:  429 Resource exhausted. Please try again later. Please refer to https://cloud.google.com/vertex-ai/generative-ai/docs/error-code-429 for more details.\n",
      "Retry due to rate limit:  429 Resource exhausted. Please try again later. Please refer to https://cloud.google.com/vertex-ai/generative-ai/docs/error-code-429 for more details.\n",
      "Retry due to rate limit:  429 Resource exhausted. Please try again later. Please refer to https://cloud.google.com/vertex-ai/generative-ai/docs/error-code-429 for more details.\n",
      "Retry due to rate limit:  429 Resource exhausted. Please try again later. Please refer to https://cloud.google.com/vertex-ai/generative-ai/docs/error-code-429 for more details.\n",
      "Retry due to rate limit:  429 Resource exhausted. Please try again later. Please refer to https://cloud.google.com/vertex-ai/generative-ai/docs/error-code-429 for more details.\n",
      "Retry due to rate limit:  429 Resource exhausted. Please try again later. Please refer to https://cloud.google.com/vertex-ai/generative-ai/docs/error-code-429 for more details.\n",
      "Retry due to rate limit:  429 Resource exhausted. Please try again later. Please refer to https://cloud.google.com/vertex-ai/generative-ai/docs/error-code-429 for more details.\n",
      "Retry due to rate limit:  429 Resource exhausted. Please try again later. Please refer to https://cloud.google.com/vertex-ai/generative-ai/docs/error-code-429 for more details.\n",
      "Retry due to rate limit:  429 Resource exhausted. Please try again later. Please refer to https://cloud.google.com/vertex-ai/generative-ai/docs/error-code-429 for more details.\n",
      "Retry due to rate limit:  429 Resource exhausted. Please try again later. Please refer to https://cloud.google.com/vertex-ai/generative-ai/docs/error-code-429 for more details.\n",
      "Retry due to rate limit:  429 Resource exhausted. Please try again later. Please refer to https://cloud.google.com/vertex-ai/generative-ai/docs/error-code-429 for more details.\n",
      "Retry due to rate limit:  429 Resource exhausted. Please try again later. Please refer to https://cloud.google.com/vertex-ai/generative-ai/docs/error-code-429 for more details.\n",
      "Retry due to rate limit: Retry due to rate limit:   429 Resource exhausted. Please try again later. Please refer to https://cloud.google.com/vertex-ai/generative-ai/docs/error-code-429 for more details.429 Resource exhausted. Please try again later. Please refer to https://cloud.google.com/vertex-ai/generative-ai/docs/error-code-429 for more details.\n",
      "\n",
      "Retry due to rate limit:  429 Resource exhausted. Please try again later. Please refer to https://cloud.google.com/vertex-ai/generative-ai/docs/error-code-429 for more details.\n",
      "Retry due to rate limit:  429 Resource exhausted. Please try again later. Please refer to https://cloud.google.com/vertex-ai/generative-ai/docs/error-code-429 for more details.\n",
      "Retry due to rate limit:  429 Resource exhausted. Please try again later. Please refer to https://cloud.google.com/vertex-ai/generative-ai/docs/error-code-429 for more details.\n",
      "Retry due to rate limit:  429 Resource exhausted. Please try again later. Please refer to https://cloud.google.com/vertex-ai/generative-ai/docs/error-code-429 for more details.\n",
      "Retry due to rate limit:  429 Resource exhausted. Please try again later. Please refer to https://cloud.google.com/vertex-ai/generative-ai/docs/error-code-429 for more details.\n",
      "Retry due to rate limit:  429 Resource exhausted. Please try again later. Please refer to https://cloud.google.com/vertex-ai/generative-ai/docs/error-code-429 for more details.\n",
      "Retry due to rate limit:  Retry due to rate limit: 429 Resource exhausted. Please try again later. Please refer to https://cloud.google.com/vertex-ai/generative-ai/docs/error-code-429 for more details. \n",
      "429 Resource exhausted. Please try again later. Please refer to https://cloud.google.com/vertex-ai/generative-ai/docs/error-code-429 for more details.\n",
      "Retry due to rate limit:  429 Resource exhausted. Please try again later. Please refer to https://cloud.google.com/vertex-ai/generative-ai/docs/error-code-429 for more details.\n",
      "Retry due to rate limit:  429 Resource exhausted. Please try again later. Please refer to https://cloud.google.com/vertex-ai/generative-ai/docs/error-code-429 for more details.\n",
      "Retry due to rate limit: Retry due to rate limit:   429 Resource exhausted. Please try again later. Please refer to https://cloud.google.com/vertex-ai/generative-ai/docs/error-code-429 for more details.429 Resource exhausted. Please try again later. Please refer to https://cloud.google.com/vertex-ai/generative-ai/docs/error-code-429 for more details.\n",
      "\n",
      "Retry due to rate limit:  429 Resource exhausted. Please try again later. Please refer to https://cloud.google.com/vertex-ai/generative-ai/docs/error-code-429 for more details.\n",
      "Retry due to rate limit:  Retry due to rate limit: 429 Resource exhausted. Please try again later. Please refer to https://cloud.google.com/vertex-ai/generative-ai/docs/error-code-429 for more details. \n",
      "429 Resource exhausted. Please try again later. Please refer to https://cloud.google.com/vertex-ai/generative-ai/docs/error-code-429 for more details.\n",
      "Retry due to rate limit:  429 Resource exhausted. Please try again later. Please refer to https://cloud.google.com/vertex-ai/generative-ai/docs/error-code-429 for more details.\n",
      "Retry due to rate limit:  429 Resource exhausted. Please try again later. Please refer to https://cloud.google.com/vertex-ai/generative-ai/docs/error-code-429 for more details.\n",
      "Retry due to rate limit:  Retry due to rate limit: 429 Resource exhausted. Please try again later. Please refer to https://cloud.google.com/vertex-ai/generative-ai/docs/error-code-429 for more details. \n",
      "429 Resource exhausted. Please try again later. Please refer to https://cloud.google.com/vertex-ai/generative-ai/docs/error-code-429 for more details.\n",
      "Retry due to rate limit:  429 Resource exhausted. Please try again later. Please refer to https://cloud.google.com/vertex-ai/generative-ai/docs/error-code-429 for more details.\n",
      "Retry due to rate limit:  429 Resource exhausted. Please try again later. Please refer to https://cloud.google.com/vertex-ai/generative-ai/docs/error-code-429 for more details.\n",
      "Retry due to rate limit:  429 Resource exhausted. Please try again later. Please refer to https://cloud.google.com/vertex-ai/generative-ai/docs/error-code-429 for more details.\n",
      "Retry due to rate limit: Retry due to rate limit:   429 Resource exhausted. Please try again later. Please refer to https://cloud.google.com/vertex-ai/generative-ai/docs/error-code-429 for more details.429 Resource exhausted. Please try again later. Please refer to https://cloud.google.com/vertex-ai/generative-ai/docs/error-code-429 for more details.\n",
      "\n",
      "Retry due to rate limit:  429 Resource exhausted. Please try again later. Please refer to https://cloud.google.com/vertex-ai/generative-ai/docs/error-code-429 for more details.\n",
      "Retry due to rate limit:  429 Resource exhausted. Please try again later. Please refer to https://cloud.google.com/vertex-ai/generative-ai/docs/error-code-429 for more details.\n",
      "Retry due to rate limit:  429 Resource exhausted. Please try again later. Please refer to https://cloud.google.com/vertex-ai/generative-ai/docs/error-code-429 for more details.\n",
      "Retry due to rate limit:  429 Resource exhausted. Please try again later. Please refer to https://cloud.google.com/vertex-ai/generative-ai/docs/error-code-429 for more details.\n",
      "Retry due to rate limit:  429 Resource exhausted. Please try again later. Please refer to https://cloud.google.com/vertex-ai/generative-ai/docs/error-code-429 for more details.\n",
      "Retry due to rate limit:  429 Resource exhausted. Please try again later. Please refer to https://cloud.google.com/vertex-ai/generative-ai/docs/error-code-429 for more details.\n",
      "Retry due to rate limit:  429 Resource exhausted. Please try again later. Please refer to https://cloud.google.com/vertex-ai/generative-ai/docs/error-code-429 for more details.\n",
      "Retry due to rate limit:  429 Resource exhausted. Please try again later. Please refer to https://cloud.google.com/vertex-ai/generative-ai/docs/error-code-429 for more details.\n",
      "Retry due to rate limit:  429 Resource exhausted. Please try again later. Please refer to https://cloud.google.com/vertex-ai/generative-ai/docs/error-code-429 for more details.\n",
      "Retry due to rate limit:  429 Resource exhausted. Please try again later. Please refer to https://cloud.google.com/vertex-ai/generative-ai/docs/error-code-429 for more details.Retry due to rate limit:  \n",
      "429 Resource exhausted. Please try again later. Please refer to https://cloud.google.com/vertex-ai/generative-ai/docs/error-code-429 for more details.\n",
      "Retry due to rate limit:  429 Resource exhausted. Please try again later. Please refer to https://cloud.google.com/vertex-ai/generative-ai/docs/error-code-429 for more details.\n",
      "Retry due to rate limit:  429 Resource exhausted. Please try again later. Please refer to https://cloud.google.com/vertex-ai/generative-ai/docs/error-code-429 for more details.\n",
      "Retry due to rate limit:  429 Resource exhausted. Please try again later. Please refer to https://cloud.google.com/vertex-ai/generative-ai/docs/error-code-429 for more details.\n",
      "Retry due to rate limit:  429 Resource exhausted. Please try again later. Please refer to https://cloud.google.com/vertex-ai/generative-ai/docs/error-code-429 for more details.\n",
      "Retry due to rate limit:  429 Resource exhausted. Please try again later. Please refer to https://cloud.google.com/vertex-ai/generative-ai/docs/error-code-429 for more details.\n",
      "Retry due to rate limit: Retry due to rate limit:   429 Resource exhausted. Please try again later. Please refer to https://cloud.google.com/vertex-ai/generative-ai/docs/error-code-429 for more details.429 Resource exhausted. Please try again later. Please refer to https://cloud.google.com/vertex-ai/generative-ai/docs/error-code-429 for more details.\n",
      "\n",
      "Retry due to rate limit:  429 Resource exhausted. Please try again later. Please refer to https://cloud.google.com/vertex-ai/generative-ai/docs/error-code-429 for more details.\n",
      "Retry due to rate limit:  429 Resource exhausted. Please try again later. Please refer to https://cloud.google.com/vertex-ai/generative-ai/docs/error-code-429 for more details.\n",
      "Retry due to rate limit:  429 Resource exhausted. Please try again later. Please refer to https://cloud.google.com/vertex-ai/generative-ai/docs/error-code-429 for more details.\n",
      "Retry due to rate limit:  429 Resource exhausted. Please try again later. Please refer to https://cloud.google.com/vertex-ai/generative-ai/docs/error-code-429 for more details.\n",
      "Retry due to rate limit:  429 Resource exhausted. Please try again later. Please refer to https://cloud.google.com/vertex-ai/generative-ai/docs/error-code-429 for more details.\n",
      "Retry due to rate limit: Retry due to rate limit:   429 Resource exhausted. Please try again later. Please refer to https://cloud.google.com/vertex-ai/generative-ai/docs/error-code-429 for more details.429 Resource exhausted. Please try again later. Please refer to https://cloud.google.com/vertex-ai/generative-ai/docs/error-code-429 for more details.\n",
      "Retry due to rate limit: Retry due to rate limit: \n",
      "  429 Resource exhausted. Please try again later. Please refer to https://cloud.google.com/vertex-ai/generative-ai/docs/error-code-429 for more details.429 Resource exhausted. Please try again later. Please refer to https://cloud.google.com/vertex-ai/generative-ai/docs/error-code-429 for more details.\n",
      "\n",
      "Retry due to rate limit:  429 Resource exhausted. Please try again later. Please refer to https://cloud.google.com/vertex-ai/generative-ai/docs/error-code-429 for more details.\n",
      "Retry due to rate limit:  429 Resource exhausted. Please try again later. Please refer to https://cloud.google.com/vertex-ai/generative-ai/docs/error-code-429 for more details.\n",
      "Retry due to rate limit:  429 Resource exhausted. Please try again later. Please refer to https://cloud.google.com/vertex-ai/generative-ai/docs/error-code-429 for more details.\n",
      "Retry due to rate limit: Retry due to rate limit:   429 Resource exhausted. Please try again later. Please refer to https://cloud.google.com/vertex-ai/generative-ai/docs/error-code-429 for more details.429 Resource exhausted. Please try again later. Please refer to https://cloud.google.com/vertex-ai/generative-ai/docs/error-code-429 for more details.\n",
      "\n",
      "Retry due to rate limit:  429 Resource exhausted. Please try again later. Please refer to https://cloud.google.com/vertex-ai/generative-ai/docs/error-code-429 for more details.\n",
      "Retry due to rate limit:  429 Resource exhausted. Please try again later. Please refer to https://cloud.google.com/vertex-ai/generative-ai/docs/error-code-429 for more details.\n",
      "Retry due to rate limit:  429 Resource exhausted. Please try again later. Please refer to https://cloud.google.com/vertex-ai/generative-ai/docs/error-code-429 for more details.\n",
      "Retry due to rate limit:  429 Resource exhausted. Please try again later. Please refer to https://cloud.google.com/vertex-ai/generative-ai/docs/error-code-429 for more details.\n",
      "Retry due to rate limit:  429 Resource exhausted. Please try again later. Please refer to https://cloud.google.com/vertex-ai/generative-ai/docs/error-code-429 for more details.\n",
      "Retry due to rate limit:  429 Resource exhausted. Please try again later. Please refer to https://cloud.google.com/vertex-ai/generative-ai/docs/error-code-429 for more details.Retry due to rate limit: \n",
      " 429 Resource exhausted. Please try again later. Please refer to https://cloud.google.com/vertex-ai/generative-ai/docs/error-code-429 for more details.Retry due to rate limit: \n",
      " 429 Resource exhausted. Please try again later. Please refer to https://cloud.google.com/vertex-ai/generative-ai/docs/error-code-429 for more details.\n",
      "Retry due to rate limit:  429 Resource exhausted. Please try again later. Please refer to https://cloud.google.com/vertex-ai/generative-ai/docs/error-code-429 for more details.\n",
      "Retry due to rate limit:  429 Resource exhausted. Please try again later. Please refer to https://cloud.google.com/vertex-ai/generative-ai/docs/error-code-429 for more details.\n",
      "Retry due to rate limit:  429 Resource exhausted. Please try again later. Please refer to https://cloud.google.com/vertex-ai/generative-ai/docs/error-code-429 for more details.\n",
      "Retry due to rate limit:  429 Resource exhausted. Please try again later. Please refer to https://cloud.google.com/vertex-ai/generative-ai/docs/error-code-429 for more details.\n",
      "Retry due to rate limit: Retry due to rate limit:   429 Resource exhausted. Please try again later. Please refer to https://cloud.google.com/vertex-ai/generative-ai/docs/error-code-429 for more details.429 Resource exhausted. Please try again later. Please refer to https://cloud.google.com/vertex-ai/generative-ai/docs/error-code-429 for more details.\n",
      "\n",
      "Retry due to rate limit:  429 Resource exhausted. Please try again later. Please refer to https://cloud.google.com/vertex-ai/generative-ai/docs/error-code-429 for more details.\n",
      "Retry due to rate limit:  429 Resource exhausted. Please try again later. Please refer to https://cloud.google.com/vertex-ai/generative-ai/docs/error-code-429 for more details.\n",
      "3\n",
      " Provide at least two different arguments that could justify the interest of the Central Bank of the Russian Federation in using the described loyalty program. Justify your assumptions.\n",
      "\n",
      "Provide at least two different arguments justifying the benefits for banks whose clients' cards participate in such a loyalty program. Justify your assumptions.\n",
      "\n",
      "Why do you think that despite the wide range of various bonuses for customers and a large number of participating companies, the payment system requires registration of the \"Mir\" cards? Why not provide the ability for all holders of this payment system's cards to receive these bonuses? Justify your assumptions using economic arguments.\n",
      "3\n",
      " \n",
      "(a) To which class (type) of goods (services) can the described service (complete apartment renovation) be attributed? Explain why. What are the characteristics that it has (as opposed to typical consumer goods and services)? Explain.\n",
      "\n",
      "(b) The decision between a private repair crew and a construction company was difficult for the family. Give two economically reasoned arguments \"for\" and \"against\" using a construction company or a private repair crew to carry out the planned renovation. (Note: if you provide more than two arguments \"for\" or \"against,\" only the first two of each pair will be evaluated).\n",
      "3\n",
      " In the convex pentagon \\(ABCDE\\), the angles \\(\\angle CAB\\) and \\(\\angle BCA\\) are equal. The midpoint of \\(BD\\) lies on \\(CE\\).\n"
     ]
    },
    {
     "name": "stderr",
     "output_type": "stream",
     "text": [
      "Processing entries: 100%|██████████| 102270/102270 [00:00<00:00, 104646.63it/s]\n"
     ]
    }
   ],
   "source": [
    "# Filter for non-proof problems.\n",
    "import concurrent.futures\n",
    "from rllm.utils import call_gemini_llm\n",
    "from rllm.system_prompts import PROOF_PROMPT\n",
    "\n",
    "def process_entry(entry):\n",
    "    output_dict = {}\n",
    "    # 1) Get the problem text\n",
    "    problem_text = entry['problem']\n",
    "    solution_text = entry['solution']\n",
    "    # 2) Call Gemini LLM\n",
    "    output_str = call_gemini_llm(f'Problem: {problem_text} \\n\\n Solution: {solution_text}', system_prompt=PROOF_PROMPT)\n",
    "    if not output_str:\n",
    "        print(\"Gemini not happy.\")\n",
    "        return None\n",
    "    if '2' in output_str:\n",
    "        output_dict['problem'] = entry['problem']\n",
    "        output_dict['solution'] = entry['solution']\n",
    "        return {\n",
    "            'problem': entry['problem'],\n",
    "            'solution': entry['solution'],\n",
    "        }\n",
    "    else:\n",
    "        if '3' in output_str:\n",
    "            print(output_str, entry['problem'])\n",
    "    return output_dict\n",
    "\n",
    "# Suppose `olympiad` is your list of dictionaries\n",
    "subset = olympiad  \n",
    "results = []\n",
    "\n",
    "with concurrent.futures.ProcessPoolExecutor(max_workers=48) as executor:\n",
    "    # 1) Submit all jobs to the executor\n",
    "    futures = [executor.submit(process_entry, entry) for entry in subset]\n",
    "\n",
    "# 2) Process them as they complete, using tqdm for a progress bar\n",
    "for future in tqdm(as_completed(futures), total=len(futures), desc=\"Processing entries\"):\n",
    "    # Get the result for each completed future\n",
    "    result = future.result()\n",
    "    if result:\n",
    "        results.append(result)\n",
    "\n",
    "\n",
    "# Save final list as json\n",
    "with open(\"olympiad_processed.json\", \"w\") as f:\n",
    "    json.dump(results, f, indent=2)"
   ]
  },
  {
   "cell_type": "code",
   "execution_count": 1,
   "metadata": {},
   "outputs": [
    {
     "name": "stderr",
     "output_type": "stream",
     "text": [
      "/opt/conda/envs/rllm/lib/python3.10/site-packages/tqdm/auto.py:21: TqdmWarning: IProgress not found. Please update jupyter and ipywidgets. See https://ipywidgets.readthedocs.io/en/stable/user_install.html\n",
      "  from .autonotebook import tqdm as notebook_tqdm\n"
     ]
    }
   ],
   "source": [
    "from rllm.utils import RAG\n",
    "import json\n",
    "\n",
    "with open(\"numina_olympiad.json\", 'r', encoding='utf-8') as f:\n",
    "    olympiad_data = json.load(f)\n",
    "\n",
    "with open(\"../raw/train/omni_math.json\", 'r', encoding='utf-8') as f:\n",
    "    omni_data = json.load(f)\n",
    "\n",
    "rag_searcher = RAG(docs=[d[\"problem\"] for d in omni_data])"
   ]
  },
  {
   "cell_type": "code",
   "execution_count": 2,
   "metadata": {},
   "outputs": [
    {
     "name": "stderr",
     "output_type": "stream",
     "text": [
      "Filtering olympiad data:   1%|          | 1016/102125 [00:07<12:49, 131.44it/s]"
     ]
    },
    {
     "name": "stdout",
     "output_type": "stream",
     "text": [
      "1000\n"
     ]
    },
    {
     "name": "stderr",
     "output_type": "stream",
     "text": [
      "Filtering olympiad data:   2%|▏         | 2021/102125 [00:15<12:46, 130.56it/s]"
     ]
    },
    {
     "name": "stdout",
     "output_type": "stream",
     "text": [
      "2000\n"
     ]
    },
    {
     "name": "stderr",
     "output_type": "stream",
     "text": [
      "Filtering olympiad data:   3%|▎         | 3015/102125 [00:23<12:37, 130.76it/s]"
     ]
    },
    {
     "name": "stdout",
     "output_type": "stream",
     "text": [
      "3000\n"
     ]
    },
    {
     "name": "stderr",
     "output_type": "stream",
     "text": [
      "Filtering olympiad data:   4%|▍         | 4023/102125 [00:30<12:26, 131.48it/s]"
     ]
    },
    {
     "name": "stdout",
     "output_type": "stream",
     "text": [
      "4000\n"
     ]
    },
    {
     "name": "stderr",
     "output_type": "stream",
     "text": [
      "Filtering olympiad data:   5%|▍         | 5017/102125 [00:38<12:16, 131.78it/s]"
     ]
    },
    {
     "name": "stdout",
     "output_type": "stream",
     "text": [
      "5000\n"
     ]
    },
    {
     "name": "stderr",
     "output_type": "stream",
     "text": [
      "Filtering olympiad data:   6%|▌         | 6025/102125 [00:46<12:07, 132.02it/s]"
     ]
    },
    {
     "name": "stdout",
     "output_type": "stream",
     "text": [
      "6000\n"
     ]
    },
    {
     "name": "stderr",
     "output_type": "stream",
     "text": [
      "Filtering olympiad data:   7%|▋         | 7019/102125 [00:53<11:59, 132.16it/s]"
     ]
    },
    {
     "name": "stdout",
     "output_type": "stream",
     "text": [
      "7000\n"
     ]
    },
    {
     "name": "stderr",
     "output_type": "stream",
     "text": [
      "Filtering olympiad data:   8%|▊         | 8027/102125 [01:01<11:46, 133.16it/s]"
     ]
    },
    {
     "name": "stdout",
     "output_type": "stream",
     "text": [
      "8000\n"
     ]
    },
    {
     "name": "stderr",
     "output_type": "stream",
     "text": [
      "Filtering olympiad data:   9%|▉         | 9021/102125 [01:08<11:41, 132.69it/s]"
     ]
    },
    {
     "name": "stdout",
     "output_type": "stream",
     "text": [
      "9000\n"
     ]
    },
    {
     "name": "stderr",
     "output_type": "stream",
     "text": [
      "Filtering olympiad data:  10%|▉         | 10015/102125 [01:16<11:33, 132.81it/s]"
     ]
    },
    {
     "name": "stdout",
     "output_type": "stream",
     "text": [
      "10000\n"
     ]
    },
    {
     "name": "stderr",
     "output_type": "stream",
     "text": [
      "Filtering olympiad data:  11%|█         | 11023/102125 [01:24<11:25, 132.84it/s]"
     ]
    },
    {
     "name": "stdout",
     "output_type": "stream",
     "text": [
      "11000\n"
     ]
    },
    {
     "name": "stderr",
     "output_type": "stream",
     "text": [
      "Filtering olympiad data:  12%|█▏        | 12017/102125 [01:31<11:19, 132.60it/s]"
     ]
    },
    {
     "name": "stdout",
     "output_type": "stream",
     "text": [
      "12000\n"
     ]
    },
    {
     "name": "stderr",
     "output_type": "stream",
     "text": [
      "Filtering olympiad data:  13%|█▎        | 13025/102125 [01:39<11:14, 132.12it/s]"
     ]
    },
    {
     "name": "stdout",
     "output_type": "stream",
     "text": [
      "13000\n"
     ]
    },
    {
     "name": "stderr",
     "output_type": "stream",
     "text": [
      "Filtering olympiad data:  14%|█▎        | 14019/102125 [01:46<11:07, 132.05it/s]"
     ]
    },
    {
     "name": "stdout",
     "output_type": "stream",
     "text": [
      "14000\n"
     ]
    },
    {
     "name": "stderr",
     "output_type": "stream",
     "text": [
      "Filtering olympiad data:  15%|█▍        | 15013/102125 [01:54<11:00, 131.93it/s]"
     ]
    },
    {
     "name": "stdout",
     "output_type": "stream",
     "text": [
      "15000\n"
     ]
    },
    {
     "name": "stderr",
     "output_type": "stream",
     "text": [
      "Filtering olympiad data:  16%|█▌        | 16021/102125 [02:01<10:51, 132.10it/s]"
     ]
    },
    {
     "name": "stdout",
     "output_type": "stream",
     "text": [
      "16000\n"
     ]
    },
    {
     "name": "stderr",
     "output_type": "stream",
     "text": [
      "Filtering olympiad data:  17%|█▋        | 17015/102125 [02:09<10:42, 132.38it/s]"
     ]
    },
    {
     "name": "stdout",
     "output_type": "stream",
     "text": [
      "17000\n"
     ]
    },
    {
     "name": "stderr",
     "output_type": "stream",
     "text": [
      "Filtering olympiad data:  18%|█▊        | 18023/102125 [02:17<10:38, 131.76it/s]"
     ]
    },
    {
     "name": "stdout",
     "output_type": "stream",
     "text": [
      "18000\n"
     ]
    },
    {
     "name": "stderr",
     "output_type": "stream",
     "text": [
      "Filtering olympiad data:  19%|█▊        | 19017/102125 [02:24<10:28, 132.30it/s]"
     ]
    },
    {
     "name": "stdout",
     "output_type": "stream",
     "text": [
      "19000\n"
     ]
    },
    {
     "name": "stderr",
     "output_type": "stream",
     "text": [
      "Filtering olympiad data:  20%|█▉        | 20025/102125 [02:32<10:24, 131.38it/s]"
     ]
    },
    {
     "name": "stdout",
     "output_type": "stream",
     "text": [
      "20000\n"
     ]
    },
    {
     "name": "stderr",
     "output_type": "stream",
     "text": [
      "Filtering olympiad data:  21%|██        | 21019/102125 [02:39<10:13, 132.11it/s]"
     ]
    },
    {
     "name": "stdout",
     "output_type": "stream",
     "text": [
      "21000\n"
     ]
    },
    {
     "name": "stderr",
     "output_type": "stream",
     "text": [
      "Filtering olympiad data:  22%|██▏       | 22013/102125 [02:47<10:06, 132.10it/s]"
     ]
    },
    {
     "name": "stdout",
     "output_type": "stream",
     "text": [
      "22000\n"
     ]
    },
    {
     "name": "stderr",
     "output_type": "stream",
     "text": [
      "Filtering olympiad data:  23%|██▎       | 23021/102125 [02:55<09:59, 131.91it/s]"
     ]
    },
    {
     "name": "stdout",
     "output_type": "stream",
     "text": [
      "23000\n"
     ]
    },
    {
     "name": "stderr",
     "output_type": "stream",
     "text": [
      "Filtering olympiad data:  24%|██▎       | 24015/102125 [03:02<09:51, 132.12it/s]"
     ]
    },
    {
     "name": "stdout",
     "output_type": "stream",
     "text": [
      "24000\n"
     ]
    },
    {
     "name": "stderr",
     "output_type": "stream",
     "text": [
      "Filtering olympiad data:  25%|██▍       | 25023/102125 [03:10<09:43, 132.22it/s]"
     ]
    },
    {
     "name": "stdout",
     "output_type": "stream",
     "text": [
      "25000\n"
     ]
    },
    {
     "name": "stderr",
     "output_type": "stream",
     "text": [
      "Filtering olympiad data:  25%|██▌       | 26017/102125 [03:17<09:37, 131.78it/s]"
     ]
    },
    {
     "name": "stdout",
     "output_type": "stream",
     "text": [
      "26000\n"
     ]
    },
    {
     "name": "stderr",
     "output_type": "stream",
     "text": [
      "Filtering olympiad data:  26%|██▋       | 27025/102125 [03:25<09:29, 131.80it/s]"
     ]
    },
    {
     "name": "stdout",
     "output_type": "stream",
     "text": [
      "27000\n"
     ]
    },
    {
     "name": "stderr",
     "output_type": "stream",
     "text": [
      "Filtering olympiad data:  27%|██▋       | 28019/102125 [03:32<09:19, 132.56it/s]"
     ]
    },
    {
     "name": "stdout",
     "output_type": "stream",
     "text": [
      "28000\n"
     ]
    },
    {
     "name": "stderr",
     "output_type": "stream",
     "text": [
      "Filtering olympiad data:  28%|██▊       | 29027/102125 [03:40<09:07, 133.61it/s]"
     ]
    },
    {
     "name": "stdout",
     "output_type": "stream",
     "text": [
      "29000\n"
     ]
    },
    {
     "name": "stderr",
     "output_type": "stream",
     "text": [
      "Filtering olympiad data:  29%|██▉       | 30021/102125 [03:48<09:08, 131.48it/s]"
     ]
    },
    {
     "name": "stdout",
     "output_type": "stream",
     "text": [
      "30000\n"
     ]
    },
    {
     "name": "stderr",
     "output_type": "stream",
     "text": [
      "Filtering olympiad data:  30%|███       | 31015/102125 [03:55<09:00, 131.59it/s]"
     ]
    },
    {
     "name": "stdout",
     "output_type": "stream",
     "text": [
      "31000\n"
     ]
    },
    {
     "name": "stderr",
     "output_type": "stream",
     "text": [
      "Filtering olympiad data:  31%|███▏      | 32023/102125 [04:03<08:50, 132.27it/s]"
     ]
    },
    {
     "name": "stdout",
     "output_type": "stream",
     "text": [
      "32000\n"
     ]
    },
    {
     "name": "stderr",
     "output_type": "stream",
     "text": [
      "Filtering olympiad data:  32%|███▏      | 33017/102125 [04:10<08:42, 132.27it/s]"
     ]
    },
    {
     "name": "stdout",
     "output_type": "stream",
     "text": [
      "33000\n"
     ]
    },
    {
     "name": "stderr",
     "output_type": "stream",
     "text": [
      "Filtering olympiad data:  33%|███▎      | 34025/102125 [04:18<08:36, 131.95it/s]"
     ]
    },
    {
     "name": "stdout",
     "output_type": "stream",
     "text": [
      "34000\n"
     ]
    },
    {
     "name": "stderr",
     "output_type": "stream",
     "text": [
      "Filtering olympiad data:  34%|███▍      | 35019/102125 [04:25<08:26, 132.51it/s]"
     ]
    },
    {
     "name": "stdout",
     "output_type": "stream",
     "text": [
      "35000\n"
     ]
    },
    {
     "name": "stderr",
     "output_type": "stream",
     "text": [
      "Filtering olympiad data:  35%|███▌      | 36013/102125 [04:33<08:19, 132.47it/s]"
     ]
    },
    {
     "name": "stdout",
     "output_type": "stream",
     "text": [
      "36000\n"
     ]
    },
    {
     "name": "stderr",
     "output_type": "stream",
     "text": [
      "Filtering olympiad data:  36%|███▋      | 37021/102125 [04:41<08:11, 132.45it/s]"
     ]
    },
    {
     "name": "stdout",
     "output_type": "stream",
     "text": [
      "37000\n"
     ]
    },
    {
     "name": "stderr",
     "output_type": "stream",
     "text": [
      "Filtering olympiad data:  37%|███▋      | 38015/102125 [04:48<08:08, 131.15it/s]"
     ]
    },
    {
     "name": "stdout",
     "output_type": "stream",
     "text": [
      "38000\n"
     ]
    },
    {
     "name": "stderr",
     "output_type": "stream",
     "text": [
      "Filtering olympiad data:  38%|███▊      | 39023/102125 [04:56<07:57, 132.08it/s]"
     ]
    },
    {
     "name": "stdout",
     "output_type": "stream",
     "text": [
      "39000\n"
     ]
    },
    {
     "name": "stderr",
     "output_type": "stream",
     "text": [
      "Filtering olympiad data:  39%|███▉      | 40017/102125 [05:03<07:48, 132.60it/s]"
     ]
    },
    {
     "name": "stdout",
     "output_type": "stream",
     "text": [
      "40000\n"
     ]
    },
    {
     "name": "stderr",
     "output_type": "stream",
     "text": [
      "Filtering olympiad data:  40%|████      | 41025/102125 [05:11<07:44, 131.52it/s]"
     ]
    },
    {
     "name": "stdout",
     "output_type": "stream",
     "text": [
      "41000\n"
     ]
    },
    {
     "name": "stderr",
     "output_type": "stream",
     "text": [
      "Filtering olympiad data:  41%|████      | 42018/102125 [05:18<08:36, 116.48it/s]"
     ]
    },
    {
     "name": "stdout",
     "output_type": "stream",
     "text": [
      "42000\n"
     ]
    },
    {
     "name": "stderr",
     "output_type": "stream",
     "text": [
      "Filtering olympiad data:  42%|████▏     | 43026/102125 [05:26<07:29, 131.38it/s]"
     ]
    },
    {
     "name": "stdout",
     "output_type": "stream",
     "text": [
      "43000\n"
     ]
    },
    {
     "name": "stderr",
     "output_type": "stream",
     "text": [
      "Filtering olympiad data:  43%|████▎     | 44020/102125 [05:34<07:19, 132.30it/s]"
     ]
    },
    {
     "name": "stdout",
     "output_type": "stream",
     "text": [
      "44000\n"
     ]
    },
    {
     "name": "stderr",
     "output_type": "stream",
     "text": [
      "Filtering olympiad data:  44%|████▍     | 45014/102125 [05:41<07:11, 132.23it/s]"
     ]
    },
    {
     "name": "stdout",
     "output_type": "stream",
     "text": [
      "45000\n"
     ]
    },
    {
     "name": "stderr",
     "output_type": "stream",
     "text": [
      "Filtering olympiad data:  45%|████▌     | 46022/102125 [05:49<07:02, 132.73it/s]"
     ]
    },
    {
     "name": "stdout",
     "output_type": "stream",
     "text": [
      "46000\n"
     ]
    },
    {
     "name": "stderr",
     "output_type": "stream",
     "text": [
      "Filtering olympiad data:  46%|████▌     | 47016/102125 [05:56<06:56, 132.21it/s]"
     ]
    },
    {
     "name": "stdout",
     "output_type": "stream",
     "text": [
      "47000\n"
     ]
    },
    {
     "name": "stderr",
     "output_type": "stream",
     "text": [
      "Filtering olympiad data:  47%|████▋     | 48024/102125 [06:04<06:48, 132.57it/s]"
     ]
    },
    {
     "name": "stdout",
     "output_type": "stream",
     "text": [
      "48000\n"
     ]
    },
    {
     "name": "stderr",
     "output_type": "stream",
     "text": [
      "Filtering olympiad data:  48%|████▊     | 49018/102125 [06:11<06:40, 132.57it/s]"
     ]
    },
    {
     "name": "stdout",
     "output_type": "stream",
     "text": [
      "49000\n"
     ]
    },
    {
     "name": "stderr",
     "output_type": "stream",
     "text": [
      "Filtering olympiad data:  49%|████▉     | 50026/102125 [06:19<06:33, 132.37it/s]"
     ]
    },
    {
     "name": "stdout",
     "output_type": "stream",
     "text": [
      "50000\n"
     ]
    },
    {
     "name": "stderr",
     "output_type": "stream",
     "text": [
      "Filtering olympiad data:  50%|████▉     | 51020/102125 [06:27<06:25, 132.47it/s]"
     ]
    },
    {
     "name": "stdout",
     "output_type": "stream",
     "text": [
      "51000\n"
     ]
    },
    {
     "name": "stderr",
     "output_type": "stream",
     "text": [
      "Filtering olympiad data:  51%|█████     | 52014/102125 [06:34<06:17, 132.67it/s]"
     ]
    },
    {
     "name": "stdout",
     "output_type": "stream",
     "text": [
      "52000\n"
     ]
    },
    {
     "name": "stderr",
     "output_type": "stream",
     "text": [
      "Filtering olympiad data:  52%|█████▏    | 53022/102125 [06:42<06:11, 132.13it/s]"
     ]
    },
    {
     "name": "stdout",
     "output_type": "stream",
     "text": [
      "53000\n"
     ]
    },
    {
     "name": "stderr",
     "output_type": "stream",
     "text": [
      "Filtering olympiad data:  53%|█████▎    | 54016/102125 [06:49<06:00, 133.35it/s]"
     ]
    },
    {
     "name": "stdout",
     "output_type": "stream",
     "text": [
      "54000\n"
     ]
    },
    {
     "name": "stderr",
     "output_type": "stream",
     "text": [
      "Filtering olympiad data:  54%|█████▍    | 55024/102125 [06:57<05:54, 132.78it/s]"
     ]
    },
    {
     "name": "stdout",
     "output_type": "stream",
     "text": [
      "55000\n"
     ]
    },
    {
     "name": "stderr",
     "output_type": "stream",
     "text": [
      "Filtering olympiad data:  55%|█████▍    | 56018/102125 [07:04<05:48, 132.48it/s]"
     ]
    },
    {
     "name": "stdout",
     "output_type": "stream",
     "text": [
      "56000\n"
     ]
    },
    {
     "name": "stderr",
     "output_type": "stream",
     "text": [
      "Filtering olympiad data:  56%|█████▌    | 57026/102125 [07:12<05:39, 132.88it/s]"
     ]
    },
    {
     "name": "stdout",
     "output_type": "stream",
     "text": [
      "57000\n"
     ]
    },
    {
     "name": "stderr",
     "output_type": "stream",
     "text": [
      "Filtering olympiad data:  57%|█████▋    | 58020/102125 [07:19<05:30, 133.55it/s]"
     ]
    },
    {
     "name": "stdout",
     "output_type": "stream",
     "text": [
      "58000\n"
     ]
    },
    {
     "name": "stderr",
     "output_type": "stream",
     "text": [
      "Filtering olympiad data:  58%|█████▊    | 59014/102125 [07:27<05:24, 132.95it/s]"
     ]
    },
    {
     "name": "stdout",
     "output_type": "stream",
     "text": [
      "59000\n"
     ]
    },
    {
     "name": "stderr",
     "output_type": "stream",
     "text": [
      "Filtering olympiad data:  59%|█████▉    | 60022/102125 [07:35<05:18, 132.22it/s]"
     ]
    },
    {
     "name": "stdout",
     "output_type": "stream",
     "text": [
      "60000\n"
     ]
    },
    {
     "name": "stderr",
     "output_type": "stream",
     "text": [
      "Filtering olympiad data:  60%|█████▉    | 61016/102125 [07:42<05:10, 132.35it/s]"
     ]
    },
    {
     "name": "stdout",
     "output_type": "stream",
     "text": [
      "61000\n"
     ]
    },
    {
     "name": "stderr",
     "output_type": "stream",
     "text": [
      "Filtering olympiad data:  61%|██████    | 62024/102125 [07:50<05:04, 131.74it/s]"
     ]
    },
    {
     "name": "stdout",
     "output_type": "stream",
     "text": [
      "62000\n"
     ]
    },
    {
     "name": "stderr",
     "output_type": "stream",
     "text": [
      "Filtering olympiad data:  62%|██████▏   | 63018/102125 [07:57<04:55, 132.40it/s]"
     ]
    },
    {
     "name": "stdout",
     "output_type": "stream",
     "text": [
      "63000\n"
     ]
    },
    {
     "name": "stderr",
     "output_type": "stream",
     "text": [
      "Filtering olympiad data:  63%|██████▎   | 64026/102125 [08:05<04:47, 132.71it/s]"
     ]
    },
    {
     "name": "stdout",
     "output_type": "stream",
     "text": [
      "64000\n"
     ]
    },
    {
     "name": "stderr",
     "output_type": "stream",
     "text": [
      "Filtering olympiad data:  64%|██████▎   | 65020/102125 [08:12<04:40, 132.33it/s]"
     ]
    },
    {
     "name": "stdout",
     "output_type": "stream",
     "text": [
      "65000\n"
     ]
    },
    {
     "name": "stderr",
     "output_type": "stream",
     "text": [
      "Filtering olympiad data:  65%|██████▍   | 66014/102125 [08:20<04:31, 132.97it/s]"
     ]
    },
    {
     "name": "stdout",
     "output_type": "stream",
     "text": [
      "66000\n"
     ]
    },
    {
     "name": "stderr",
     "output_type": "stream",
     "text": [
      "Filtering olympiad data:  66%|██████▌   | 67021/102125 [08:28<04:24, 132.94it/s]"
     ]
    },
    {
     "name": "stdout",
     "output_type": "stream",
     "text": [
      "67000\n"
     ]
    },
    {
     "name": "stderr",
     "output_type": "stream",
     "text": [
      "Filtering olympiad data:  67%|██████▋   | 68015/102125 [08:35<04:20, 130.81it/s]"
     ]
    },
    {
     "name": "stdout",
     "output_type": "stream",
     "text": [
      "68000\n"
     ]
    },
    {
     "name": "stderr",
     "output_type": "stream",
     "text": [
      "Filtering olympiad data:  68%|██████▊   | 69023/102125 [08:43<04:09, 132.66it/s]"
     ]
    },
    {
     "name": "stdout",
     "output_type": "stream",
     "text": [
      "69000\n"
     ]
    },
    {
     "name": "stderr",
     "output_type": "stream",
     "text": [
      "Filtering olympiad data:  69%|██████▊   | 70017/102125 [08:50<04:02, 132.46it/s]"
     ]
    },
    {
     "name": "stdout",
     "output_type": "stream",
     "text": [
      "70000\n"
     ]
    },
    {
     "name": "stderr",
     "output_type": "stream",
     "text": [
      "Filtering olympiad data:  70%|██████▉   | 71025/102125 [08:58<03:50, 134.84it/s]"
     ]
    },
    {
     "name": "stdout",
     "output_type": "stream",
     "text": [
      "71000\n"
     ]
    },
    {
     "name": "stderr",
     "output_type": "stream",
     "text": [
      "Filtering olympiad data:  71%|███████   | 72019/102125 [09:05<03:47, 132.09it/s]"
     ]
    },
    {
     "name": "stdout",
     "output_type": "stream",
     "text": [
      "72000\n"
     ]
    },
    {
     "name": "stderr",
     "output_type": "stream",
     "text": [
      "Filtering olympiad data:  71%|███████▏  | 73013/102125 [09:13<03:40, 131.85it/s]"
     ]
    },
    {
     "name": "stdout",
     "output_type": "stream",
     "text": [
      "73000\n"
     ]
    },
    {
     "name": "stderr",
     "output_type": "stream",
     "text": [
      "Filtering olympiad data:  72%|███████▏  | 74021/102125 [09:20<03:31, 132.70it/s]"
     ]
    },
    {
     "name": "stdout",
     "output_type": "stream",
     "text": [
      "74000\n"
     ]
    },
    {
     "name": "stderr",
     "output_type": "stream",
     "text": [
      "Filtering olympiad data:  73%|███████▎  | 75015/102125 [09:28<03:26, 131.53it/s]"
     ]
    },
    {
     "name": "stdout",
     "output_type": "stream",
     "text": [
      "75000\n"
     ]
    },
    {
     "name": "stderr",
     "output_type": "stream",
     "text": [
      "Filtering olympiad data:  74%|███████▍  | 76023/102125 [09:36<03:18, 131.47it/s]"
     ]
    },
    {
     "name": "stdout",
     "output_type": "stream",
     "text": [
      "76000\n"
     ]
    },
    {
     "name": "stderr",
     "output_type": "stream",
     "text": [
      "Filtering olympiad data:  75%|███████▌  | 77017/102125 [09:43<03:09, 132.65it/s]"
     ]
    },
    {
     "name": "stdout",
     "output_type": "stream",
     "text": [
      "77000\n"
     ]
    },
    {
     "name": "stderr",
     "output_type": "stream",
     "text": [
      "Filtering olympiad data:  76%|███████▋  | 78025/102125 [09:51<03:01, 132.65it/s]"
     ]
    },
    {
     "name": "stdout",
     "output_type": "stream",
     "text": [
      "78000\n"
     ]
    },
    {
     "name": "stderr",
     "output_type": "stream",
     "text": [
      "Filtering olympiad data:  77%|███████▋  | 79019/102125 [09:58<02:53, 132.80it/s]"
     ]
    },
    {
     "name": "stdout",
     "output_type": "stream",
     "text": [
      "79000\n"
     ]
    },
    {
     "name": "stderr",
     "output_type": "stream",
     "text": [
      "Filtering olympiad data:  78%|███████▊  | 80013/102125 [10:06<02:47, 132.22it/s]"
     ]
    },
    {
     "name": "stdout",
     "output_type": "stream",
     "text": [
      "80000\n"
     ]
    },
    {
     "name": "stderr",
     "output_type": "stream",
     "text": [
      "Filtering olympiad data:  79%|███████▉  | 81021/102125 [10:13<02:40, 131.63it/s]"
     ]
    },
    {
     "name": "stdout",
     "output_type": "stream",
     "text": [
      "81000\n"
     ]
    },
    {
     "name": "stderr",
     "output_type": "stream",
     "text": [
      "Filtering olympiad data:  80%|████████  | 82015/102125 [10:21<02:31, 132.79it/s]"
     ]
    },
    {
     "name": "stdout",
     "output_type": "stream",
     "text": [
      "82000\n"
     ]
    },
    {
     "name": "stderr",
     "output_type": "stream",
     "text": [
      "Filtering olympiad data:  81%|████████▏ | 83023/102125 [10:29<02:23, 132.75it/s]"
     ]
    },
    {
     "name": "stdout",
     "output_type": "stream",
     "text": [
      "83000\n"
     ]
    },
    {
     "name": "stderr",
     "output_type": "stream",
     "text": [
      "Filtering olympiad data:  82%|████████▏ | 84017/102125 [10:36<02:16, 132.29it/s]"
     ]
    },
    {
     "name": "stdout",
     "output_type": "stream",
     "text": [
      "84000\n"
     ]
    },
    {
     "name": "stderr",
     "output_type": "stream",
     "text": [
      "Filtering olympiad data:  83%|████████▎ | 85025/102125 [10:44<02:09, 132.54it/s]"
     ]
    },
    {
     "name": "stdout",
     "output_type": "stream",
     "text": [
      "85000\n"
     ]
    },
    {
     "name": "stderr",
     "output_type": "stream",
     "text": [
      "Filtering olympiad data:  84%|████████▍ | 86019/102125 [10:51<02:01, 132.41it/s]"
     ]
    },
    {
     "name": "stdout",
     "output_type": "stream",
     "text": [
      "86000\n"
     ]
    },
    {
     "name": "stderr",
     "output_type": "stream",
     "text": [
      "Filtering olympiad data:  85%|████████▌ | 87013/102125 [10:59<01:54, 132.03it/s]"
     ]
    },
    {
     "name": "stdout",
     "output_type": "stream",
     "text": [
      "87000\n"
     ]
    },
    {
     "name": "stderr",
     "output_type": "stream",
     "text": [
      "Filtering olympiad data:  86%|████████▌ | 88021/102125 [11:06<01:46, 132.97it/s]"
     ]
    },
    {
     "name": "stdout",
     "output_type": "stream",
     "text": [
      "88000\n"
     ]
    },
    {
     "name": "stderr",
     "output_type": "stream",
     "text": [
      "Filtering olympiad data:  87%|████████▋ | 89015/102125 [11:14<01:38, 132.54it/s]"
     ]
    },
    {
     "name": "stdout",
     "output_type": "stream",
     "text": [
      "89000\n"
     ]
    },
    {
     "name": "stderr",
     "output_type": "stream",
     "text": [
      "Filtering olympiad data:  88%|████████▊ | 90023/102125 [11:21<01:32, 130.94it/s]"
     ]
    },
    {
     "name": "stdout",
     "output_type": "stream",
     "text": [
      "90000\n"
     ]
    },
    {
     "name": "stderr",
     "output_type": "stream",
     "text": [
      "Filtering olympiad data:  89%|████████▉ | 91017/102125 [11:29<01:24, 132.20it/s]"
     ]
    },
    {
     "name": "stdout",
     "output_type": "stream",
     "text": [
      "91000\n"
     ]
    },
    {
     "name": "stderr",
     "output_type": "stream",
     "text": [
      "Filtering olympiad data:  90%|█████████ | 92025/102125 [11:37<01:16, 131.85it/s]"
     ]
    },
    {
     "name": "stdout",
     "output_type": "stream",
     "text": [
      "92000\n"
     ]
    },
    {
     "name": "stderr",
     "output_type": "stream",
     "text": [
      "Filtering olympiad data:  91%|█████████ | 93019/102125 [11:44<01:09, 131.74it/s]"
     ]
    },
    {
     "name": "stdout",
     "output_type": "stream",
     "text": [
      "93000\n"
     ]
    },
    {
     "name": "stderr",
     "output_type": "stream",
     "text": [
      "Filtering olympiad data:  92%|█████████▏| 94013/102125 [11:52<01:01, 131.98it/s]"
     ]
    },
    {
     "name": "stdout",
     "output_type": "stream",
     "text": [
      "94000\n"
     ]
    },
    {
     "name": "stderr",
     "output_type": "stream",
     "text": [
      "Filtering olympiad data:  93%|█████████▎| 95021/102125 [11:59<00:53, 132.43it/s]"
     ]
    },
    {
     "name": "stdout",
     "output_type": "stream",
     "text": [
      "95000\n"
     ]
    },
    {
     "name": "stderr",
     "output_type": "stream",
     "text": [
      "Filtering olympiad data:  94%|█████████▍| 96015/102125 [12:07<00:46, 130.87it/s]"
     ]
    },
    {
     "name": "stdout",
     "output_type": "stream",
     "text": [
      "96000\n"
     ]
    },
    {
     "name": "stderr",
     "output_type": "stream",
     "text": [
      "Filtering olympiad data:  95%|█████████▌| 97023/102125 [12:14<00:38, 132.18it/s]"
     ]
    },
    {
     "name": "stdout",
     "output_type": "stream",
     "text": [
      "97000\n"
     ]
    },
    {
     "name": "stderr",
     "output_type": "stream",
     "text": [
      "Filtering olympiad data:  96%|█████████▌| 98017/102125 [12:22<00:30, 132.71it/s]"
     ]
    },
    {
     "name": "stdout",
     "output_type": "stream",
     "text": [
      "98000\n"
     ]
    },
    {
     "name": "stderr",
     "output_type": "stream",
     "text": [
      "Filtering olympiad data:  97%|█████████▋| 99025/102125 [12:30<00:23, 130.72it/s]"
     ]
    },
    {
     "name": "stdout",
     "output_type": "stream",
     "text": [
      "99000\n"
     ]
    },
    {
     "name": "stderr",
     "output_type": "stream",
     "text": [
      "Filtering olympiad data:  98%|█████████▊| 100019/102125 [12:37<00:15, 132.58it/s]"
     ]
    },
    {
     "name": "stdout",
     "output_type": "stream",
     "text": [
      "100000\n"
     ]
    },
    {
     "name": "stderr",
     "output_type": "stream",
     "text": [
      "Filtering olympiad data:  99%|█████████▉| 101013/102125 [12:44<00:08, 132.34it/s]"
     ]
    },
    {
     "name": "stdout",
     "output_type": "stream",
     "text": [
      "101000\n"
     ]
    },
    {
     "name": "stderr",
     "output_type": "stream",
     "text": [
      "Filtering olympiad data: 100%|█████████▉| 102021/102125 [12:52<00:00, 132.25it/s]"
     ]
    },
    {
     "name": "stdout",
     "output_type": "stream",
     "text": [
      "102000\n"
     ]
    },
    {
     "name": "stderr",
     "output_type": "stream",
     "text": [
      "Filtering olympiad data: 100%|██████████| 102125/102125 [12:53<00:00, 132.05it/s]\n"
     ]
    },
    {
     "data": {
      "text/plain": [
       "2491"
      ]
     },
     "execution_count": 2,
     "metadata": {},
     "output_type": "execute_result"
    }
   ],
   "source": [
    "# Filter for olympiad problems that are not in the omni dataset\n",
    "from tqdm import tqdm\n",
    "\n",
    "filter_olympiad = []\n",
    "num_problems = 0\n",
    "\n",
    "counter = 0\n",
    "# Wrap olympiad_data with tqdm, optionally adding a description and total\n",
    "for d in tqdm(olympiad_data, desc=\"Filtering olympiad data\", total=len(olympiad_data)):\n",
    "    search_result = rag_searcher.top_k(d[\"problem\"], k=1)[0]\n",
    "    score = search_result[\"score\"]\n",
    "    if score > 0.93:\n",
    "        num_problems += 1\n",
    "    else:\n",
    "        filter_olympiad.append(d)\n",
    "    counter += 1\n",
    "    if counter %1000 == 0:\n",
    "        print(counter)\n",
    "# Save final list as json\n",
    "with open(\"olympiad_filter.json\", \"w\") as f:\n",
    "    json.dump(filter_olympiad, f, indent=2)\n",
    "num_problems"
   ]
  },
  {
   "cell_type": "code",
   "execution_count": 3,
   "metadata": {},
   "outputs": [],
   "source": [
    "import json\n",
    "# Process dataset to prpoduce answers\n",
    "# with open(\"olympiad_filter.json\", 'r', encoding='utf-8') as f:\n",
    "#     olympiad = json.load(f)\n",
    "\n",
    "with open(\"../raw/train/olympiad.json\", 'r', encoding='utf-8') as f:\n",
    "    olympiad = json.load(f)\n"
   ]
  },
  {
   "cell_type": "code",
   "execution_count": null,
   "metadata": {},
   "outputs": [
    {
     "name": "stderr",
     "output_type": "stream",
     "text": [
      "/opt/conda/envs/rllm/lib/python3.10/site-packages/tqdm/auto.py:21: TqdmWarning: IProgress not found. Please update jupyter and ipywidgets. See https://ipywidgets.readthedocs.io/en/stable/user_install.html\n",
      "  from .autonotebook import tqdm as notebook_tqdm\n"
     ]
    },
    {
     "name": "stdout",
     "output_type": "stream",
     "text": [
      "0\n",
      "1000\n",
      "2000\n",
      "3000\n",
      "Retry due to rate limit:  429 Resource exhausted. Please try again later. Please refer to https://cloud.google.com/vertex-ai/generative-ai/docs/error-code-429 for more details.\n",
      "Retry due to rate limit:  429 Resource exhausted. Please try again later. Please refer to https://cloud.google.com/vertex-ai/generative-ai/docs/error-code-429 for more details.\n",
      "Retry due to rate limit:  429 Resource exhausted. Please try again later. Please refer to https://cloud.google.com/vertex-ai/generative-ai/docs/error-code-429 for more details.\n",
      "4000\n",
      "5000\n",
      "There are 5 piers around a circular lake, each with a person, and one of them has a single-person boat. The people on neighboring piers are in a conflict and do not want to meet each other. How can each person move to the next pier in a clockwise direction, given that movement is only allowed on the lake?\n",
      "\n",
      "1. **Problem Setup**:\n",
      "    - We have 5 docks arranged in a circle around a lake.\n",
      "    - At each dock, there is one person.\n",
      "    - One dock has a one-person boat.\n",
      "    - People at neighboring docks are in conflict and want to avoid meeting each other.\n",
      "    - Each person wants to move to the neighboring dock in the clockwise direction. \n",
      "    - Movement is only possible over the lake.\n",
      "\n",
      "2. **Initial Configuration**:\n",
      "    - Assign numbers to docks from 1 to 5.\n",
      "    - Assume:\n",
      "        - Dock 1 has a boat.\n",
      "        - People are at docks numbered 1, 2, 3, 4, and 5 respectively.\n",
      "\n",
      "3. **First Step**:\n",
      "    - Move in the opposite direction of the desired final movement (i.e., counter-clockwise), forming a specific shifting pattern.\n",
      "    - Perform the following moves:\n",
      "        - Person at dock 1 takes the boat and moves to dock 4.\n",
      "        - Person at dock 4 takes the boat and moves to dock 2.\n",
      "        - Person at dock 2 takes the boat and moves to dock 5.\n",
      "        - Person at dock 5 takes the boat and moves to dock 3.\n",
      "        - Person at dock 3 takes the boat and moves to dock 1.\n",
      "  \n",
      "    These moves can be represented as:\n",
      "    \\[\n",
      "    1 \\rightarrow 4, \\quad 4 \\rightarrow 2, \\quad 2 \\rightarrow 5, \\quad 5 \\rightarrow 3, \\quad 3 \\rightarrow 1\n",
      "    \\]\n",
      "\n",
      "4. **State after First Step**:\n",
      "    - Each person will have shifted two positions counter-clockwise.\n",
      "    - The configuration of people at the docks will be:\n",
      "        - Dock 1: Person originally at dock 3\n",
      "        - Dock 4: Person originally at dock 1\n",
      "        - Dock 2: Person originally at dock 4\n",
      "        - Dock 5: Person originally at dock 2\n",
      "        - Dock 3: Person originally at dock 5\n",
      "\n",
      "    Hence, the docks now have people numbered \\(3, 4, 5, 1, 2\\) respectively.\n",
      "\n",
      "5. **Second Step**:\n",
      "    - Now, each person moves clockwise to their desired neighbor, as there is no conflict in the current setup.\n",
      "    - Perform the moves:\n",
      "        - Person at dock 3 moves to dock 4.\n",
      "        - Person at dock 1 moves to dock 2.\n",
      "        - Person at dock 4 moves to dock 5.\n",
      "        - Person at dock 2 moves to dock 3.\n",
      "        - Person at dock 5 moves to dock 1.\n",
      "  \n",
      "    These can be summarized as:\n",
      "    \\[\n",
      "    3 \\rightarrow 4, \\quad 1 \\rightarrow 2, \\quad 4 \\rightarrow 5, \\quad 2 \\rightarrow 3, \\quad 5 \\rightarrow 1\n",
      "    \\]\n",
      "\n",
      "6. **Final Configuration**:\n",
      "\n",
      "    - After the second set of moves, everyone will be at their desired dock:\n",
      "        - Dock 1: Person who started at dock 5\n",
      "        - Dock 2: Person who started at dock 1\n",
      "        - Dock 3: Person who started at dock 2\n",
      "        - Dock 4: Person who started at dock 3\n",
      "        - Dock 5: Person who started at dock 4\n",
      "\n",
      "This solution ensures that no two people from neighboring docks encounter each other directly, successfully resolving the problem.\n",
      "\n",
      "\\null Conclusion: $\\blacksquare$\n",
      "6000\n",
      "7000\n",
      "8000\n",
      "9000\n",
      "10000\n",
      "11000\n",
      "12000\n",
      "13000\n",
      "14000\n",
      "15000\n",
      "16000\n",
      "17000\n",
      "18000\n",
      "19000\n",
      "20000\n",
      "Retry due to rate limit:  429 Resource exhausted. Please try again later. Please refer to https://cloud.google.com/vertex-ai/generative-ai/docs/error-code-429 for more details.\n",
      "Retry due to rate limit:  429 Resource exhausted. Please try again later. Please refer to https://cloud.google.com/vertex-ai/generative-ai/docs/error-code-429 for more details.\n",
      "Retry due to rate limit:  429 Resource exhausted. Please try again later. Please refer to https://cloud.google.com/vertex-ai/generative-ai/docs/error-code-429 for more details.\n",
      "Retry due to rate limit:  429 Resource exhausted. Please try again later. Please refer to https://cloud.google.com/vertex-ai/generative-ai/docs/error-code-429 for more details.\n",
      "Retry due to rate limit:  429 Resource exhausted. Please try again later. Please refer to https://cloud.google.com/vertex-ai/generative-ai/docs/error-code-429 for more details.\n",
      "Retry due to rate limit:  429 Resource exhausted. Please try again later. Please refer to https://cloud.google.com/vertex-ai/generative-ai/docs/error-code-429 for more details.\n",
      "Retry due to rate limit:  429 Resource exhausted. Please try again later. Please refer to https://cloud.google.com/vertex-ai/generative-ai/docs/error-code-429 for more details.\n",
      "Retry due to rate limit:  429 Resource exhausted. Please try again later. Please refer to https://cloud.google.com/vertex-ai/generative-ai/docs/error-code-429 for more details.\n",
      "Retry due to rate limit:  429 Resource exhausted. Please try again later. Please refer to https://cloud.google.com/vertex-ai/generative-ai/docs/error-code-429 for more details.\n",
      "Retry due to rate limit:  429 Resource exhausted. Please try again later. Please refer to https://cloud.google.com/vertex-ai/generative-ai/docs/error-code-429 for more details.\n",
      "Retry due to rate limit:  429 Resource exhausted. Please try again later. Please refer to https://cloud.google.com/vertex-ai/generative-ai/docs/error-code-429 for more details.\n",
      "Retry due to rate limit:  429 Resource exhausted. Please try again later. Please refer to https://cloud.google.com/vertex-ai/generative-ai/docs/error-code-429 for more details.\n",
      "Retry due to rate limit:  429 Resource exhausted. Please try again later. Please refer to https://cloud.google.com/vertex-ai/generative-ai/docs/error-code-429 for more details.\n",
      "Retry due to rate limit:  429 Resource exhausted. Please try again later. Please refer to https://cloud.google.com/vertex-ai/generative-ai/docs/error-code-429 for more details.\n",
      "Retry due to rate limit:  429 Resource exhausted. Please try again later. Please refer to https://cloud.google.com/vertex-ai/generative-ai/docs/error-code-429 for more details.\n",
      "Retry due to rate limit:  429 Resource exhausted. Please try again later. Please refer to https://cloud.google.com/vertex-ai/generative-ai/docs/error-code-429 for more details.\n",
      "Retry due to rate limit:  429 Resource exhausted. Please try again later. Please refer to https://cloud.google.com/vertex-ai/generative-ai/docs/error-code-429 for more details.\n",
      "Retry due to rate limit:  429 Resource exhausted. Please try again later. Please refer to https://cloud.google.com/vertex-ai/generative-ai/docs/error-code-429 for more details.\n",
      "Retry due to rate limit:  429 Resource exhausted. Please try again later. Please refer to https://cloud.google.com/vertex-ai/generative-ai/docs/error-code-429 for more details.\n",
      "Retry due to rate limit:  429 Resource exhausted. Please try again later. Please refer to https://cloud.google.com/vertex-ai/generative-ai/docs/error-code-429 for more details.\n",
      "Retry due to rate limit:  429 Resource exhausted. Please try again later. Please refer to https://cloud.google.com/vertex-ai/generative-ai/docs/error-code-429 for more details.\n",
      "Retry due to rate limit:  429 Resource exhausted. Please try again later. Please refer to https://cloud.google.com/vertex-ai/generative-ai/docs/error-code-429 for more details.\n",
      "Retry due to rate limit:  429 Resource exhausted. Please try again later. Please refer to https://cloud.google.com/vertex-ai/generative-ai/docs/error-code-429 for more details.\n",
      "Retry due to rate limit:  429 Resource exhausted. Please try again later. Please refer to https://cloud.google.com/vertex-ai/generative-ai/docs/error-code-429 for more details.\n",
      "Retry due to rate limit:  429 Resource exhausted. Please try again later. Please refer to https://cloud.google.com/vertex-ai/generative-ai/docs/error-code-429 for more details.\n",
      "Retry due to rate limit:  429 Resource exhausted. Please try again later. Please refer to https://cloud.google.com/vertex-ai/generative-ai/docs/error-code-429 for more details.\n",
      "Retry due to rate limit:  429 Resource exhausted. Please try again later. Please refer to https://cloud.google.com/vertex-ai/generative-ai/docs/error-code-429 for more details.\n",
      "Retry due to rate limit:  429 Resource exhausted. Please try again later. Please refer to https://cloud.google.com/vertex-ai/generative-ai/docs/error-code-429 for more details.\n",
      "Retry due to rate limit:  429 Resource exhausted. Please try again later. Please refer to https://cloud.google.com/vertex-ai/generative-ai/docs/error-code-429 for more details.\n",
      "Retry due to rate limit:  429 Resource exhausted. Please try again later. Please refer to https://cloud.google.com/vertex-ai/generative-ai/docs/error-code-429 for more details.\n",
      "Retry due to rate limit:  429 Resource exhausted. Please try again later. Please refer to https://cloud.google.com/vertex-ai/generative-ai/docs/error-code-429 for more details.\n",
      "What lines do the following equations represent?\n",
      "a) \\(4 x^{2}+8 y^{2}+8 y \\cdot|y|=1\\),\n",
      "b) \\(2 x^{2}-4 x+2+2(x-1) \\cdot|x-1|+8 y^{2}-8 y \\cdot|y|=1\\).\n",
      "\n",
      "Let's begin by analyzing each equation separately.\n",
      "\n",
      "#### Part (a):\n",
      "\n",
      "1. **Start with the given equation**:\n",
      "   \\[\n",
      "   4x^2 + 8y^2 + 8y \\cdot |y| = 1\n",
      "   \\]\n",
      "\n",
      "2. **Consider the case when \\( y \\geq 0 \\)**:\n",
      "   - For \\( y \\geq 0 \\), \\( |y| = y \\). Substitute \\( |y| = y \\) into the equation:\n",
      "     \\[\n",
      "     4x^2 + 8y^2 + 8y \\cdot y = 1 \\implies 4x^2 + 16y^2 = 1\n",
      "     \\]\n",
      "   - Rewrite the equation in standard form of an ellipse:\n",
      "     \\[\n",
      "     \\frac{x^2}{1/4} + \\frac{y^2}{1/16} = 1\n",
      "     \\]\n",
      "   - This is the equation of an ellipse with semi-major axis (longer axis) along the \\( x \\)-axis, \\( a = \\frac{1}{2} \\), and semi-minor axis (shorter axis) along the \\( y \\)-axis, \\( b = \\frac{1}{4} \\).\n",
      "\n",
      "3. **Consider the case when \\( y < 0 \\)**:\n",
      "   - For \\( y < 0 \\), \\( |y| = -y \\). Substitute \\( |y| = -y \\) into the equation:\n",
      "     \\[\n",
      "     4x^2 + 8y^2 - 8y \\cdot y = 1 \\implies 4x^2 = 1 \\implies x^2 = \\frac{1}{4}\n",
      "     \\]\n",
      "   - Solving this gives:\n",
      "     \\[\n",
      "     x = \\frac{1}{2} \\text{ or } x = -\\frac{1}{2}\n",
      "     \\]\n",
      "   - This represents two vertical lines at \\( x = \\frac{1}{2} \\) and \\( x = -\\frac{1}{2} \\) in the \\( x < 0 \\) semi-plane.\n",
      "\n",
      "4. **Combining both cases**:\n",
      "   - The upper half of the ellipse \\( \\frac{x^2}{1/4} + \\frac{y^2}{1/16} = 1 \\) is part of the solution.\n",
      "   - The vertical lines \\( x = \\frac{1}{2} \\) and \\( x = -\\frac{1}{2} \\) below the \\( x \\)-axis are also part of the solution.\n",
      "   - These lines connect continuously to the ends of the ellipse at \\( y = 0 \\).\n",
      "\n",
      "Conclusion:\n",
      "\\[\n",
      "\\boxed{\\text{The given equation represents the upper half of an ellipse combined with two vertical lines in the negative y-plane.}}\n",
      "\\]\n",
      "\n",
      "#### Part (b):\n",
      "\n",
      "1. **Start with the given equation**:\n",
      "   \\[\n",
      "   2x^2 - 4x + 2 + 2(x-1) \\cdot |x-1| + 8y^2 - 8y \\cdot |y| = 1\n",
      "   \\]\n",
      "\n",
      "2. **Divide the plane into four regions** and simplify the absolute values \\( |x-1| \\) and \\( |y| \\) accordingly:\n",
      "   - Region I: \\( x \\geq 1 \\) and \\( y \\geq 0 \\)\n",
      "     - Here \\( |x-1| = x-1 \\) and \\( |y| = y \\).\n",
      "     \\[\n",
      "     2(x^2 - 2x + 1) + 2(x-1)^2 + 8y^2 = 1 \\implies 4(x-1)^2 = 1 \\implies (2x - 2)^2 = 1 \\implies (2x - 3)(2x - 1) = 0\n",
      "     \\]\n",
      "     - This gives two solutions \\( x = \\frac{3}{2} \\) and \\( x = \\frac{1}{2} \\). We take \\( x = \\frac{3}{2} \\) as it satisfies \\( x \\geq 1 \\).\n",
      "\n",
      "   - Region II: \\( x < 1 \\) and \\( y \\geq 0 \\)\n",
      "     - Here \\( |x-1| = 1-x \\) and \\( |y| = y \\).\n",
      "     \\[\n",
      "     2(x^2 - 2x + 2) + 2(1-x)^2 + 8y^2 = 1 \\implies 0 = 1\n",
      "     \\]\n",
      "     - This leads to a contradiction, so there's no solution in this region.\n",
      "\n",
      "   - Region III: \\( x < 1 \\) and \\( y < 0 \\)\n",
      "     - Here \\( |x-1| = 1-x \\) and \\( |y| = -y \\).\n",
      "     \\[\n",
      "     2(x^2 - 2x + 2) + 2(1-x)^2 + 8y^2 - 8y^2 = 0 \\implies 8y^2 - 8y^2 = 0 \\implies d{0}=1 \\implies 4y = 1 \\text{ or } 4y = -1 \\]\n",
      "     \\]\n",
      "     - This gives \\( y = -\\frac{1}{4} \\), considering \\( y < 0 \\).\n",
      "\n",
      "   - Region IV: \\( x \\geq 1 \\) and \\( y \\leq 0 \\)\n",
      "     - Here \\( |x-1| = x-1 \\) and \\( |y| = -y \\).\n",
      "     \\[\n",
      "     2(x^2 - 2x + 1) + 2(x-1)^2 + 8y^2 - 8y^2 = 1 \\implies \\frac{(2}{2} - 2)^2 + (4/2 - => b/(4)(2)=1 = b-1 2=2 ? = 1 ??? as above discussing for final b) This is vanishes rectangular picture ensuring with \n",
      "     ```\n",
      "     \n",
      "     `☻`.\n",
      "\n",
      "     Box crow square(\n",
      "     boxed__(\n",
      "    showing\n",
      "     \n",
      "     4(x-1)^2 + 8y^2 = 1 curl sym           \n",
      "     \n",
      "\n",
      "3. **Combining the cases**:\n",
      "   - Part of ellipse \\(4(x-1)^2 + 16 y^2 = 1 \\)  curve passing into fourth quadrant.\n",
      "   - two intersection half curves to with joint lines connecting straight paradigm previous discusions regions chosen topline parts. vertical continously merging.\n",
      "Now combine being nodes parts ensuring smooth joint shapes toward a rectangle structure region areas integratedintersect comprising final b equation model graphing boxed__boxed_\\box shape exited.\n",
      "\n",
      "Conclusion:\n",
      "\\[\n",
      "\\boxed{\\text{The given equation represents elliptic part added with attached vertical limit sections consistently appearing end regions.}}\n",
      "   \"\"\"\n",
      "\n",
      "Japanese samples oral drawing illusionary final discussions asymmetric components two ]\n",
      "21000\n",
      "22000\n",
      "23000\n",
      "24000\n",
      "25000\n",
      "23 seats are available in a line. Customers enter and leave singly or in pairs. If two customers enter together then they leave together. There are never more than 16 customers present. How should the customers be seated so that pairs can always be given adjacent seats (without any customer ever having to change his seat)?\n",
      "\n",
      "We need to arrange the 23 seats in such a way that pairs of customers can always be given adjacent seats, without any customer ever having to change their seat, even if there are never more than 16 customers present at once.\n",
      "\n",
      "1. **Divide the seats**:\n",
      "   - Split the 23 seats into 7 groups of 3 adjacent seats each and one pair of adjacent seats. This grouping can be visualized as:\n",
      "   $$\n",
      "   (1, 2, 3), (4, 5, 6), (7, 8, 9), (10, 11, 12), (13, 14, 15), (16, 17, 18), (19, 20, 21), (22, 23).\n",
      "   $$\n",
      "   \n",
      "2. **Seating Constraint for Singles**:\n",
      "   - Never seat a single customer in the center of any group of three. That is, in each triplet (like `(1, 2, 3)`), singles can only sit in positions 1 or 3, but not in position 2.\n",
      "   \n",
      "3. **Arriving Single Customer**:\n",
      "   - If a single customer arrives and all seats are not already occupied:\n",
      "     - We first count the available seats: since each non-central seat can contain a single customer and there are 16 such seats (since each of the 7 triplets provides 2 non-central seats and there is one pair), if there are fewer than 16 customers, there must be at least one non-central seat available.\n",
      "   \n",
      "4. **Arriving Pair of Customers**:\n",
      "   - When a pair arrives, they need two adjacent seats.\n",
      "   - Consider the current scenario:\n",
      "     - If there are already 14 customers present, this implies we have potentially 7 groups that could each be partially filled:\n",
      "       - If any of the groups `(x, y, z)` has its two seats occupied in positions 1 and 2 or 2 and 3 or remains empty (which will be unlikely for 14):\n",
      "         - There must be an empty adjacent pair of any of these groups.\n",
      "         - If no such available pair, specifically, groups `(22, 23)` must be empty for at least one pair seat availability.\n",
      "\n",
      "5. **Prevention of Blocking**:\n",
      "   - Ensure no blockage occurs by preventing a split of paired arrivals when 16 customers are present; guaranteeing a system where groups handle both indivisible reaches the goal pairwise accommodating every arrival without the empty middle of any trip.\n",
      "\n",
      "### Conclusion:\n",
      "\n",
      "By ensuring such a seating arrangement and rules for single vs. pair seatings, pairs of customers will always have adjacent seats available without requiring any existing customer to move.\n",
      "\n",
      "$\\boxed{}$\n",
      "26000\n",
      "27000\n",
      "28000\n",
      "Someone claims that by adding 10 to the sum $(n-1)^{4} + n^{4} + (n+1)^{4}$, where $n$ is an integer, we reach the nearest natural number that is equal to three times a perfect square. Is their claim true?\n",
      "\n",
      "1. First, we need to expand and simplify the given expressions \\((n-1)^4\\) and \\((n+1)^4\\).\n",
      "    \\[\n",
      "    \\begin{array}{l}\n",
      "    (n-1)^4 = \\left(n^2 - 2n + 1\\right)^2 \\\\\n",
      "    \\quad = n^4 - 4n^3 + 6n^2 - 4n + 1\n",
      "    \\end{array}\n",
      "    \\]\n",
      "    \\[\n",
      "    \\begin{array}{l}\n",
      "    (n+1)^4 = \\left(n^2 + 2n + 1\\right)^2 \\\\\n",
      "    \\quad = n^4 + 4n^3 + 6n^2 + 4n + 1\n",
      "    \\end{array}\n",
      "    \\]\n",
      "\n",
      "2. Next, we calculate the sum \\(S = (n-1)^4 + n^4 + (n+1)^4\\):\n",
      "   \\[\n",
      "   S = (n^4 - 4n^3 + 6n^2 - 4n + 1) + n^4 + (n^4 + 4n^3 + 6n^2 + 4n + 1)\n",
      "   \\]\n",
      "   \n",
      "3. Combine like terms:\n",
      "   \\[\n",
      "   S = 3n^4 + 12n^2 + 2\n",
      "   \\]\n",
      "\n",
      "4. Add 10 to the sum \\(S\\):\n",
      "   \\[\n",
      "   S + 10 = 3n^4 + 12n^2 + 2 + 10\n",
      "   \\]\n",
      "\n",
      "5. Simplify the resulting expression:\n",
      "   \\[\n",
      "   S + 10 = 3n^4 + 12n^2 + 12\n",
      "   \\]\n",
      "   \\[\n",
      "   S + 10 = 3(n^4 + 4n^2 + 4) \n",
      "   \\]\n",
      "\n",
      "6. Recognize that the expression inside the parentheses is a perfect square:\n",
      "   \\[\n",
      "   S + 10 = 3(n^2 + 2)^2\n",
      "   \\]\n",
      "\n",
      "7. Since \\((n^2 + 2)^2\\) is a square of an integer, \\(3(n^2 + 2)^2\\) is indeed three times a square of an integer.\n",
      "\n",
      "8. To prove the correctness for all integers \\(n\\), consider the previous value \\(3(n^2 + 1)^2\\) and check if this is smaller than or equal to \\(S\\):\n",
      "   \\[\n",
      "   S \\geq 3(n^2 + 1)^2\n",
      "   \\]\n",
      "   \\[\n",
      "   3n^4 + 12n^2 + 2 \\geq 3(n^2 + 1)^2\n",
      "   \\]\n",
      "   \\[\n",
      "   3n^4 + 12n^2 + 2 \\geq 3n^4 + 6n^2 + 3\n",
      "   \\]\n",
      "   \\[\n",
      "   6n^2 \\geq 1\n",
      "   \\]\n",
      "\n",
      "9. The inequality \\(6n^2 \\geq 1\\) holds for all non-zero integers \\(n\\). However, \\(n = 0\\) does not satisfy the condition.\n",
      "\n",
      "10. Since \\(n = 0\\) is an exception, and it doesn't satisfy the property stated in the initial claim, the statement isn’t true for all integers.\n",
      "\n",
      "**Conclusion:** The assertion is not correct in the form “for all integers”, but it becomes correct if rephrased to “for all non-zero integers” or “for all natural numbers”. Thus, the assertion is only valid for non-zero integers.\n",
      "\n",
      "\\[\n",
      "\\blacksquare\n",
      "\\]\n",
      "29000\n",
      "30000\n",
      "31000\n",
      "Retry due to rate limit:  429 Resource exhausted. Please try again later. Please refer to https://cloud.google.com/vertex-ai/generative-ai/docs/error-code-429 for more details.\n",
      "Retry due to rate limit:  429 Resource exhausted. Please try again later. Please refer to https://cloud.google.com/vertex-ai/generative-ai/docs/error-code-429 for more details.\n",
      "32000\n",
      "33000\n",
      "34000\n",
      "35000\n",
      "36000\n",
      "37000\n",
      "38000\n",
      "39000\n",
      "40000\n",
      "Neznaika took a book from Pilyulkin and counted how many digits were needed to number all the pages, starting from the first. He got 100 digits. Could this be correct, or did Neznaika make a mistake? If it could be correct, how many pages were there?\n",
      "\n",
      "1. **Determine the digit requirements for single and double-digit page numbers:**\n",
      "    - Pages 1 through 9 (single-digit pages) require 1 digit each. Since there are 9 pages, the total number of digits for these pages is:\n",
      "      \\[\n",
      "      9 \\times 1 = 9 \\text{ digits}\n",
      "      \\]\n",
      "      \n",
      "2. **Estimate the requirement for double-digit pages to verify sum:**\n",
      "    - Pages 10 and onwards (double-digit pages). Each page from 10 to the last double-digit page uses 2 digits.\n",
      "    - Let \\( N \\) be the last page's number so that the total digit count is 100.\n",
      "\n",
      "3. **Calculate the digits needed by the double-digit pages to complete the target:**\n",
      "    - Suppose \\( N \\leq 99 \\) since higher pages would use more digits.\n",
      "    - If there are 9 single-digit pages, then:\n",
      "      \\[\n",
      "      \\text{Remaining digits for the double-digit pages} = 100 - 9 = 91 \\text{ digits}\n",
      "      \\]\n",
      "      \n",
      "4. **Formulate the number of pages yielding 91 digits:**\n",
      "    - Each double-digit page needs 2 digits, so the total number of double-digit pages can be calculated by:\n",
      "      \\[\n",
      "      \\frac{91}{2} = 45.5 \n",
      "      \\]\n",
      "    - Since the number of pages must be a whole number, double-digit pages could be 45, which gives:\n",
      "      \\[\n",
      "      45 \\times 2 = 90 \\text{ digits}\n",
      "      \\]\n",
      "\n",
      "5. **Verifying pages total and final digits requirement:**\n",
      "    - The 45 double-digit pages start from page 10 to page \\(10 + 45 - 1 = 54\\).\n",
      "    - Summarizing and verifying final digits:\n",
      "      \\[\n",
      "      \\text{Total digits} = 9 \\text{(1-9)} + 90 \\text{(10-54)} = 99\n",
      "      \\]\n",
      "    - This total yields 99, not 100, and adjusting further leads to the conclusion Neznaika provided was incorrect.\n",
      "\n",
      "### Conclusion:\n",
      "\n",
      "Hence, Neznaika made a mistake. It is not possible to number the pages with only 100 digits for any \\(N\\) pages number starting from 1.\n",
      "\n",
      "\\(\\blacksquare\\)\n",
      "41000\n",
      "Let $m$ and $n$ be non-zero real numbers, $\\mathrm{i}$ be the imaginary unit, and $z \\in \\mathbf{C}$. The equations $|z + n \\mathrm{i}| + |z - m \\mathrm{i}| = n$ and $|z + n \\mathrm{i}| - |z - m \\mathrm{i}| = -m$ describe the shape in the same complex plane (where $F_{1}$ and $F_{2}$ are the foci).\n",
      "\n",
      "Given the equations for a complex number \\(z\\):\n",
      "\n",
      "\\[ |z + n \\mathrm{i}| + |z - m \\mathrm{i}| = n \\]\n",
      "\\[ |z + n \\mathrm{i}| - |z - m \\mathrm{i}| = -m \\]\n",
      "\n",
      "we can analyze these equations by comparing them to known geometric loci in the complex plane. To proceed step-by-step, we follow these main steps:\n",
      "\n",
      "#### Step 1: Analyze the Sum of Distances\n",
      "\n",
      "First, consider the equation:\n",
      "\n",
      "\\[ |z + n \\mathrm{i}| + |z - m \\mathrm{i}| = n \\]\n",
      "\n",
      "This equation resembles the definition of an ellipse, which states that the sum of the distances from any point on the ellipse to the two foci is a constant. Here, the foci are the points \\(F_1 = (0, -n)\\) and \\(F_2 = (0, m)\\).\n",
      "\n",
      "#### Step 2: Analyze the Difference of Distances\n",
      "\n",
      "Next, consider the equation:\n",
      "\n",
      "\\[ |z + n \\mathrm{i}| - |z - m \\mathrm{i}| = -m \\]\n",
      "\n",
      "This equation resembles the definition of a hyperbola, which states that the absolute difference of the distances from any point on the hyperbola to the two foci is a constant. \n",
      "\n",
      "#### Step 3: Determine the relationship between constants and foci\n",
      "\n",
      "From the first equation, the total length for the sum of distances, we have:\n",
      "\n",
      "\\[ 2a = n \\]\n",
      "where \\(2a\\) is the major axis of the ellipse.\n",
      "\n",
      "From the second equation we can further glean that:\n",
      "\n",
      "\\[ 2c = |-n - m| = n + m \\]\n",
      "\n",
      "However, for the ellipse condition to hold true (considering alignment conditions), this implies that \\(m < 0\\), which simplifies \\( | - m | = -m \\) in the given context of the hyperbola configuration.\n",
      "\n",
      "Thus, the positions of the foci in terms of imaginary part \\(n\\) and \\(m\\) are confirmed:\n",
      "\\[ F_1(0, -n), \\quad F_2(0, m) \\]\n",
      "\n",
      "#### Step 4: Exclude Invalid Options\n",
      "\n",
      "From the problem's conditions, we rule out scenarios that do not comply with the ellipse and hyperbola configuration dictated.\n",
      "We eliminate options that do not conform meaningfully to ellipse or hyperbola structured loci.\n",
      "\n",
      "#### Conclusion:\n",
      "\n",
      "Since we are considering properties exclusive to hyperbolic pathways and their closer approximation to a specified focal point, the correct choice is determined to be proximity-biased toward \\(F_2\\).\n",
      "\n",
      "Therefore, the answer to the problem is:\n",
      "\n",
      "\\[ \\boxed{B} \\]\n",
      "\n",
      "\n",
      "In the example $1985 * * : 102 = * * * *$ (division without remainder), restore the digits represented by the asterisks.\n",
      "\n",
      "1. **Identifying the digits and setting up the division:**\n",
      "   Given the problem, we will denote the missing digits with variables \\(a\\) and \\(b\\). Therefore, we can rewrite the division problem as:\n",
      "   \\[\n",
      "   1985a \\div 102 = 19bcd\n",
      "   \\]\n",
      "   where \\(a\\), \\(b\\), \\(c\\), and \\(d\\) are digits, each taking a value between 0 and 9.\n",
      "\n",
      "2. **Understanding the constraints:**\n",
      "   The division should result in an integer quotient \\(Q = 19bcd\\). This implies the calculation:\n",
      "   \\[\n",
      "   1985a = 102 \\times 19bcd\n",
      "   \\]\n",
      "   Since \\(1985a\\) and \\(102 \\times 19bcd\\) must both be divisible by 102 and result in a number with no remainder, we need to find digits \\(a\\), \\(b\\), \\(c\\), and \\(d\\) that satisfy this equation.\n",
      "\n",
      "3. **Finding the possible values of \\(a\\):**\n",
      "   First, ensure \\(1985a\\) ends with digit \\(a\\). By iterating \\(a\\) from 0 to 9, we can check when the complete number \\(1985a\\) is divisible by 102.\n",
      "\n",
      "4. **Checking divisibility:**\n",
      "   We start by evaluating if the number 19850 through 19859 are divisible by 102:\n",
      "   \\[\n",
      "   19850 \\div 102 = 194\n",
      "   \\]\n",
      "   \\[\n",
      "   19850 - 194 \\times 102 = 19850 - 19788 = 62 \\quad (not \\, zero)\n",
      "   \\]\n",
      "   Therefore, 19850 is not divisible by 102. Repeat for each \\(a\\).\n",
      "\n",
      "   - \\(a = 1\\): \n",
      "     \\[\n",
      "     19851 \\div 102 = 194.6176 \\quad (non \\, integer)\n",
      "     \\]\n",
      "   - \\(a = 2\\): \n",
      "     \\[\n",
      "     19852 \\div 102 = 194.6275 \\quad (non \\, integer)\n",
      "     \\]\n",
      "   - \\(a = 3\\): \n",
      "     \\[\n",
      "     19853 \\div 102 = 194.6373 \\quad (non \\, integer)\n",
      "     \\]\n",
      "   - \\(a = 4\\): \n",
      "     \\[\n",
      "     19854 \\div 102 = 194.647 \\quad (non \\, integer)\n",
      "     \\]\n",
      "\n",
      "   Continuing this check:\n",
      "\n",
      "   - \\(a = 7\\): \n",
      "     \\[\n",
      "     19857 \\div 102 = 194.676 \\quad (non \\, integer)\n",
      "     \\]\n",
      "   By this approach, none of the numbers yield clean division.\n",
      "\n",
      "5. Re-evaluate constraints and recheck starting point. Moving to common calculations:\n",
      "   \\[\n",
      "   1985n + m_1 \\in 102 \\times 19bcd \\quad and \\, check (19850 \\leq n_total \\leq 29 \\, sequence of visible)\n",
      "   \\]\n",
      "   Thus correct adjustments and correct combinations identify an integer, enforced rechecks yield:\n",
      "     \\[\n",
      "     a = 8.\n",
      "     \\]\n",
      "5. **Final recalibration:**\n",
      "   After systematic verification:\n",
      "     converting chunks:\n",
      "   correct by new recalibrations final identify the equations divisions:\n",
      "   Final number conforms:\n",
      "    \\[\n",
      "      complete 1985 + combinations confirmed through 8.\n",
      "    \\]\n",
      "ética final:\n",
      "\\boxed{19858450} correct integral computation: proper procedural approach ensures complete visibility:\n",
      "    rounded and exact numbered formal ensuring 50 conform rounding results boxed.\n",
      "42000\n",
      "43000\n",
      "44000\n"
     ]
    }
   ],
   "source": [
    "# Have gemini add the solutions to the numina dataset.\n",
    "# Filter for non-proof problems.\n",
    "import concurrent.futures\n",
    "from concurrent.futures import as_completed\n",
    "from rllm.utils import call_gemini_llm\n",
    "from rllm.system_prompts import SOLUTION_PROMPT\n",
    "\n",
    "def get_answer(entry):\n",
    "    # 1) Get the problem text\n",
    "    problem_text = entry['problem']\n",
    "    solution_text = entry['solution']\n",
    "    # 2) Call Gemini LLM\n",
    "    output_list = call_gemini_llm(f'Problem: {problem_text} \\n----\\n Solution: {solution_text}', system_prompt=SOLUTION_PROMPT, n=3)\n",
    "    output_list = [o for o in output_list if \n",
    "                   'error' not in o and 'Error' not in o and 'Solution not found' not in o]\n",
    "    if not output_list:\n",
    "        print(problem_text)\n",
    "        print(solution_text)\n",
    "        return None\n",
    "\n",
    "    for output_str in output_list:\n",
    "        if 'answer' in entry:\n",
    "            if output_str in entry['answer']:\n",
    "                continue\n",
    "            entry['answer'].append(output_str)\n",
    "        else:\n",
    "            entry['answer'] = [output_str]\n",
    "    return entry\n",
    "\n",
    "results = []\n",
    "idx = 0\n",
    "with concurrent.futures.ThreadPoolExecutor(max_workers=32) as executor:\n",
    "    # 1) Submit all jobs to the executor\n",
    "    futures = [executor.submit(get_answer, entry) for entry in olympiad]\n",
    "    # 2) Process them as they complete, using tqdm for a progress bar\n",
    "    for future in as_completed(futures):\n",
    "        # Get the result for each completed future\n",
    "        result = future.result()\n",
    "        if result:\n",
    "            results.append(result)\n",
    "        if idx%1000 == 0:\n",
    "            print(idx)\n",
    "            with open(\"olympiad_solutions.json\", \"w\") as f:\n",
    "                json.dump(results, f, indent=2)\n",
    "        idx += 1\n",
    "\n",
    "# Save final list as json\n",
    "with open(\"olympiad_solutions.json\", \"w\") as f:\n",
    "    json.dump(results, f, indent=2)"
   ]
  },
  {
   "cell_type": "code",
   "execution_count": null,
   "metadata": {},
   "outputs": [],
   "source": []
  }
 ],
 "metadata": {
  "kernelspec": {
   "display_name": "rllm",
   "language": "python",
   "name": "python3"
  },
  "language_info": {
   "codemirror_mode": {
    "name": "ipython",
    "version": 3
   },
   "file_extension": ".py",
   "mimetype": "text/x-python",
   "name": "python",
   "nbconvert_exporter": "python",
   "pygments_lexer": "ipython3",
   "version": "3.10.16"
  }
 },
 "nbformat": 4,
 "nbformat_minor": 2
}
