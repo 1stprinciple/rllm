{
 "cells": [
  {
   "cell_type": "code",
   "execution_count": null,
   "metadata": {},
   "outputs": [],
   "source": [
    "import json\n",
    "import os\n",
    "from datasets import load_dataset\n",
    "\n",
    "ds = load_dataset(\"codeparrot/apps\", split=\"train\", trust_remote_code=True)\n",
    "print(ds)"
   ]
  },
  {
   "cell_type": "code",
   "execution_count": 2,
   "metadata": {},
   "outputs": [],
   "source": [
    "# APPS dataset has difficulties as strings: introductory, interview, competition\n",
    "# Let introductory->2.5, interview->5.5, competition->8.5\n",
    "def difficulty_to_int(difficulty):\n",
    "    if difficulty == \"introductory\":\n",
    "        return 2.5\n",
    "    if difficulty == \"interview\":\n",
    "        return 5.5\n",
    "    if difficulty == \"competition\":\n",
    "        return 8.5\n",
    "    return 0\n",
    "\n",
    "\n",
    "def process_dataset(ds):\n",
    "    dataset = []\n",
    "    for entry in ds:\n",
    "        new_entry = {\n",
    "            \"problem\": entry[\"question\"],\n",
    "            \"tests\": entry[\"input_output\"],\n",
    "        }\n",
    "        dataset.append(new_entry)\n",
    "    return dataset\n",
    "\n",
    "train_dataset = process_dataset(ds)\n",
    "\n",
    "output_dir = os.path.abspath(\"../../train/code\")\n",
    "output_file = os.path.join(output_dir, \"apps.json\")\n",
    "\n",
    "with open(output_file, \"w\") as f:\n",
    "    json.dump(train_dataset, f, indent=4)"
   ]
  },
  {
   "cell_type": "code",
   "execution_count": null,
   "metadata": {},
   "outputs": [],
   "source": []
  }
 ],
 "metadata": {
  "kernelspec": {
   "display_name": "rllm",
   "language": "python",
   "name": "python3"
  },
  "language_info": {
   "codemirror_mode": {
    "name": "ipython",
    "version": 3
   },
   "file_extension": ".py",
   "mimetype": "text/x-python",
   "name": "python",
   "nbconvert_exporter": "python",
   "pygments_lexer": "ipython3",
   "version": "3.10.16"
  }
 },
 "nbformat": 4,
 "nbformat_minor": 2
}
