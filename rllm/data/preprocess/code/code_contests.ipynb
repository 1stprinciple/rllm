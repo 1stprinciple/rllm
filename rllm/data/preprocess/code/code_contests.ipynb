{
 "cells": [
  {
   "cell_type": "code",
   "execution_count": 1,
   "metadata": {},
   "outputs": [
    {
     "name": "stderr",
     "output_type": "stream",
     "text": [
<<<<<<< HEAD
      "/opt/conda/envs/rllm-xiao/lib/python3.10/site-packages/tqdm/auto.py:21: TqdmWarning: IProgress not found. Please update jupyter and ipywidgets. See https://ipywidgets.readthedocs.io/en/stable/user_install.html\n",
=======
      "/opt/conda/envs/rllm-roy/lib/python3.10/site-packages/tqdm/auto.py:21: TqdmWarning: IProgress not found. Please update jupyter and ipywidgets. See https://ipywidgets.readthedocs.io/en/stable/user_install.html\n",
>>>>>>> origin/verl_code
      "  from .autonotebook import tqdm as notebook_tqdm\n"
     ]
    },
    {
     "name": "stdout",
     "output_type": "stream",
     "text": [
      "Dataset({\n",
      "    features: ['name', 'description', 'public_tests', 'private_tests', 'generated_tests', 'source', 'difficulty', 'solutions', 'incorrect_solutions', 'cf_contest_id', 'cf_index', 'cf_points', 'cf_rating', 'cf_tags', 'is_description_translated', 'untranslated_description', 'time_limit', 'memory_limit_bytes', 'input_file', 'output_file'],\n",
      "    num_rows: 13328\n",
      "})\n"
     ]
    }
   ],
   "source": [
    "from datasets import load_dataset\n",
<<<<<<< HEAD
    "import json \n",
=======
    "import json\n",
    "import os\n",
>>>>>>> origin/verl_code
    "\n",
    "ds = load_dataset(\"deepmind/code_contests\", split=\"train\")\n",
    "\n",
    "print(ds)"
   ]
  },
  {
   "cell_type": "code",
<<<<<<< HEAD
   "execution_count": 2,
=======
   "execution_count": 5,
>>>>>>> origin/verl_code
   "metadata": {},
   "outputs": [
    {
     "name": "stdout",
     "output_type": "stream",
     "text": [
      "Number of entries with 'input.txt': 22\n"
     ]
    }
   ],
   "source": [
    "in_fi = [entry['input_file'] for entry in ds]\n",
    "out_fi = [entry['output_file'] for entry in ds]\n",
    "input_txt_count = in_fi.count('input.txt')\n",
    "print(f\"Number of entries with 'input.txt': {input_txt_count}\")"
   ]
  },
  {
   "cell_type": "code",
   "execution_count": null,
   "metadata": {},
   "outputs": [],
   "source": [
    "TEMPLATE = \"\"\"\n",
    "{problem}\n",
    "\n",
    "Time Limit: {time_limit}\n",
    "Memory Limit: {memory_limit} Bytes\n",
    "\"\"\""
   ]
  },
  {
   "cell_type": "code",
   "execution_count": 6,
   "metadata": {},
   "outputs": [
    {
     "name": "stdout",
     "output_type": "stream",
     "text": [
      "8177\n"
     ]
    }
   ],
   "source": [
    "dataset = []\n",
    "for entry in ds:\n",
    "    difficulty = entry[\"difficulty\"] # TODO: understand how the difficulty is calculated and convert the difficulty to a number from 1-10 or 0 for unknown        \n",
    "    new_entry = {\n",
<<<<<<< HEAD
    "        \"problem\": entry[\"description\"],\n",
    "        \"public_tests\": entry[\"public_tests\"],#str, when use it as a reward, need use json.loads\n",
    "        \"difficulty\": difficulty,\n",
=======
    "        \"problem\": TEMPLATE.format(\n",
    "            problem=entry[\"description\"],\n",
    "            time_limit=entry[\"time_limit\"],\n",
    "            memory_limit=entry[\"memory_limit_bytes\"],\n",
    "        ),\n",
    "        \"public_tests\": entry[\"public_tests\"],\n",
>>>>>>> origin/verl_code
    "    }\n",
    "    # there are few entries with input_file and output_file so we ignore\n",
    "    if difficulty >= 5 and entry[\"input_file\"] == '' and entry[\"output_file\"] == '':\n",
    "        dataset.append(new_entry)\n",
    "\n",
    "print(len(dataset))\n",
    "\n",
<<<<<<< HEAD
    "with open(\"../../train/code/train_code_contests.json\", \"w\") as f:\n",
=======
    "output_dir = os.path.abspath(\"../../../../data/train/code\")\n",
    "output_file = os.path.join(output_dir, \"test_code_contests.json\")\n",
    "\n",
    "with open(output_file, \"w\") as f:\n",
>>>>>>> origin/verl_code
    "    json.dump(dataset, f, indent=4)"
   ]
  },
  {
   "cell_type": "code",
   "execution_count": 7,
   "metadata": {},
   "outputs": [
    {
     "name": "stdout",
     "output_type": "stream",
     "text": [
      "165\n"
     ]
    }
   ],
   "source": [
    "ds = load_dataset(\"deepmind/code_contests\", split=\"test\")\n",
    "\n",
    "\n",
    "dataset = []\n",
    "for entry in ds:\n",
    "    difficulty = entry[\"difficulty\"] # TODO: understand how the difficulty is calculated and convert the difficulty to a number from 1-10 or 0 for unknown\n",
    "    new_entry = {\n",
<<<<<<< HEAD
    "        \"problem\": entry[\"description\"],\n",
    "        \"public_tests\": entry[\"public_tests\"],#str, when use it as a reward, need use json.loads\n",
    "        \"difficulty\": difficulty,\n",
=======
    "        \"problem\": TEMPLATE.format(\n",
    "            problem=entry[\"description\"],\n",
    "            time_limit=entry[\"time_limit\"],\n",
    "            memory_limit=entry[\"memory_limit_bytes\"],\n",
    "        ),\n",
    "        \"public_tests\": entry[\"public_tests\"],\n",
>>>>>>> origin/verl_code
    "    }\n",
    "    dataset.append(new_entry)\n",
    "\n",
    "print(len(dataset))\n",
    "\n",
<<<<<<< HEAD
    "with open(\"../../test/code/test_code_contests.json\", \"w\") as f:\n",
=======
    "output_dir = os.path.abspath(\"../../../../data/test/code\")\n",
    "output_file = os.path.join(output_dir, \"test_code_contests.json\")\n",
    "\n",
    "with open(output_file, \"w\") as f:\n",
>>>>>>> origin/verl_code
    "    json.dump(dataset, f, indent=4)"
   ]
  },
  {
   "cell_type": "code",
   "execution_count": null,
   "metadata": {},
   "outputs": [],
   "source": []
  }
 ],
 "metadata": {
  "kernelspec": {
<<<<<<< HEAD
   "display_name": "rllm-xiao",
=======
   "display_name": "rllm-roy",
>>>>>>> origin/verl_code
   "language": "python",
   "name": "python3"
  },
  "language_info": {
   "codemirror_mode": {
    "name": "ipython",
    "version": 3
   },
   "file_extension": ".py",
   "mimetype": "text/x-python",
   "name": "python",
   "nbconvert_exporter": "python",
   "pygments_lexer": "ipython3",
   "version": "3.10.16"
  }
 },
 "nbformat": 4,
 "nbformat_minor": 2
}
