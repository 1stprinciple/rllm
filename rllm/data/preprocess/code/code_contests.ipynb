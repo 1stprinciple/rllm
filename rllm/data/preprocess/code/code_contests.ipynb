{
 "cells": [
  {
   "cell_type": "code",
   "execution_count": 1,
   "metadata": {},
   "outputs": [
    {
     "name": "stderr",
     "output_type": "stream",
     "text": [
      "/opt/conda/envs/rllm-xiao/lib/python3.10/site-packages/tqdm/auto.py:21: TqdmWarning: IProgress not found. Please update jupyter and ipywidgets. See https://ipywidgets.readthedocs.io/en/stable/user_install.html\n",
      "  from .autonotebook import tqdm as notebook_tqdm\n",
      "Using the latest cached version of the dataset since deepmind/code_contests couldn't be found on the Hugging Face Hub\n",
      "Found the latest cached dataset configuration 'default' at /home/xiaoxiang/.cache/huggingface/datasets/deepmind___code_contests/default/0.0.0/802411c3010cb00d1b05bad57ca77365a3c699d6 (last modified on Fri Feb 28 07:05:53 2025).\n"
     ]
    },
    {
     "name": "stdout",
     "output_type": "stream",
     "text": [
      "Dataset({\n",
      "    features: ['name', 'description', 'public_tests', 'private_tests', 'generated_tests', 'source', 'difficulty', 'solutions', 'incorrect_solutions', 'cf_contest_id', 'cf_index', 'cf_points', 'cf_rating', 'cf_tags', 'is_description_translated', 'untranslated_description', 'time_limit', 'memory_limit_bytes', 'input_file', 'output_file'],\n",
      "    num_rows: 13328\n",
      "})\n"
     ]
    }
   ],
   "source": [
    "from datasets import load_dataset\n",
    "import json \n",
    "import os\n",
    "\n",
    "ds = load_dataset(\"deepmind/code_contests\", split=\"train\")\n",
    "print(ds)"
   ]
  },
  {
   "cell_type": "code",
   "execution_count": 2,
   "metadata": {},
   "outputs": [
    {
     "name": "stdout",
     "output_type": "stream",
     "text": [
      "3576\n"
     ]
    }
   ],
   "source": [
    "TEMPLATE = \"\"\"\n",
    "{problem}\n",
    "\n",
    "Time Limit: {time_limit}\n",
    "Memory Limit: {memory_limit} Bytes\n",
    "\"\"\"\n",
    "from pprint import pprint\n",
    "dataset = []\n",
    "for entry in ds:\n",
    "    difficulty = entry[\"difficulty\"] # TODO: understand how the difficulty is calculated and convert the difficulty to a number from 1-10 or 0 for unknown        \n",
    "\n",
    "    if not (difficulty >= 2 and difficulty <= 5) and not (difficulty >=10):\n",
    "        continue\n",
    "\n",
    "    input_tests = entry[\"public_tests\"]['input'] + entry[\"private_tests\"]['input']\n",
    "    output_tests = entry[\"public_tests\"]['output'] + entry[\"private_tests\"]['output']\n",
    "    \n",
    "    if len(input_tests) <= 1:\n",
    "        continue\n",
    "    assert len(input_tests) == len(output_tests)\n",
    "    \n",
    "    full_tests = {\n",
    "        \"input\": input_tests,\n",
    "        \"output\": output_tests,\n",
    "    }\n",
    "    new_entry = {\n",
    "        \"problem\": TEMPLATE.format(problem=entry[\"description\"], time_limit=entry[\"time_limit\"], memory_limit=entry[\"memory_limit_bytes\"]),\n",
    "        \"tests\": full_tests,\n",
    "    }\n",
    "    dataset.append(new_entry)\n",
    "\n",
    "print(len(dataset))"
   ]
  },
  {
   "cell_type": "code",
   "execution_count": 3,
   "metadata": {},
   "outputs": [],
   "source": [
    "\n",
    "output_dir = os.path.abspath(\"../../train/code\")\n",
    "output_file = os.path.join(output_dir, \"code_contests_solution.json\")\n",
    "\n",
    "with open(output_file, \"w\") as f:\n",
    "    json.dump(dataset, f, indent=4)"
   ]
  },
  {
   "cell_type": "code",
   "execution_count": null,
   "metadata": {},
   "outputs": [
    {
     "name": "stdout",
     "output_type": "stream",
     "text": [
      "165\n"
     ]
    }
   ],
   "source": [
    "ds = load_dataset(\"deepmind/code_contests\", split=\"test\")\n",
    "\n",
    "\n",
    "dataset = []\n",
    "for entry in ds:\n",
    "    difficulty = entry[\"difficulty\"] # TODO: understand how the difficulty is calculated and convert the difficulty to a number from 1-10 or 0 for unknown\n",
    "\n",
    "    input_tests = entry[\"public_tests\"]['input'] + entry[\"private_tests\"]['input']\n",
    "    output_tests = entry[\"public_tests\"]['output'] + entry[\"private_tests\"]['output']\n",
    "    \n",
    "    full_tests = {\n",
    "        \"input\": input_tests,\n",
    "        \"output\": output_tests,\n",
    "    }\n",
    "    \n",
    "    new_entry = {\n",
    "        \"problem\": TEMPLATE.format(problem=entry[\"description\"], time_limit=entry[\"time_limit\"], memory_limit=entry[\"memory_limit_bytes\"]),\n",
    "        \"tests\": full_tests\n",
    "    }\n",
    "    dataset.append(new_entry)\n",
    "\n",
    "print(len(dataset))\n",
    "\n",
    "output_dir = os.path.abspath(\"../../test/code\")\n",
    "output_file = os.path.join(output_dir, \"code_contests.json\")\n",
    "\n",
    "with open(output_file, \"w\") as f:\n",
    "    json.dump(dataset, f, indent=4)"
   ]
  }
 ],
 "metadata": {
  "kernelspec": {
   "display_name": "rllm-xiao",
   "language": "python",
   "name": "python3"
  },
  "language_info": {
   "codemirror_mode": {
    "name": "ipython",
    "version": 3
   },
   "file_extension": ".py",
   "mimetype": "text/x-python",
   "name": "python",
   "nbconvert_exporter": "python",
   "pygments_lexer": "ipython3",
   "version": "3.10.16"
  }
 },
 "nbformat": 4,
 "nbformat_minor": 2
}
