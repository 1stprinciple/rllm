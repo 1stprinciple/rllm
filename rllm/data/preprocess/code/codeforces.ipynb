{
  "cells": [
    {
      "cell_type": "code",
      "execution_count": 1,
      "metadata": {
        "colab": {
          "base_uri": "https://localhost:8080/"
        },
        "id": "hmnrwuHZHxss",
        "outputId": "3896a25b-0eeb-4cd5-9d26-6eba6954fe53"
      },
      "outputs": [
        {
          "name": "stderr",
          "output_type": "stream",
          "text": [
            "/opt/conda/envs/rllm-xiao/lib/python3.10/site-packages/tqdm/auto.py:21: TqdmWarning: IProgress not found. Please update jupyter and ipywidgets. See https://ipywidgets.readthedocs.io/en/stable/user_install.html\n",
            "  from .autonotebook import tqdm as notebook_tqdm\n"
          ]
        },
        {
          "name": "stdout",
          "output_type": "stream",
          "text": [
            "Dataset({\n",
            "    features: ['contestId', 'name', 'tags', 'title', 'time-limit', 'memory-limit', 'problem-description', 'input-specification', 'output-specification', 'demo-input', 'demo-output', 'note', 'test_cases', 'timeConsumedMillis', 'memoryConsumedBytes', 'score', '__index_level_0__'],\n",
            "    num_rows: 7323\n",
            "})\n"
          ]
        }
      ],
      "source": [
        "import json\n",
        "import pandas as pd\n",
        "import os\n",
        "from datasets import load_dataset\n",
        "\n",
        "ds = load_dataset(\"DenCT/codeforces-problems-7k\", split=\"train\")\n",
        "\n",
        "print(ds)"
      ]
    },
    {
      "cell_type": "code",
<<<<<<< HEAD
      "execution_count": 54,
      "metadata": {},
      "outputs": [
        {
          "data": {
            "text/plain": [
              "{'contestId': 315,\n",
              " 'name': 'Sereja and Bottles',\n",
              " 'tags': ['brute force'],\n",
              " 'title': '',\n",
              " 'time-limit': None,\n",
              " 'memory-limit': None,\n",
              " 'problem-description': \"Sereja and his friends went to a picnic. The guys had *n* soda bottles just for it. Sereja forgot the bottle opener as usual, so the guys had to come up with another way to open bottles.\\n\\nSereja knows that the *i*-th bottle is from brand *a**i*, besides, you can use it to open other bottles of brand *b**i*. You can use one bottle to open multiple other bottles. Sereja can open bottle with opened bottle or closed bottle.\\n\\nKnowing this, Sereja wants to find out the number of bottles they've got that they won't be able to open in any way. Help him and find this number.\",\n",
              " 'input-specification': \"The first line contains integer *n* (1<=≤<=*n*<=≤<=100) — the number of bottles. The next *n* lines contain the bottles' description. The *i*-th line contains two integers *a**i*,<=*b**i* (1<=≤<=*a**i*,<=*b**i*<=≤<=1000) — the description of the *i*-th bottle.\",\n",
              " 'output-specification': 'In a single line print a single integer — the answer to the problem.',\n",
              " 'demo-input': ['4\\n1 1\\n2 2\\n3 3\\n4 4\\n', '4\\n1 2\\n2 3\\n3 4\\n4 1\\n'],\n",
              " 'demo-output': ['4\\n', '0\\n'],\n",
              " 'note': 'none',\n",
              " 'test_cases': [{'input': '4\\n1 1\\n2 2\\n3 3\\n4 4', 'output': '4'},\n",
              "  {'input': '4\\n1 2\\n2 3\\n3 4\\n4 1', 'output': '0'},\n",
              "  {'input': '3\\n2 828\\n4 392\\n4 903', 'output': '3'},\n",
              "  {'input': '4\\n2 3\\n1 772\\n3 870\\n3 668', 'output': '2'},\n",
              "  {'input': '5\\n1 4\\n6 6\\n4 3\\n3 4\\n4 758', 'output': '2'},\n",
              "  {'input': '6\\n4 843\\n2 107\\n10 943\\n9 649\\n7 806\\n6 730', 'output': '6'},\n",
              "  {'input': '7\\n351 955\\n7 841\\n102 377\\n394 102\\n549 440\\n630 324\\n624 624',\n",
              "   'output': '6'},\n",
              "  {'input': '8\\n83 978\\n930 674\\n542 22\\n834 116\\n116 271\\n640 930\\n659 930\\n705 987',\n",
              "   'output': '6'},\n",
              "  {'input': '9\\n162 942\\n637 967\\n356 108\\n768 53\\n656 656\\n575 32\\n32 575\\n53 53\\n351 222',\n",
              "   'output': '6'},\n",
              "  {'input': '10\\n423 360\\n947 538\\n507 484\\n31 947\\n414 351\\n169 901\\n901 21\\n592 22\\n763 200\\n656 485',\n",
              "   'output': '8'},\n",
              "  {'input': '1\\n1000 1000', 'output': '1'},\n",
              "  {'input': '1\\n500 1000', 'output': '1'},\n",
              "  {'input': '11\\n1 1\\n2 2\\n3 3\\n4 4\\n5 5\\n6 6\\n7 7\\n8 8\\n9 9\\n10 10\\n11 11',\n",
              "   'output': '11'},\n",
              "  {'input': '49\\n1 758\\n5 3\\n5 3\\n4 2\\n4 36\\n3 843\\n5 107\\n1 943\\n1 649\\n2 806\\n3 730\\n2 351\\n2 102\\n1 4\\n3 4\\n3 955\\n2 841\\n2 377\\n5 2\\n3 440\\n4 324\\n3 3\\n3 83\\n2 2\\n2 1\\n4 1\\n1 931\\n3 4\\n2 5\\n2 5\\n4 73\\n5 830\\n3 4\\n3 5\\n5 291\\n1 2\\n5 3\\n4 4\\n2 3\\n3 151\\n4 2\\n4 431\\n5 1\\n2 5\\n2 4\\n4 2\\n4 4\\n3 1\\n5 2',\n",
              "   'output': '0'},\n",
              "  {'input': '50\\n507 31\\n31 250\\n414 763\\n169 304\\n901 9\\n592 610\\n763 414\\n656 789\\n411 422\\n360 468\\n625 504\\n538 201\\n549 619\\n484 797\\n596 282\\n42 310\\n603 656\\n351 623\\n292 293\\n837 180\\n375 658\\n21 192\\n597 729\\n22 512\\n349 635\\n200 56\\n669 647\\n485 887\\n282 939\\n735 808\\n54 417\\n1000 310\\n419 652\\n939 617\\n901 669\\n789 390\\n128 549\\n468 511\\n729 837\\n894 729\\n649 894\\n484 22\\n808 586\\n422 286\\n311 427\\n618 656\\n814 933\\n515 901\\n310 894\\n617 330',\n",
              "   'output': '30'},\n",
              "  {'input': '2\\n7 7\\n5 359', 'output': '2'},\n",
              "  {'input': '2\\n465 706\\n706 706', 'output': '1'},\n",
              "  {'input': '2\\n1 1\\n1 1', 'output': '0'},\n",
              "  {'input': '3\\n1 1\\n1 1\\n2 2', 'output': '1'},\n",
              "  {'input': '5\\n1 1\\n1 2\\n2 3\\n3 4\\n4 3', 'output': '1'},\n",
              "  {'input': '3\\n1 2\\n1 2\\n1 1', 'output': '1'}],\n",
              " 'timeConsumedMillis': 154,\n",
              " 'memoryConsumedBytes': 3379200,\n",
              " 'score': -1.0,\n",
              " '__index_level_0__': 0}"
            ]
          },
          "execution_count": 54,
          "metadata": {},
          "output_type": "execute_result"
        }
      ],
      "source": [
        "ds[0]\n"
      ]
    },
    {
      "cell_type": "code",
      "execution_count": 4,
=======
      "execution_count": 55,
>>>>>>> origin/verl_code
      "metadata": {},
      "outputs": [],
      "source": [
        "TEMPLATE = \"\"\"\n",
        "{description}\n",
        "\n",
        "Input Format:\n",
        "{input_format}\n",
        "\n",
        "Output Format:\n",
        "{output_format}\n",
        "\n",
        "Tags:\n",
        "{tags}\n",
        "\n",
        "Time Limit: {time_limit} ms\n",
        "Memory Limit: {memory_limit} MB\n",
        "\"\"\"\n",
        "\n",
        "TEMPLATE_NO_LIMIT = \"\"\"\n",
        "{description}\n",
        "\n",
        "Input Format:\n",
        "{input_format}\n",
        "\n",
        "Output Format:\n",
        "{output_format}\n",
        "\n",
        "Tags:\n",
        "{tags}\n",
        "\n",
        "Demo input: {demo_input}\n",
        "Demo output: {demo_output}\n",
        "\"\"\"\n"
      ]
    },
    {
      "cell_type": "code",
      "execution_count": 2,
      "metadata": {
        "id": "311OF4w_K4EJ"
      },
      "outputs": [],
      "source": [
        "# func. to extract difficulty rating from tags\n",
        "def extract_difficulty(tags):\n",
        "    if pd.isnull(tags):  # Handles when tags are null\n",
        "        return 0\n",
        "    for tag in tags.split(\",\"):\n",
        "        if \"*\" in tag:  # Difficulty is marked with a '*' symbol\n",
        "            try:\n",
        "                return int(tag.replace(\"*\", \"\"))\n",
        "            except ValueError:\n",
        "                continue\n",
        "    return 0  # Default difficulty "
      ]
    },
    {
      "cell_type": "code",
      "execution_count": 5,
      "metadata": {
        "id": "U2gCVF4ULG9l"
      },
      "outputs": [
        {
          "name": "stdout",
          "output_type": "stream",
          "text": [
            "train dataset size: 7323\n"
          ]
        }
      ],
      "source": [
        "dataset = []\n",
        "for entry in ds:\n",
        "    new_entry = {\n",
        "        \"problem\": TEMPLATE_NO_LIMIT.format(\n",
        "            description=entry[\"problem-description\"],\n",
        "            input_format=entry[\"input-specification\"],\n",
        "            output_format=entry[\"output-specification\"],\n",
        "            tags=entry[\"tags\"],\n",
        "            demo_input=entry[\"demo-input\"],\n",
        "            demo_output=entry[\"demo-output\"],\n",
        "        ),\n",
        "        \"test_cases\": entry[\"test_cases\"],#str, when use it as a reward, need use json.loads\n",
        "    }\n",
        "    dataset.append(new_entry)\n",
        "\n",
        "print(f\"train dataset size: {len(dataset)}\")\n",
        "\n",
<<<<<<< HEAD
        "with open(\"../../train/code/train_codeforces.json\", \"w\") as f:\n",
=======
        "output_dir = os.path.abspath(\"../../../../data/train/code\")\n",
        "output_file = os.path.join(output_dir, \"train_codeforces.json\")\n",
        "\n",
        "with open(output_file, \"w\") as f:\n",
>>>>>>> origin/verl_code
        "    json.dump(dataset, f, indent=4)"
      ]
    },
    {
      "cell_type": "code",
      "execution_count": 6,
      "metadata": {},
      "outputs": [
        {
          "name": "stdout",
          "output_type": "stream",
          "text": [
            "Dataset({\n",
            "    features: ['problem_id', 'url', 'title', 'rating', 'tags', 'div', 'time_limit_ms', 'memory_limit_mb', 'description', 'input', 'output', 'interaction', 'examples', 'note'],\n",
            "    num_rows: 408\n",
            "})\n"
          ]
        }
      ],
      "source": [
        "ds = load_dataset(\"Qwen/CodeElo\", split=\"test\")\n",
        "\n",
        "print(ds)"
      ]
    },
    {
      "cell_type": "code",
      "execution_count": 7,
      "metadata": {},
      "outputs": [],
      "source": [
        "def process_test_cases(raw_cases):\n",
        "    # The first element is the full input string, the second is the full output string\n",
        "    formatted_cases = []\n",
        "    for rc in raw_cases:\n",
        "        input_case = rc[0]  # Keep input as a single string\n",
        "        output_case = rc[1]  # Keep output as a single string\n",
        "\n",
        "        # Structure the test cases\n",
        "        formatted_cases.append({\"input\": input_case, \"output\": output_case})\n",
        "\n",
        "    return formatted_cases"
      ]
    },
    {
      "cell_type": "code",
      "execution_count": 8,
      "metadata": {},
      "outputs": [
        {
          "name": "stdout",
          "output_type": "stream",
          "text": [
            "test dataset size: 408\n"
          ]
        }
      ],
      "source": [
        "dataset = []\n",
        "for entry in ds:\n",
        "    new_entry = {\n",
        "        \"problem\": TEMPLATE.format(\n",
        "            description=entry[\"description\"],\n",
        "            input_format=entry[\"input\"],\n",
        "            output_format=entry[\"output\"],\n",
        "            tags=entry[\"tags\"],\n",
        "            time_limit=entry[\"time_limit_ms\"],\n",
        "            memory_limit=entry[\"memory_limit_mb\"],\n",
        "        ),\n",
        "        \"test_cases\": process_test_cases(entry[\"examples\"]),#str, when use it as a reward, need use json.loads\n",
        "    }\n",
        "    dataset.append(new_entry)\n",
        "\n",
        "print(f\"test dataset size: {len(dataset)}\")\n",
        "\n",
<<<<<<< HEAD
        "with open(\"../../test/code/test_codeforces.json\", \"w\") as f:\n",
=======
        "output_dir = os.path.abspath(\"../../../../data/test/code\")\n",
        "output_file = os.path.join(output_dir, \"test_codeforces.json\")\n",
        "\n",
        "with open(output_file, \"w\") as f:\n",
>>>>>>> origin/verl_code
        "    json.dump(dataset, f, indent=4)"
      ]
    },
    {
      "cell_type": "code",
      "execution_count": null,
      "metadata": {},
      "outputs": [],
      "source": []
    }
  ],
  "metadata": {
    "colab": {
      "provenance": []
    },
    "kernelspec": {
      "display_name": "rllm-xiao",
      "language": "python",
      "name": "python3"
    },
    "language_info": {
      "codemirror_mode": {
        "name": "ipython",
        "version": 3
      },
      "file_extension": ".py",
      "mimetype": "text/x-python",
      "name": "python",
      "nbconvert_exporter": "python",
      "pygments_lexer": "ipython3",
      "version": "3.10.16"
    }
  },
  "nbformat": 4,
  "nbformat_minor": 0
}
