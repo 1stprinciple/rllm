{
 "cells": [
  {
   "cell_type": "code",
   "execution_count": null,
   "metadata": {},
   "outputs": [],
   "source": [
    "from datasets import load_dataset\n",
    "\n",
    "train_dataset = load_dataset(\"KodCode/KodCode-V1\", split=\"train\")\n",
    "print(\"Training set:\", train_dataset)\n"
   ]
  },
  {
   "cell_type": "markdown",
   "metadata": {},
   "source": [
    "## Filter Rules\n",
    "\n",
    "`style`: instruct\n",
    "\n",
    "`subset`: Leetcode, Codeforces, Code Contests, Taco, Apps\n",
    "\n",
    "`GPT4o Pass Count`: < 9\n",
    "\n",
    "`Benchmark Similarity`: < 0.9\n",
    "\n",
    "Test count: >= 4"
   ]
  },
  {
   "cell_type": "code",
   "execution_count": null,
   "metadata": {},
   "outputs": [],
   "source": [
    "# Filter the dataset to include only specific styles\n",
    "filtered_train_dataset = train_dataset.filter(lambda x: x['subset'] in ['Leetcode', 'Codeforces', 'Code_Contests', 'Apps', 'Taco'])\n",
    "# Filter for 'instruct' style\n",
    "instruct_dataset = filtered_train_dataset.filter(lambda x: x['style'] == 'instruct')\n",
    "# Filter for gpt_pass_trial_num < 10\n",
    "low_trials_dataset = instruct_dataset.filter(lambda x: x['gpt_pass_trial_num'] < 9)\n",
    "# Filter for benchmark similarity < 0.9\n",
    "high_quality_dataset = low_trials_dataset.filter(lambda x: x['benchmark_similarity'] < 0.9)\n",
    "# Filter for test codes with >= 4 'def' occurrences\n",
    "def_filtered_dataset = high_quality_dataset.filter(lambda x: x['test_code'].count('def') >= 8)"
   ]
  },
  {
   "cell_type": "code",
   "execution_count": null,
   "metadata": {},
   "outputs": [],
   "source": [
    "import os\n",
    "import json\n",
    "\n",
    "error_path = \"/home/roy/rllm/tests/rllm/rewards/kodcode_test_err_copy.json\"\n",
    "with open(error_path, \"r\") as f:\n",
    "    error_data = json.load(f)\n",
    "error_prob = [entry['problem'] for entry in error_data]\n",
    "\n",
    "dataset = []\n",
    "for entry in def_filtered_dataset:\n",
    "    tests = entry['test_code']\n",
    "    tests = '\\n'.join([line for line in tests.split('\\n') if not line.strip().startswith('from solution import')])\n",
    "    \n",
    "    problem =  f\"Please solve the programming task below using a self-contained code snippet in a markdown code block.\\n\\n{entry['question'].strip()}\"\n",
    "    if len(tests) == 0:\n",
    "        continue\n",
    "    new_entry = {\n",
    "        \"problem\": problem,\n",
    "        \"solutions\": entry[\"solution\"],\n",
    "        \"tests\": tests,\n",
    "    }\n",
    "    if problem not in error_prob:\n",
    "        dataset.append(new_entry)\n",
    "\n",
    "print(f'Dataset size: {len(dataset)}')\n",
    "\n",
    "\n",
    "output_dir = os.path.abspath(\"../../train/code\")\n",
    "output_file = os.path.join(output_dir, \"kodcode.json\")\n",
    "\n",
    "with open(output_file, \"w\") as f:\n",
    "    json.dump(dataset, f, indent=4)"
   ]
  }
 ],
 "metadata": {
  "kernelspec": {
   "display_name": "rllm-roy",
   "language": "python",
   "name": "python3"
  },
  "language_info": {
   "codemirror_mode": {
    "name": "ipython",
    "version": 3
   },
   "file_extension": ".py",
   "mimetype": "text/x-python",
   "name": "python",
   "nbconvert_exporter": "python",
   "pygments_lexer": "ipython3",
   "version": "3.10.16"
  }
 },
 "nbformat": 4,
 "nbformat_minor": 2
}
