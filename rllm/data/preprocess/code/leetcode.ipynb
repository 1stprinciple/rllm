{
 "cells": [
  {
   "cell_type": "code",
   "execution_count": 21,
   "metadata": {},
   "outputs": [
    {
     "name": "stdout",
     "output_type": "stream",
     "text": [
      "Test set: Dataset({\n",
      "    features: ['task_id', 'prompt', 'entry_point', 'test', 'completion', 'examples', 'src', 'meta'],\n",
      "    num_rows: 200\n",
      "})\n",
      "Before deduplication - Training set: Dataset({\n",
      "    features: ['task_id', 'prompt', 'entry_point', 'test', 'completion', 'examples', 'src', 'meta'],\n",
      "    num_rows: 1890\n",
      "})\n"
     ]
    }
   ],
   "source": [
    "from datasets import load_dataset, concatenate_datasets\n",
    "import os\n",
    "import json\n",
    "\n",
    "test_dataset = load_dataset(\"json\",\n",
    "                            data_files=\"hf://datasets/newfacade/LeetCodeDataset/LeetCodeDataset-v2-test-problems.jsonl\")[\"train\"]\n",
    "print(\"Test set:\", test_dataset)\n",
    "\n",
    "train_dataset = concatenate_datasets([\n",
    "    load_dataset(\n",
    "        \"json\",\n",
    "        data_files=\"hf://datasets/newfacade/LeetCodeDataset/LeetCodeDataset-v2-rl-problems.jsonl\",\n",
    "    )[\"train\"],\n",
    "    load_dataset(\n",
    "        \"json\",\n",
    "        data_files=\"hf://datasets/newfacade/LeetCodeDataset/LeetCodeDataset-v2-sft-problems.jsonl\",\n",
    "    )[\"train\"],\n",
    "]).filter(\n",
    "    lambda example: example[\"meta\"][\"question_id\"] not in set([d[\"question_id\"] for d in test_dataset[\"meta\"]]))\n",
    "print(\"Before deduplication - Training set:\", train_dataset)"
   ]
  },
  {
   "cell_type": "code",
   "execution_count": 22,
   "metadata": {},
   "outputs": [
    {
     "name": "stdout",
     "output_type": "stream",
     "text": [
      "After deduplication - Training set: Dataset({\n",
      "    features: ['task_id', 'prompt', 'entry_point', 'test', 'completion', 'examples', 'src', 'meta'],\n",
      "    num_rows: 1890\n",
      "})\n"
     ]
    }
   ],
   "source": [
    "first_time_idx = []\n",
    "seen_question_ids = set()\n",
    "for i, example in enumerate(train_dataset):\n",
    "    if example[\"meta\"][\"question_id\"] not in seen_question_ids:\n",
    "        first_time_idx.append(i)\n",
    "        seen_question_ids.add(example[\"meta\"][\"question_id\"])\n",
    "train_dataset = train_dataset.select(first_time_idx)\n",
    "\n",
    "print(\"After deduplication - Training set:\", train_dataset)"
   ]
  },
  {
   "cell_type": "code",
   "execution_count": 28,
   "metadata": {},
   "outputs": [
    {
     "name": "stdout",
     "output_type": "stream",
     "text": [
      "Dataset size: 1375\n"
     ]
    }
   ],
   "source": [
    "dataset = []\n",
    "for entry in train_dataset:\n",
    "    tests = {\"functional\": f\"{entry['test']}\\n\\ncheck({entry['entry_point'].strip()})\"}\n",
    "    problem =  f\"Please solve the programming task below using a self-contained code snippet in a markdown code block.\\n\\n{entry['meta']['query'].strip()}\"\n",
    "    if len(tests) == 0:\n",
    "        continue \n",
    "    new_entry = {\n",
    "        \"problem\": problem,\n",
    "        \"completion\": entry[\"completion\"],\n",
    "        \"tests\": tests,\n",
    "    }\n",
    "    if entry['meta']['difficulty'] != 'Easy':\n",
    "        dataset.append(new_entry)\n",
    "\n",
    "print(f'Dataset size: {len(dataset)}')\n",
    "\n",
    "output_dir = os.path.abspath(\"../../train/code\")\n",
    "output_file = os.path.join(output_dir, \"leetcode.json\")\n",
    "\n",
    "with open(output_file, \"w\") as f:\n",
    "    json.dump(dataset, f, indent=4)"
   ]
  },
  {
   "cell_type": "code",
   "execution_count": 29,
   "metadata": {},
   "outputs": [
    {
     "name": "stdout",
     "output_type": "stream",
     "text": [
      "Dataset size: 200\n"
     ]
    }
   ],
   "source": [
    "dataset = []\n",
    "for entry in test_dataset:\n",
    "    tests = {\"functional\": f\"{entry['test']}\\n\\ncheck({entry['entry_point'].strip()})\"}\n",
    "    problem =  f\"Please solve the programming task below using a self-contained code snippet in a markdown code block.\\n\\n{entry['meta']['query'].strip()}\"\n",
    "    if len(tests) == 0:\n",
    "        continue \n",
    "    new_entry = {\n",
    "        \"problem\": problem,\n",
    "        \"completion\": entry[\"completion\"],\n",
    "        \"tests\": tests,\n",
    "    }\n",
    "    dataset.append(new_entry)\n",
    "\n",
    "print(f'Dataset size: {len(dataset)}')\n",
    "\n",
    "output_dir = os.path.abspath(\"../../test/code\")\n",
    "output_file = os.path.join(output_dir, \"leetcode.json\")\n",
    "\n",
    "with open(output_file, \"w\") as f:\n",
    "    json.dump(dataset, f, indent=4)"
   ]
  },
  {
   "cell_type": "code",
   "execution_count": null,
   "metadata": {},
   "outputs": [],
   "source": []
  }
 ],
 "metadata": {
  "kernelspec": {
   "display_name": "rllm-roy",
   "language": "python",
   "name": "python3"
  },
  "language_info": {
   "codemirror_mode": {
    "name": "ipython",
    "version": 3
   },
   "file_extension": ".py",
   "mimetype": "text/x-python",
   "name": "python",
   "nbconvert_exporter": "python",
   "pygments_lexer": "ipython3",
   "version": "3.10.16"
  }
 },
 "nbformat": 4,
 "nbformat_minor": 2
}
