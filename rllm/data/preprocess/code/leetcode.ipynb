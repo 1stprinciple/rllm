{
 "cells": [
  {
   "cell_type": "code",
   "execution_count": 21,
   "metadata": {},
   "outputs": [
    {
     "name": "stdout",
     "output_type": "stream",
     "text": [
      "Test set: Dataset({\n",
      "    features: ['task_id', 'prompt', 'entry_point', 'test', 'completion', 'examples', 'src', 'meta'],\n",
      "    num_rows: 200\n",
      "})\n",
      "Before deduplication - Training set: Dataset({\n",
      "    features: ['task_id', 'prompt', 'entry_point', 'test', 'completion', 'examples', 'src', 'meta'],\n",
      "    num_rows: 1890\n",
      "})\n"
     ]
    }
   ],
   "source": [
    "from datasets import load_dataset, concatenate_datasets\n",
    "import os\n",
    "import json\n",
    "\n",
    "test_dataset = load_dataset(\"json\",\n",
    "                            data_files=\"hf://datasets/newfacade/LeetCodeDataset/LeetCodeDataset-v2-test-problems.jsonl\")[\"train\"]\n",
    "print(\"Test set:\", test_dataset)\n",
    "\n",
    "train_dataset = concatenate_datasets([\n",
    "    load_dataset(\n",
    "        \"json\",\n",
    "        data_files=\"hf://datasets/newfacade/LeetCodeDataset/LeetCodeDataset-v2-rl-problems.jsonl\",\n",
    "    )[\"train\"],\n",
    "    load_dataset(\n",
    "        \"json\",\n",
    "        data_files=\"hf://datasets/newfacade/LeetCodeDataset/LeetCodeDataset-v2-sft-problems.jsonl\",\n",
    "    )[\"train\"],\n",
    "]).filter(\n",
    "    lambda example: example[\"meta\"][\"question_id\"] not in set([d[\"question_id\"] for d in test_dataset[\"meta\"]]))\n",
    "print(\"Before deduplication - Training set:\", train_dataset)"
   ]
  },
  {
   "cell_type": "code",
   "execution_count": 22,
   "metadata": {},
   "outputs": [
    {
     "name": "stdout",
     "output_type": "stream",
     "text": [
      "After deduplication - Training set: Dataset({\n",
      "    features: ['task_id', 'prompt', 'entry_point', 'test', 'completion', 'examples', 'src', 'meta'],\n",
      "    num_rows: 1890\n",
      "})\n"
     ]
    }
   ],
   "source": [
    "first_time_idx = []\n",
    "seen_question_ids = set()\n",
    "for i, example in enumerate(train_dataset):\n",
    "    if example[\"meta\"][\"question_id\"] not in seen_question_ids:\n",
    "        first_time_idx.append(i)\n",
    "        seen_question_ids.add(example[\"meta\"][\"question_id\"])\n",
    "train_dataset = train_dataset.select(first_time_idx)\n",
    "\n",
    "print(\"After deduplication - Training set:\", train_dataset)"
   ]
  },
  {
   "cell_type": "code",
   "execution_count": 23,
   "metadata": {},
   "outputs": [
    {
     "data": {
      "text/plain": [
       "{'task_id': 'number-of-ways-to-paint-n-3-grid',\n",
       " 'prompt': \"from typing import *\\n\\nfrom functools import *\\nfrom collections import *\\nfrom itertools import *\\nfrom heapq import *\\nfrom bisect import *\\nfrom string import *\\nfrom operator import *\\nfrom math import *\\nimport math\\nimport datetime\\ninf = float('inf')\\n\",\n",
       " 'entry_point': 'Solution().numOfWays',\n",
       " 'test': 'def check(candidate):\\n    assert candidate(n = 1) == 12\\n    assert candidate(n = 2) == 54\\n    assert candidate(n = 3) == 246\\n    assert candidate(n = 7) == 106494\\n    assert candidate(n = 5000) == 30228214\\n',\n",
       " 'completion': 'class Solution:\\n    def numOfWays(self, n: int) -> int:\\n        mod = 10**9 + 7\\n        f0 = f1 = 6\\n        for _ in range(n - 1):\\n            g0 = (3 * f0 + 2 * f1) % mod\\n            g1 = (2 * f0 + 2 * f1) % mod\\n            f0, f1 = g0, g1\\n        return (f0 + f1) % mod\\n',\n",
       " 'examples': [{'input': 'n = 1', 'output': '12'},\n",
       "  {'input': 'n = 2', 'output': '54'},\n",
       "  {'input': 'n = 3', 'output': '246'},\n",
       "  {'input': 'n = 7', 'output': '106494'},\n",
       "  {'input': 'n = 5000', 'output': '30228214'}],\n",
       " 'src': 'You have a grid of size n x 3 and you want to paint each cell of the grid with exactly one of the three colors: Red, Yellow, or Green while making sure that no two adjacent cells have the same color (i.e., no two cells that share vertical or horizontal sides have the same color).\\nGiven n the number of rows of the grid, return the number of ways you can paint this grid. As the answer may grow large, the answer must be computed modulo 109 + 7.\\n\\xa0\\nPlease complete the following python code precisely:\\n```python\\nclass Solution:\\n    def numOfWays(self, n: int) -> int:\\n```',\n",
       " 'meta': {'question_id': 1527,\n",
       "  'difficulty': 'Hard',\n",
       "  'lang_code': 'class Solution:\\n    def numOfWays(self, n: int) -> int:',\n",
       "  'question_title': 'You have a grid of size n x 3 and you want to paint each cell of the grid with exactly one of the three colors: Red, Yellow, or Green while making sure that no two adjacent cells have the same color (i.e., no two cells that share vertical or horizontal sides have the same color).\\nGiven n the number of rows of the grid, return the number of ways you can paint this grid. As the answer may grow large, the answer must be computed modulo 109 + 7.\\n\\xa0\\nExample 1:\\n\\n\\nInput: n = 1\\nOutput: 12\\nExplanation: There are 12 possible way to paint the grid as shown.\\n\\nExample 2:\\n\\nInput: n = 5000\\nOutput: 30228214\\n\\n\\xa0\\nConstraints:\\n\\nn == grid.length\\n1 <= n <= 5000\\n\\n',\n",
       "  'query': 'You have a grid of size n x 3 and you want to paint each cell of the grid with exactly one of the three colors: Red, Yellow, or Green while making sure that no two adjacent cells have the same color (i.e., no two cells that share vertical or horizontal sides have the same color).\\nGiven n the number of rows of the grid, return the number of ways you can paint this grid. As the answer may grow large, the answer must be computed modulo 109 + 7.\\n\\xa0\\nPlease complete the following python code precisely:\\n```python\\nclass Solution:\\n    def numOfWays(self, n: int) -> int:\\n```',\n",
       "  'response': 'To solve this problem, we can use dynamic programming to count the number of ways to paint the grid. The key observation is that the color of each row depends only on the color of the previous row. We can define two states:\\n\\n1. `a[i]`: The number of ways to paint the i-th row such that the i-th row has a pattern where all three cells are different colors (e.g., RGB).\\n2. `b[i]`: The number of ways to paint the i-th row such that the i-th row has a pattern where two adjacent cells have the same color and the third one is different (e.g., RRB).\\n\\nThe transitions between states can be derived as follows:\\n\\n- If the current row has a pattern of all different colors (`a[i]`), it can be followed by:\\n  - A row with all different colors (`a[i+1]`): There are 2 ways to do this (e.g., RGB can be followed by GRB or BRG).\\n  - A row with two adjacent cells having the same color (`b[i+1]`): There are 2 ways to do this (e.g., RGB can be followed by RRG or RBB).\\n\\n- If the current row has a pattern of two adjacent cells having the same color (`b[i]`), it can be followed by:\\n  - A row with all different colors (`a[i+1]`): There are 2 ways to do this (e.g., RRG can be followed by GRB or BRG).\\n  - A row with two adjacent cells having the same color (`b[i+1]`): There is 3 ways to do this (e.g., RRG can be followed by RRB, RGG, or GRR).\\n\\nThe base cases are:\\n- `a[1] = 6`: There are 6 ways to paint the first row with all different colors (RGB, RBG, GRB, GBR, BRG, BGR).\\n- `b[1] = 6`: There are 6 ways to paint the first row with two adjacent cells having the same color (RRG, RRB, RGG, RGB, GRR, GGB).\\n\\nThe final answer is the sum of `a[n]` and `b[n]`, modulo \\\\(10^9 + 7\\\\).\\n\\nHere is the complete code:\\n\\n```python\\nclass Solution:\\n    def numOfWays(self, n: int) -> int:\\n        MOD = 10**9 + 7\\n        \\n        # Base cases\\n        a = 6  # All different colors\\n        b = 6  # Two adjacent cells have the same color\\n        \\n        for _ in range(2, n + 1):\\n            a_next = (2 * a + 2 * b) % MOD\\n            b_next = (2 * a + 3 * b) % MOD\\n            a, b = a_next, b_next\\n        \\n        return (a + b) % MOD\\n```\\n\\nThis code efficiently computes the number of ways to paint the grid using dynamic programming, with a time complexity of \\\\(O(n)\\\\) and a space complexity of \\\\(O(1)\\\\).',\n",
       "  'split': 'rl'}}"
      ]
     },
     "execution_count": 23,
     "metadata": {},
     "output_type": "execute_result"
    }
   ],
   "source": [
    "train_dataset[0]\n"
   ]
  },
  {
   "cell_type": "code",
   "execution_count": null,
   "metadata": {},
   "outputs": [
    {
     "name": "stdout",
     "output_type": "stream",
     "text": [
      "Dataset size: 1890\n"
     ]
    }
   ],
   "source": [
    "dataset = []\n",
    "for entry in train_dataset:\n",
    "    tests = {\"functional\": f\"{entry['test']}\\n\\ncheck({entry['entry_point'].strip()})\"}\n",
    "    problem =  f\"Please solve the programming task below using a self-contained code snippet in a markdown code block.\\n\\n{entry['meta']['query'].strip()}\"\n",
    "    if len(tests) == 0:\n",
    "        continue \n",
    "    new_entry = {\n",
    "        \"problem\": problem,\n",
    "        \"completion\": entry[\"completion\"],\n",
    "        \"tests\": tests,\n",
    "    }\n",
    "    dataset.append(new_entry)\n",
    "\n",
    "print(f'Dataset size: {len(dataset)}')\n",
    "\n",
    "output_dir = os.path.abspath(\"../../train/code\")\n",
    "output_file = os.path.join(output_dir, \"leetcode.json\")\n",
    "\n",
    "with open(output_file, \"w\") as f:\n",
    "    json.dump(dataset, f, indent=4)"
   ]
  },
  {
   "cell_type": "code",
   "execution_count": null,
   "metadata": {},
   "outputs": [
    {
     "name": "stdout",
     "output_type": "stream",
     "text": [
      "Dataset size: 200\n"
     ]
    }
   ],
   "source": [
    "dataset = []\n",
    "for entry in test_dataset:\n",
    "    tests = {\"functional\": f\"{entry['test']}\\n\\ncheck({entry['entry_point'].strip()})\"}\n",
    "    problem =  f\"Please solve the programming task below using a self-contained code snippet in a markdown code block.\\n\\n{entry['meta']['query'].strip()}\"\n",
    "    if len(tests) == 0:\n",
    "        continue \n",
    "    new_entry = {\n",
    "        \"problem\": problem,\n",
    "        \"completion\": entry[\"completion\"],\n",
    "        \"tests\": tests,\n",
    "    }\n",
    "    dataset.append(new_entry)\n",
    "\n",
    "print(f'Dataset size: {len(dataset)}')\n",
    "\n",
    "output_dir = os.path.abspath(\"../../test/code\")\n",
    "output_file = os.path.join(output_dir, \"leetcode.json\")\n",
    "\n",
    "with open(output_file, \"w\") as f:\n",
    "    json.dump(dataset, f, indent=4)"
   ]
  },
  {
   "cell_type": "code",
   "execution_count": null,
   "metadata": {},
   "outputs": [],
   "source": []
  }
 ],
 "metadata": {
  "kernelspec": {
   "display_name": "rllm-roy",
   "language": "python",
   "name": "python3"
  },
  "language_info": {
   "codemirror_mode": {
    "name": "ipython",
    "version": 3
   },
   "file_extension": ".py",
   "mimetype": "text/x-python",
   "name": "python",
   "nbconvert_exporter": "python",
   "pygments_lexer": "ipython3",
   "version": "3.10.16"
  }
 },
 "nbformat": 4,
 "nbformat_minor": 2
}
