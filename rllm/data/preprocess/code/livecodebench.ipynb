{
 "cells": [
  {
   "cell_type": "code",
   "execution_count": 4,
   "metadata": {},
   "outputs": [
    {
     "name": "stdout",
     "output_type": "stream",
     "text": [
      "Dataset({\n",
      "    features: ['question_title', 'question_content', 'platform', 'question_id', 'contest_id', 'contest_date', 'starter_code', 'difficulty', 'public_test_cases', 'private_test_cases', 'metadata'],\n",
      "    num_rows: 880\n",
      "})\n"
     ]
    }
   ],
   "source": [
    "from datasets import load_dataset\n",
    "import json \n",
    "livecodebench = load_dataset(\"livecodebench/code_generation_lite\", version_tag=\"release_v5\", trust_remote_code=True, split=\"test\")\n",
    "\n",
    "print(livecodebench)\n",
    "\n"
   ]
  },
  {
   "cell_type": "code",
   "execution_count": 5,
   "metadata": {},
   "outputs": [
    {
     "name": "stdout",
     "output_type": "stream",
     "text": [
      "len(dataset): 879\n"
     ]
    }
   ],
   "source": [
    "\n",
    "dataset = []\n",
    "for entry in livecodebench:\n",
    "    public_test_cases = entry[\"public_test_cases\"]\n",
    "    if isinstance(public_test_cases, str):\n",
    "        try:\n",
    "            public_test_cases = json.loads(public_test_cases)\n",
    "        except json.JSONDecodeError as e:\n",
    "            print(f\"code reward Json Error parsing livecodebench: {e}\")\n",
    "            continue \n",
    "    if len(public_test_cases) == 0:\n",
    "        #this does not have public_test_case\n",
    "        continue \n",
    "    new_entry = {\n",
    "        \"problem_title\": entry[\"question_title\"],\n",
    "        \"problem\": entry[\"question_content\"],\n",
    "        \"starter_code\": entry[\"starter_code\"],\n",
    "        \"difficulty\":entry[\"starter_code\"],\n",
    "    }\n",
    "    new_entry[\"public_test_cases\"] = entry[\"public_test_cases\"]\n",
    "    dataset.append(new_entry)\n",
    "\n",
    "print(f'len(dataset): {len(dataset)}')\n",
    "with open(\"../../test/code/livecodebench.json\", \"w\") as f:\n",
    "    json.dump(dataset, f, indent=4)\n"
   ]
  }
 ],
 "metadata": {
  "kernelspec": {
   "display_name": "rllm-xiao",
   "language": "python",
   "name": "python3"
  },
  "language_info": {
   "codemirror_mode": {
    "name": "ipython",
    "version": 3
   },
   "file_extension": ".py",
   "mimetype": "text/x-python",
   "name": "python",
   "nbconvert_exporter": "python",
   "pygments_lexer": "ipython3",
   "version": "3.10.16"
  }
 },
 "nbformat": 4,
 "nbformat_minor": 2
}
