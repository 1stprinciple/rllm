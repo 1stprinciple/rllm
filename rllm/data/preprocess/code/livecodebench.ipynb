{
 "cells": [
  {
   "cell_type": "code",
   "execution_count": 1,
   "metadata": {},
   "outputs": [
    {
     "name": "stderr",
     "output_type": "stream",
     "text": [
      "/opt/conda/envs/rllm/lib/python3.10/site-packages/tqdm/auto.py:21: TqdmWarning: IProgress not found. Please update jupyter and ipywidgets. See https://ipywidgets.readthedocs.io/en/stable/user_install.html\n",
      "  from .autonotebook import tqdm as notebook_tqdm\n",
      "Generating test split: 880 examples [00:26, 33.39 examples/s] "
     ]
    },
    {
     "name": "stdout",
     "output_type": "stream",
     "text": [
      "Dataset({\n",
      "    features: ['question_title', 'question_content', 'platform', 'question_id', 'contest_id', 'contest_date', 'starter_code', 'difficulty', 'public_test_cases', 'private_test_cases', 'metadata'],\n",
      "    num_rows: 880\n",
      "})\n"
     ]
    },
    {
     "name": "stderr",
     "output_type": "stream",
     "text": [
      "\n"
     ]
    }
   ],
   "source": [
    "from datasets import load_dataset\n",
    "import os\n",
    "import json \n",
    "\n",
    "livecodebench = load_dataset(\"livecodebench/code_generation_lite\", version_tag=\"release_v5\", trust_remote_code=True, split=\"test\")\n",
    "print(livecodebench)"
   ]
  },
  {
   "cell_type": "code",
   "execution_count": 2,
   "metadata": {},
   "outputs": [],
   "source": [
    "from datetime import datetime\n",
    "\n",
    "# deepseek paper uses lcb from 2024-08 to 2025-01\n",
    "def is_date_in_range(date_str):\n",
    "    date_obj = datetime.strptime(date_str, \"%Y-%m-%dT%H:%M:%S\")\n",
    "    # Define the start and end range\n",
    "    start_date = datetime(2024, 8, 1)  # August 1, 2024\n",
    "    end_date = datetime(2025, 2, 1)    # February 1, 2025\n",
    "\n",
    "    # Check if the date is within the range\n",
    "    return start_date <= date_obj < end_date"
   ]
  },
  {
   "cell_type": "code",
   "execution_count": 5,
   "metadata": {},
   "outputs": [
    {
     "name": "stdout",
     "output_type": "stream",
     "text": [
      "{'contest_date': '2023-09-03T00:00:00',\n",
      " 'contest_id': 'weekly-contest-361',\n",
      " 'difficulty': 'medium',\n",
      " 'metadata': '{\"func_name\": \"minimumOperations\"}',\n",
      " 'platform': 'leetcode',\n",
      " 'private_test_cases': 'eJy1kjtKBEEQQA02M/MEQ8eL1P/jSQTXQGSFBZldcCYQETyE3tcaMdEBYRisqLuqX/crut42Hxebs6+4Pq/FzUs79KdxaFdd2zXftbbt2nEcvlM4bYf90zA8n/ZT4mHs74fDsb97bK/b7gfMa2BaA+MaONbAuQb2GU1LvGfiS2ifffUiWlXEQRNULYFBkdKRSdGBlasOxOZmbGqelqKEVAWpc6IsDCYckMKqHB5kVoyEBBMKYc6/ZZFguIZzWVndplErctZQd/CpZCAkARFGxJlRb2sqAwGZA2q6G2PdINUaVraa8HITy+q9pHE+7rBkZOHfg/S34Z+Ct++Xn7G4HPw=',\n",
      " 'public_test_cases': '[{\"input\": \"\\\\\"2245047\\\\\"\", \"output\": \"2\", \"testtype\": '\n",
      "                      '\"functional\"}, {\"input\": \"\\\\\"2908305\\\\\"\", \"output\": '\n",
      "                      '\"3\", \"testtype\": \"functional\"}, {\"input\": \"\\\\\"10\\\\\"\", '\n",
      "                      '\"output\": \"1\", \"testtype\": \"functional\"}]',\n",
      " 'question_content': 'You are given a 0-indexed string num representing a '\n",
      "                     'non-negative integer.\\n'\n",
      "                     'In one operation, you can pick any digit of num and '\n",
      "                     'delete it. Note that if you delete all the digits of '\n",
      "                     'num, num becomes 0.\\n'\n",
      "                     'Return the minimum number of operations required to make '\n",
      "                     'num special.\\n'\n",
      "                     'An integer x is considered special if it is divisible by '\n",
      "                     '25.\\n'\n",
      "                     ' \\n'\n",
      "                     'Example 1:\\n'\n",
      "                     '\\n'\n",
      "                     'Input: num = \"2245047\"\\n'\n",
      "                     'Output: 2\\n'\n",
      "                     'Explanation: Delete digits num[5] and num[6]. The '\n",
      "                     'resulting number is \"22450\" which is special since it is '\n",
      "                     'divisible by 25.\\n'\n",
      "                     'It can be shown that 2 is the minimum number of '\n",
      "                     'operations required to get a special number.\\n'\n",
      "                     'Example 2:\\n'\n",
      "                     '\\n'\n",
      "                     'Input: num = \"2908305\"\\n'\n",
      "                     'Output: 3\\n'\n",
      "                     'Explanation: Delete digits num[3], num[4], and num[6]. '\n",
      "                     'The resulting number is \"2900\" which is special since it '\n",
      "                     'is divisible by 25.\\n'\n",
      "                     'It can be shown that 3 is the minimum number of '\n",
      "                     'operations required to get a special number.\\n'\n",
      "                     'Example 3:\\n'\n",
      "                     '\\n'\n",
      "                     'Input: num = \"10\"\\n'\n",
      "                     'Output: 1\\n'\n",
      "                     'Explanation: Delete digit num[0]. The resulting number '\n",
      "                     'is \"0\" which is special since it is divisible by 25.\\n'\n",
      "                     'It can be shown that 1 is the minimum number of '\n",
      "                     'operations required to get a special number.\\n'\n",
      "                     '\\n'\n",
      "                     '\\n'\n",
      "                     ' \\n'\n",
      "                     'Constraints:\\n'\n",
      "                     '\\n'\n",
      "                     '1 <= num.length <= 100\\n'\n",
      "                     \"num only consists of digits '0' through '9'.\\n\"\n",
      "                     'num does not contain any leading zeros.',\n",
      " 'question_id': '3046',\n",
      " 'question_title': 'minimum-operations-to-make-a-special-number',\n",
      " 'starter_code': 'class Solution:\\n'\n",
      "                 '    def minimumOperations(self, num: str) -> int:\\n'\n",
      "                 '        '}\n",
      "len(dataset): 0\n"
     ]
    }
   ],
   "source": [
    "dataset = []\n",
    "for entry in livecodebench:\n",
    "    tests = entry[\"public_test_cases\"]\n",
    "    if isinstance(tests, str):\n",
    "        try:\n",
    "            tests = json.loads(tests)\n",
    "        except json.JSONDecodeError as e:\n",
    "            print(f\"code reward Json Error parsing livecodebench: {e}\")\n",
    "            continue \n",
    "\n",
    "    if len(tests) == 0:\n",
    "        continue \n",
    "    new_entry = {\n",
    "        \"problem\": entry[\"question_content\"],\n",
    "        \"starter_code\": entry[\"starter_code\"],\n",
    "        \"tests\": tests,\n",
    "    }\n",
    "    dataset.append(new_entry)\n",
    "\n",
    "print(f'len(dataset): {len(dataset)}')\n",
    "\n",
    "output_dir = os.path.abspath(\"../../test/code\")\n",
    "output_file = os.path.join(output_dir, \"livecodebench.json\")\n",
    "\n",
    "with open(output_file, \"w\") as f:\n",
    "    json.dump(dataset, f, indent=4)\n"
   ]
  },
  {
   "cell_type": "code",
   "execution_count": null,
   "metadata": {},
   "outputs": [],
   "source": []
  }
 ],
 "metadata": {
  "kernelspec": {
   "display_name": "rllm",
   "language": "python",
   "name": "python3"
  },
  "language_info": {
   "codemirror_mode": {
    "name": "ipython",
    "version": 3
   },
   "file_extension": ".py",
   "mimetype": "text/x-python",
   "name": "python",
   "nbconvert_exporter": "python",
   "pygments_lexer": "ipython3",
   "version": "3.10.16"
  }
 },
 "nbformat": 4,
 "nbformat_minor": 2
}
