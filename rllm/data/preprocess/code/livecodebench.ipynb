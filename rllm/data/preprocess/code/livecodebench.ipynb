{
 "cells": [
  {
   "cell_type": "code",
   "execution_count": 4,
   "metadata": {},
   "outputs": [
    {
     "name": "stdout",
     "output_type": "stream",
     "text": [
      "Dataset({\n",
      "    features: ['question_title', 'question_content', 'platform', 'question_id', 'contest_id', 'contest_date', 'starter_code', 'difficulty', 'public_test_cases', 'private_test_cases', 'metadata'],\n",
      "    num_rows: 880\n",
      "})\n"
     ]
    }
   ],
   "source": [
    "from datasets import load_dataset\n",
    "import os\n",
    "import json \n",
    "\n",
    "livecodebench = load_dataset(\"livecodebench/code_generation_lite\", version_tag=\"release_v5\", trust_remote_code=True, split=\"test\")\n",
    "print(livecodebench)"
   ]
  },
  {
   "cell_type": "code",
   "execution_count": 5,
   "metadata": {},
   "outputs": [],
   "source": [
    "from datetime import datetime\n",
    "\n",
    "# deepseek paper uses lcb from 2024-08 to 2025-01\n",
    "def is_date_in_range(date_str):\n",
    "    date_obj = datetime.strptime(date_str, \"%Y-%m-%dT%H:%M:%S\")\n",
    "    # Define the start and end range\n",
    "    start_date = datetime(2024, 8, 1)  # August 1, 2024\n",
    "    end_date = datetime(2025, 2, 1)    # February 1, 2025\n",
    "\n",
    "    # Check if the date is within the range\n",
    "    return start_date <= date_obj < end_date"
   ]
  },
  {
   "cell_type": "code",
   "execution_count": 6,
   "metadata": {},
   "outputs": [
    {
     "name": "stdout",
     "output_type": "stream",
     "text": [
      "Dataset size: 879\n"
     ]
    }
   ],
   "source": [
    "dataset = []\n",
    "for entry in livecodebench:\n",
    "    tests = entry[\"public_test_cases\"]\n",
    "    if isinstance(tests, str):\n",
    "        try:\n",
    "            tests = json.loads(tests)\n",
    "        except json.JSONDecodeError as e:\n",
    "            print(f\"code reward Json Error parsing livecodebench: {e}\")\n",
    "            continue \n",
    "\n",
    "    if len(tests) == 0:\n",
    "        continue \n",
    "    new_entry = {\n",
    "        \"problem\": entry[\"question_content\"],\n",
    "        \"starter_code\": entry[\"starter_code\"],\n",
    "        \"tests\": tests,\n",
    "    }\n",
    "    dataset.append(new_entry)\n",
    "\n",
    "print(f'Dataset size: {len(dataset)}')\n",
    "\n",
    "output_dir = os.path.abspath(\"../../test/code\")\n",
    "output_file = os.path.join(output_dir, \"livecodebench.json\")\n",
    "\n",
    "with open(output_file, \"w\") as f:\n",
    "    json.dump(dataset, f, indent=4)\n"
   ]
  },
  {
   "cell_type": "code",
   "execution_count": null,
   "metadata": {},
   "outputs": [],
   "source": []
  }
 ],
 "metadata": {
  "kernelspec": {
   "display_name": "rllm",
   "language": "python",
   "name": "python3"
  },
  "language_info": {
   "codemirror_mode": {
    "name": "ipython",
    "version": 3
   },
   "file_extension": ".py",
   "mimetype": "text/x-python",
   "name": "python",
   "nbconvert_exporter": "python",
   "pygments_lexer": "ipython3",
   "version": "3.10.16"
  }
 },
 "nbformat": 4,
 "nbformat_minor": 2
}
