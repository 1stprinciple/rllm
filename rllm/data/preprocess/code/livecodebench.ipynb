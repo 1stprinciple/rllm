{
 "cells": [
  {
   "cell_type": "code",
   "execution_count": 1,
   "metadata": {},
   "outputs": [
    {
     "name": "stderr",
     "output_type": "stream",
     "text": [
      "/opt/conda/envs/ro1/lib/python3.10/site-packages/tqdm/auto.py:21: TqdmWarning: IProgress not found. Please update jupyter and ipywidgets. See https://ipywidgets.readthedocs.io/en/stable/user_install.html\n",
      "  from .autonotebook import tqdm as notebook_tqdm\n",
      "Generating test split: 880 examples [00:28, 30.90 examples/s] "
     ]
    },
    {
     "name": "stdout",
     "output_type": "stream",
     "text": [
      "Dataset({\n",
      "    features: ['question_title', 'question_content', 'platform', 'question_id', 'contest_id', 'contest_date', 'starter_code', 'difficulty', 'public_test_cases', 'private_test_cases', 'metadata'],\n",
      "    num_rows: 880\n",
      "})\n"
     ]
    },
    {
     "name": "stderr",
     "output_type": "stream",
     "text": [
      "\n"
     ]
    }
   ],
   "source": [
    "from datasets import load_dataset\n",
    "import os\n",
    "import json \n",
    "\n",
    "livecodebench = load_dataset(\"livecodebench/code_generation_lite\", version_tag=\"release_v5\", trust_remote_code=True, split=\"test\")\n",
    "print(livecodebench)"
   ]
  },
  {
   "cell_type": "code",
   "execution_count": 4,
   "metadata": {},
   "outputs": [
    {
     "data": {
      "text/plain": [
       "{'question_title': 'A. Short Sort',\n",
       " 'question_content': 'There are three cards with letters $\\\\texttt{a}$, $\\\\texttt{b}$, $\\\\texttt{c}$ placed in a row in some order. You can do the following operation at most once: \\n\\n \\n-  Pick two cards, and swap them.  Is it possible that the row becomes $\\\\texttt{abc}$ after the operation? Output \"YES\" if it is possible, and \"NO\" otherwise.\\n\\nInput\\n\\nThe first line contains a single integer $t$ ($1 \\\\leq t \\\\leq 6$)\\xa0— the number of test cases.\\n\\nThe only line of each test case contains a single string consisting of each of the three characters $\\\\texttt{a}$, $\\\\texttt{b}$, and $\\\\texttt{c}$ exactly once, representing the cards.\\n\\nOutput\\n\\nFor each test case, output \"YES\" if you can make the row $\\\\texttt{abc}$ with at most one operation, or \"NO\" otherwise.\\n\\nYou can output the answer in any case (for example, the strings \"yEs\", \"yes\", \"Yes\" and \"YES\" will be recognized as a positive answer).Sample Input 1:\\n6\\n\\nabc\\n\\nacb\\n\\nbac\\n\\nbca\\n\\ncab\\n\\ncba\\n\\n\\n\\nSample Output 1:\\n\\nYES\\nYES\\nYES\\nNO\\nNO\\nYES\\n\\n\\nNote\\n\\nIn the first test case, we don\\'t need to do any operations, since the row is already $\\\\texttt{abc}$.\\n\\nIn the second test case, we can swap $\\\\texttt{c}$ and $\\\\texttt{b}$: $\\\\texttt{acb} \\\\to \\\\texttt{abc}$.\\n\\nIn the third test case, we can swap $\\\\texttt{b}$ and $\\\\texttt{a}$: $\\\\texttt{bac} \\\\to \\\\texttt{abc}$.\\n\\nIn the fourth test case, it is impossible to make $\\\\texttt{abc}$ using at most one operation.',\n",
       " 'platform': 'codeforces',\n",
       " 'question_id': '1873_A',\n",
       " 'contest_id': '1873',\n",
       " 'contest_date': '2023-08-21T00:00:00',\n",
       " 'starter_code': '',\n",
       " 'difficulty': 'easy',\n",
       " 'public_test_cases': '[{\"input\": \"6\\\\nabc\\\\nacb\\\\nbac\\\\nbca\\\\ncab\\\\ncba\\\\n\", \"output\": \"YES\\\\nYES\\\\nYES\\\\nNO\\\\nNO\\\\nYES\\\\n\", \"testtype\": \"stdin\"}]',\n",
       " 'private_test_cases': 'eJxrYJmaz8gABhEZQEZ0tVJmXkFpiZKVgpJhTF5iUnJMnpKOglJ+aQlUNNI1GCJUklpcUlJZkAoSLC5JycxTqtVRQNJuDNWOILAYhCCIMdI0Ji85MQloWjKQSE5KjMlLSgSam5SciG64nz+y2WACJESMJWYY7ibFG8T5KnaKHgAcinnp',\n",
       " 'metadata': '{}'}"
      ]
     },
     "execution_count": 4,
     "metadata": {},
     "output_type": "execute_result"
    }
   ],
   "source": [
    "livecodebench[0]"
   ]
  },
  {
   "cell_type": "code",
   "execution_count": 5,
   "metadata": {},
   "outputs": [],
   "source": [
    "from datetime import datetime\n",
    "\n",
    "# deepseek paper uses lcb from 2024-08 to 2025-01\n",
    "def is_date_in_range(date_str):\n",
    "    date_obj = datetime.strptime(date_str, \"%Y-%m-%dT%H:%M:%S\")\n",
    "    # Define the start and end range\n",
    "    start_date = datetime(2024, 8, 1)  # August 1, 2024\n",
    "    end_date = datetime(2025, 2, 1)    # February 1, 2025\n",
    "\n",
    "    # Check if the date is within the range\n",
    "    return start_date <= date_obj < end_date"
   ]
  },
  {
   "cell_type": "code",
   "execution_count": 6,
   "metadata": {},
   "outputs": [
    {
     "name": "stdout",
     "output_type": "stream",
     "text": [
      "Dataset size: 279\n"
     ]
    }
   ],
   "source": [
    "dataset = []\n",
    "for entry in livecodebench:\n",
    "    tests = entry[\"public_test_cases\"]\n",
    "    if isinstance(tests, str):\n",
    "        try:\n",
    "            tests = json.loads(tests)\n",
    "        except json.JSONDecodeError as e:\n",
    "            print(f\"code reward Json Error parsing livecodebench: {e}\")\n",
    "            continue \n",
    "\n",
    "    if len(tests) == 0:\n",
    "        continue \n",
    "    new_entry = {\n",
    "        \"problem\": entry[\"question_content\"],\n",
    "        \"starter_code\": entry[\"starter_code\"],\n",
    "        \"tests\": tests,\n",
    "    }\n",
    "    if is_date_in_range(entry['contest_date']):\n",
    "        dataset.append(new_entry)\n",
    "\n",
    "print(f'Dataset size: {len(dataset)}')\n",
    "\n",
    "output_dir = os.path.abspath(\"../../test/code\")\n",
    "output_file = os.path.join(output_dir, \"livecodebench.json\")\n",
    "\n",
    "with open(output_file, \"w\") as f:\n",
    "    json.dump(dataset, f, indent=4)\n"
   ]
  },
  {
   "cell_type": "code",
   "execution_count": null,
   "metadata": {},
   "outputs": [],
   "source": []
  }
 ],
 "metadata": {
  "kernelspec": {
   "display_name": "ro1",
   "language": "python",
   "name": "python3"
  },
  "language_info": {
   "codemirror_mode": {
    "name": "ipython",
    "version": 3
   },
   "file_extension": ".py",
   "mimetype": "text/x-python",
   "name": "python",
   "nbconvert_exporter": "python",
   "pygments_lexer": "ipython3",
   "version": "3.10.16"
  }
 },
 "nbformat": 4,
 "nbformat_minor": 2
}
