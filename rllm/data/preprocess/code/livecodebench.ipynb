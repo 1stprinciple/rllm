{
 "cells": [
  {
   "cell_type": "code",
   "execution_count": 13,
   "metadata": {},
   "outputs": [
    {
     "name": "stdout",
     "output_type": "stream",
     "text": [
      "Dataset({\n",
      "    features: ['question_title', 'question_content', 'platform', 'question_id', 'contest_id', 'contest_date', 'starter_code', 'difficulty', 'public_test_cases', 'private_test_cases', 'metadata'],\n",
      "    num_rows: 880\n",
      "})\n"
     ]
    }
   ],
   "source": [
    "from datasets import load_dataset\n",
    "import os\n",
    "import json \n",
    "livecodebench = load_dataset(\"livecodebench/code_generation_lite\", version_tag=\"release_v5\", trust_remote_code=True, split=\"test\")\n",
    "\n",
    "print(livecodebench)\n",
    "\n"
   ]
  },
  {
   "cell_type": "code",
   "execution_count": 14,
   "metadata": {},
   "outputs": [],
   "source": [
    "from datetime import datetime\n",
    "\n",
    "# deepseek paper uses lcb from 2024-08 to 2025-01\n",
    "def is_date_in_range(date_str):\n",
    "    date_obj = datetime.strptime(date_str, \"%Y-%m-%dT%H:%M:%S\")\n",
    "    \n",
    "    # Define the start and end range\n",
    "    start_date = datetime(2024, 8, 1)  # August 1, 2024\n",
    "    end_date = datetime(2025, 2, 1)    # February 1, 2025\n",
    "\n",
    "    # Check if the date is within the range\n",
    "    return start_date <= date_obj < end_date"
   ]
  },
  {
   "cell_type": "code",
   "execution_count": 15,
   "metadata": {},
   "outputs": [
    {
     "name": "stdout",
     "output_type": "stream",
     "text": [
      "len(dataset): 879\n"
     ]
    }
   ],
   "source": [
    "\n",
    "dataset = []\n",
    "for entry in livecodebench:\n",
    "    public_test_cases = entry[\"public_test_cases\"]\n",
    "    if isinstance(public_test_cases, str):\n",
    "        try:\n",
    "            public_test_cases = json.loads(public_test_cases)\n",
    "        except json.JSONDecodeError as e:\n",
    "            print(f\"code reward Json Error parsing livecodebench: {e}\")\n",
    "            continue \n",
    "    if len(public_test_cases) == 0:\n",
    "        #this does not have public_test_case\n",
    "        continue \n",
    "    new_entry = {\n",
    "        \"problem\": entry[\"question_content\"],\n",
    "        \"starter_code\": entry[\"starter_code\"],\n",
    "    }\n",
    "    new_entry[\"public_test_cases\"] = entry[\"public_test_cases\"]\n",
    "    dataset.append(new_entry)\n",
    "\n",
    "print(f'len(dataset): {len(dataset)}')\n",
    "\n",
    "output_dir = os.path.abspath(\"../../test/code\")\n",
    "output_file = os.path.join(output_dir, \"livecodebench.json\")\n",
    "\n",
    "with open(output_file, \"w\") as f:\n",
    "    json.dump(dataset, f, indent=4)\n"
   ]
  }
 ],
 "metadata": {
  "kernelspec": {
   "display_name": "rllm-roy",
   "language": "python",
   "name": "python3"
  },
  "language_info": {
   "codemirror_mode": {
    "name": "ipython",
    "version": 3
   },
   "file_extension": ".py",
   "mimetype": "text/x-python",
   "name": "python",
   "nbconvert_exporter": "python",
   "pygments_lexer": "ipython3",
   "version": "3.10.16"
  }
 },
 "nbformat": 4,
 "nbformat_minor": 2
}
