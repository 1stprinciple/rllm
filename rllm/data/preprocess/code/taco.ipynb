{
 "cells": [
  {
   "cell_type": "code",
   "execution_count": 2,
   "metadata": {},
   "outputs": [
    {
     "name": "stdout",
     "output_type": "stream",
     "text": [
      "Dataset({\n",
      "    features: ['id', 'question', 'solutions', 'starter_code', 'input_output', 'difficulty', 'raw_tags', 'name', 'source', 'tags', 'skill_types', 'url', 'Expected Auxiliary Space', 'time_limit', 'date', 'picture_num', 'memory_limit', 'Expected Time Complexity'],\n",
      "    num_rows: 12898\n",
      "})\n"
     ]
    }
   ],
   "source": [
    "import json\n",
    "import os\n",
    "from datasets import load_dataset\n",
    "\n",
    "ds = load_dataset(\"likaixin/TACO-verified\", split=\"train\", trust_remote_code=True)\n",
    "\n",
    "print(ds)"
   ]
  },
  {
   "cell_type": "code",
   "execution_count": 3,
   "metadata": {},
   "outputs": [],
   "source": [
    "# TACO dataset has difficulties as strings: EASY, MEDIUM, MEDIUM_HARD, HARD, VERY_HARD\n",
    "# Let EASY->1.9, MEDIUM->3.7, MEDIUM_HARD->5.5, HARD->7.3, VERY_HARD->9.1\n",
    "def difficulty_to_int(difficulty):\n",
    "    if difficulty == \"EASY\":\n",
    "        return 1.9\n",
    "    elif difficulty == \"MEDIUM\":\n",
    "        return 3.7\n",
    "    elif difficulty == \"MEDIUM_HARD\":\n",
    "        return 5.5\n",
    "    elif difficulty == \"HARD\":\n",
    "        return 7.3\n",
    "    elif difficulty == \"VERY_HARD\":\n",
    "        return 9.1\n",
    "    else:\n",
    "        #print(\"difficulty\", difficulty)\n",
    "        return -1"
   ]
  },
  {
   "cell_type": "code",
   "execution_count": 10,
   "metadata": {},
   "outputs": [
    {
     "name": "stdout",
     "output_type": "stream",
     "text": [
      "8544\n",
      "{'problem': 'There are $n$ candy boxes in front of Tania. The boxes are arranged in a row from left to right, numbered from $1$ to $n$. The $i$-th box contains $r_i$ candies, candies have the color $c_i$ (the color can take one of three values \\u200b\\u200b— red, green, or blue). All candies inside a single box have the same color (and it is equal to $c_i$).\\n\\nInitially, Tanya is next to the box number $s$. Tanya can move to the neighbor box (that is, with a number that differs by one) or eat candies in the current box. Tanya eats candies instantly, but the movement takes one second.\\n\\nIf Tanya eats candies from the box, then the box itself remains in place, but there is no more candies in it. In other words, Tanya always eats all the candies from the box and candies in the boxes are not refilled.\\n\\nIt is known that Tanya cannot eat candies of the same color one after another (that is, the colors of candies in two consecutive boxes from which she eats candies are always different). In addition, Tanya\\'s appetite is constantly growing, so in each next box from which she eats candies, there should be strictly more candies than in the previous one.\\n\\nNote that for the first box from which Tanya will eat candies, there are no restrictions on the color and number of candies.\\n\\nTanya wants to eat at least $k$ candies. What is the minimum number of seconds she will need? Remember that she eats candies instantly, and time is spent only on movements.\\n\\n\\n-----Input-----\\n\\nThe first line contains three integers $n$, $s$ and $k$ ($1 \\\\le n \\\\le 50$, $1 \\\\le s \\\\le n$, $1 \\\\le k \\\\le 2000$) — number of the boxes, initial position of Tanya and lower bound on number of candies to eat. The following line contains $n$ integers $r_i$ ($1 \\\\le r_i \\\\le 50$) — numbers of candies in the boxes. The third line contains sequence of $n$ letters \\'R\\', \\'G\\' and \\'B\\', meaning the colors of candies in the correspondent boxes (\\'R\\' for red, \\'G\\' for green, \\'B\\' for blue). Recall that each box contains candies of only one color. The third line contains no spaces.\\n\\n\\n-----Output-----\\n\\nPrint minimal number of seconds to eat at least $k$ candies. If solution doesn\\'t exist, print \"-1\".\\n\\n\\n-----Examples-----\\nInput\\n5 3 10\\n1 2 3 4 5\\nRGBRR\\n\\nOutput\\n4\\n\\nInput\\n2 1 15\\n5 6\\nRG\\n\\nOutput\\n-1\\n\\n\\n\\n-----Note-----\\n\\nThe sequence of actions of Tanya for the first example:\\n\\n  move from the box $3$ to the box $2$;  eat candies from the box $2$;  move from the box $2$ to the box $3$;  eat candy from the box $3$;  move from the box $3$ to the box $4$;  move from the box $4$ to the box $5$;  eat candies from the box $5$. \\n\\nSince Tanya eats candy instantly, the required time is four seconds.', 'tests': {'inputs': ['5 3 10\\n1 2 3 4 5\\nRGBRR\\n', '2 1 15\\n5 6\\nRG\\n', '6 1 21\\n4 2 3 5 1 6\\nRGBGRB\\n', '6 1 21\\n6 5 4 3 2 1\\nRGBRGB\\n', '1 1 10\\n10\\nR\\n', '2 1 10\\n5 5\\nRG\\n', '2 1 10\\n5 6\\nRR\\n', '5 3 10\\n1 2 3 4 5\\nRGBRG\\n', '9 1 6\\n1 1 1 3 3 3 2 2 2\\nRGGBRRGBB\\n', '50 39 2000\\n48 43 26 24 46 37 15 30 39 34 4 14 29 34 8 18 40 8 17 37 15 29 2 23 41 7 12 13 36 11 24 22 26 46 11 31 10 46 11 35 6 41 16 50 11 1 46 20 46 28\\nBGBBBBBBRGGBBBRRRRBBGRGGRBBRBBBRBBBBBRRGBGGRRRBBRB\\n', '50 49 1000\\n30 37 34 31 26 44 32 12 36 15 5 5 31 24 17 24 43 19 17 23 45 2 24 17 23 48 20 44 46 44 13 4 29 49 33 41 14 25 46 43 7 47 28 25 2 30 37 37 19 32\\nGBBBRBGRBRBRGRGRBBGBGRRBGGRBGRBRRRRRRRBRGRGGGGBRGG\\n', '50 32 600\\n21 21 18 47 16 11 10 46 9 15 27 5 11 42 29 25 16 41 31 8 12 28 1 24 17 40 45 12 33 32 34 2 45 17 49 17 20 42 15 17 8 29 2 20 4 27 50 1 49 1\\nBBRBBGBGBBRBGRRGRGGGBGBRRBBBGGBBBBGBGBRBBGRRGGBRGR\\n', '50 37 500\\n25 43 15 16 29 23 46 18 15 21 33 26 38 25 2 17 48 50 33 31 3 45 40 12 42 29 37 42 7 11 47 16 44 17 27 46 32 23 14 7 27 25 13 32 43 33 36 39 35 7\\nGGBBRGBRRRRBBRGBRRRGGRGGRGGBRRRGBBRRGRGGRBGBGGRGBR\\n', '50 4 200\\n14 10 50 47 41 9 22 21 42 36 50 10 27 28 39 1 36 12 45 35 17 3 15 25 32 4 34 39 44 34 20 15 18 1 38 25 20 45 24 9 18 15 35 36 12 9 28 4 44 10\\nBGBRRBGBRRRGRGRBRGGGRBRRGBBGGRBRRGGRGGGBRRBRGGBGBG\\n', '50 50 1250\\n1 3 5 7 9 11 13 15 17 19 21 23 25 27 29 31 33 35 37 39 41 43 45 47 49 50 48 46 44 42 40 38 36 34 32 30 28 26 24 22 20 18 16 14 12 10 8 6 4 2\\nRRRRRRRRRRRRRRRRRRRRRRRRRGGGGGGGGGGGGGGGGGGGGGGGGG\\n', '30 28 208\\n3 42 42 47 46 44 5 28 35 28 35 44 25 44 47 3 3 35 28 5 3 42 3 46 25 25 5 47 46 3\\nBGBBGBBBBGRRGGGBRGRGRRGBBRRRRG\\n', '39 21 282\\n13 39 20 29 30 14 29 29 30 29 16 39 50 13 16 45 36 36 13 20 29 21 34 36 39 30 34 21 20 14 16 45 21 45 29 34 50 50 14\\nGGGBRRGRBGBRRBRGRBRBBGBGBGRRRGGRBBRGBGB\\n', '48 2 259\\n25 31 22 30 30 17 31 50 28 30 46 43 4 6 10 22 50 14 5 46 12 6 46 3 17 12 4 28 25 14 5 5 6 14 22 12 17 43 43 10 4 3 31 3 25 28 50 10\\nBBBBGGRRBRRBBRGGGBGGRGBRBGRGRGRBBRRBRRGBGBGGGRBR\\n', '48 25 323\\n39 37 32 4 4 32 18 44 49 4 12 12 12 22 22 37 38 32 24 45 44 37 18 39 45 22 24 22 45 39 4 22 24 22 12 49 4 29 18 38 29 29 38 44 12 12 49 4\\nRRRRRBRRGBBRGRGGBGGBGBBBRBRGGGGBBRGRBGGGRBRBBRBG\\n', '48 33 357\\n18 37 22 21 4 17 39 32 40 43 29 29 50 21 39 43 11 11 4 50 36 40 32 50 18 32 11 36 29 36 22 21 29 43 49 18 17 29 37 40 17 37 49 4 39 49 22 29\\nGRGGGGBRBRRGGRGBRGBBGRBRRGBBRRBBBGRBBBBGRGGRRBRG\\n', '50 50 2000\\n1 3 5 7 9 11 13 15 17 19 21 23 25 27 29 31 33 35 37 39 41 43 45 47 49 50 48 46 44 42 40 38 36 34 32 30 28 26 24 22 20 18 16 14 12 10 8 6 4 2\\nGRGRGBBGGRGGRRRGGBGGGRRRBGRRBGBRGBBGGGGRRGGBBRRRRG\\n', '30 28 208\\n3 42 42 47 46 44 5 28 35 28 35 44 25 44 47 3 3 35 28 5 3 42 3 46 25 25 5 47 46 3\\nBGBBGBBBBGRRGGGBRGRGRRGBBRRRRG\\n', '50 39 2000\\n48 43 26 24 46 37 15 30 39 34 4 14 29 34 8 18 40 8 17 37 15 29 2 23 41 7 12 13 36 11 24 22 26 46 11 31 10 46 11 35 6 41 16 50 11 1 46 20 46 28\\nBGBBBBBBRGGBBBRRRRBBGRGGRBBRBBBRBBBBBRRGBGGRRRBBRB\\n', '50 32 600\\n21 21 18 47 16 11 10 46 9 15 27 5 11 42 29 25 16 41 31 8 12 28 1 24 17 40 45 12 33 32 34 2 45 17 49 17 20 42 15 17 8 29 2 20 4 27 50 1 49 1\\nBBRBBGBGBBRBGRRGRGGGBGBRRBBBGGBBBBGBGBRBBGRRGGBRGR\\n', '48 2 259\\n25 31 22 30 30 17 31 50 28 30 46 43 4 6 10 22 50 14 5 46 12 6 46 3 17 12 4 28 25 14 5 5 6 14 22 12 17 43 43 10 4 3 31 3 25 28 50 10\\nBBBBGGRRBRRBBRGGGBGGRGBRBGRGRGRBBRRBRRGBGBGGGRBR\\n', '1 1 10\\n10\\nR\\n', '9 1 6\\n1 1 1 3 3 3 2 2 2\\nRGGBRRGBB\\n', '5 3 10\\n1 2 3 4 5\\nRGBRG\\n', '6 1 21\\n6 5 4 3 2 1\\nRGBRGB\\n', '2 1 10\\n5 5\\nRG\\n', '2 1 10\\n5 6\\nRR\\n', '50 50 2000\\n1 3 5 7 9 11 13 15 17 19 21 23 25 27 29 31 33 35 37 39 41 43 45 47 49 50 48 46 44 42 40 38 36 34 32 30 28 26 24 22 20 18 16 14 12 10 8 6 4 2\\nGRGRGBBGGRGGRRRGGBGGGRRRBGRRBGBRGBBGGGGRRGGBBRRRRG\\n', '48 33 357\\n18 37 22 21 4 17 39 32 40 43 29 29 50 21 39 43 11 11 4 50 36 40 32 50 18 32 11 36 29 36 22 21 29 43 49 18 17 29 37 40 17 37 49 4 39 49 22 29\\nGRGGGGBRBRRGGRGBRGBBGRBRRGBBRRBBBGRBBBBGRGGRRBRG\\n', '48 25 323\\n39 37 32 4 4 32 18 44 49 4 12 12 12 22 22 37 38 32 24 45 44 37 18 39 45 22 24 22 45 39 4 22 24 22 12 49 4 29 18 38 29 29 38 44 12 12 49 4\\nRRRRRBRRGBBRGRGGBGGBGBBBRBRGGGGBBRGRBGGGRBRBBRBG\\n', '39 21 282\\n13 39 20 29 30 14 29 29 30 29 16 39 50 13 16 45 36 36 13 20 29 21 34 36 39 30 34 21 20 14 16 45 21 45 29 34 50 50 14\\nGGGBRRGRBGBRRBRGRBRBBGBGBGRRRGGRBBRGBGB\\n', '50 49 1000\\n30 37 34 31 26 44 32 12 36 15 5 5 31 24 17 24 43 19 17 23 45 2 24 17 23 48 20 44 46 44 13 4 29 49 33 41 14 25 46 43 7 47 28 25 2 30 37 37 19 32\\nGBBBRBGRBRBRGRGRBBGBGRRBGGRBGRBRRRRRRRBRGRGGGGBRGG\\n', '50 4 200\\n14 10 50 47 41 9 22 21 42 36 50 10 27 28 39 1 36 12 45 35 17 3 15 25 32 4 34 39 44 34 20 15 18 1 38 25 20 45 24 9 18 15 35 36 12 9 28 4 44 10\\nBGBRRBGBRRRGRGRBRGGGRBRRGBBGGRBRRGGRGGGBRRBRGGBGBG\\n', '6 1 21\\n4 2 3 5 1 6\\nRGBGRB\\n', '50 37 500\\n25 43 15 16 29 23 46 18 15 21 33 26 38 25 2 17 48 50 33 31 3 45 40 12 42 29 37 42 7 11 47 16 44 17 27 46 32 23 14 7 27 25 13 32 43 33 36 39 35 7\\nGGBBRGBRRRRBBRGBRRRGGRGGRGGBRRRGBBRRGRGGRBGBGGRGBR\\n', '50 50 1250\\n1 3 5 7 9 11 13 15 17 19 21 23 25 27 29 31 33 35 37 39 41 43 45 47 49 50 48 46 44 42 40 38 36 34 32 30 28 26 24 22 20 18 16 14 12 10 8 6 4 2\\nRRRRRRRRRRRRRRRRRRRRRRRRRGGGGGGGGGGGGGGGGGGGGGGGGG\\n', '50 39 2000\\n48 43 26 24 46 37 15 30 39 34 4 14 29 34 8 18 40 8 17 37 15 29 2 23 41 7 12 13 36 11 24 22 26 46 11 31 1 46 11 35 6 41 16 50 11 1 46 20 46 28\\nBGBBBBBBRGGBBBRRRRBBGRGGRBBRBBBRBBBBBRRGBGGRRRBBRB\\n', '48 2 259\\n25 31 22 30 30 17 31 50 28 30 46 43 4 6 10 22 50 14 5 46 12 6 46 3 17 12 4 28 25 21 5 5 6 14 22 12 17 43 43 10 4 3 31 3 25 28 50 10\\nBBBBGGRRBRRBBRGGGBGGRGBRBGRGRGRBBRRBRRGBGBGGGRBR\\n', '9 1 6\\n1 1 2 3 3 3 2 2 2\\nRGGBRRGBB\\n', '2 1 10\\n9 5\\nRG\\n', '48 33 357\\n18 37 22 21 4 17 39 32 40 43 29 29 50 21 39 43 11 11 4 50 36 40 32 50 18 32 11 36 29 36 22 21 29 43 49 18 17 29 37 40 17 37 2 4 39 49 22 29\\nGRGGGGBRBRRGGRGBRGBBGRBRRGBBRRBBBGRBBBBGRGGRRBRG\\n', '39 21 282\\n13 39 20 29 30 14 29 29 30 29 16 39 50 13 16 45 36 36 13 10 29 21 34 36 39 30 34 21 20 14 16 45 21 45 29 34 50 50 14\\nGGGBRRGRBGBRRBRGRBRBBGBGBGRRRGGRBBRGBGB\\n', '50 37 500\\n25 43 15 16 29 23 46 18 15 21 33 26 38 25 2 17 48 50 33 31 3 23 40 12 42 29 37 42 7 11 47 16 44 17 27 46 32 23 14 7 27 25 13 32 43 33 36 39 35 7\\nGGBBRGBRRRRBBRGBRRRGGRGGRGGBRRRGBBRRGRGGRBGBGGRGBR\\n', '39 36 282\\n13 39 20 29 30 14 29 29 30 29 16 39 50 13 16 45 36 36 13 10 29 21 34 36 39 30 34 21 20 14 16 45 21 45 29 34 50 50 14\\nGGGBRRGRBGBRRBRGRBRBBGBGBGRRRGGRBBRGBGB\\n', '30 28 208\\n3 42 42 47 46 12 5 28 35 28 35 44 25 44 47 3 3 35 28 5 3 42 3 46 25 25 5 47 46 3\\nBGBBGBBBBGRRGGGBRGRGRRGBBRRRRG\\n', '9 1 6\\n1 1 1 3 3 6 2 2 2\\nRGGBRRGBB\\n', '5 3 10\\n1 2 4 4 5\\nRGBRG\\n', '39 21 282\\n13 39 20 29 30 14 29 29 30 29 16 39 50 13 16 45 36 36 13 20 44 21 34 36 39 30 34 21 20 14 16 45 21 45 29 34 50 50 14\\nGGGBRRGRBGBRRBRGRBRBBGBGBGRRRGGRBBRGBGB\\n', '50 4 200\\n14 10 50 47 41 9 22 21 42 36 50 10 27 28 39 1 36 12 45 35 17 3 15 25 32 4 34 39 44 34 20 15 18 1 38 25 20 3 24 9 18 15 35 36 12 9 28 4 44 10\\nBGBRRBGBRRRGRGRBRGGGRBRRGBBGGRBRRGGRGGGBRRBRGGBGBG\\n', '6 1 21\\n6 5 4 3 4 1\\nRGBRGB\\n', '50 50 2000\\n1 3 5 7 9 11 13 15 32 19 21 23 25 27 29 31 33 35 37 39 41 43 45 47 49 50 48 46 44 42 40 38 36 34 32 30 28 26 24 22 20 18 16 14 12 10 8 6 4 2\\nGRGRGBBGGRGGRRRGGBGGGRRRBGRRBGBRGBBGGGGRRGGBBRRRRG\\n', '50 49 1000\\n30 37 34 31 26 44 32 12 36 15 5 5 31 24 17 24 43 19 17 23 45 2 24 17 23 48 20 44 46 44 13 4 29 49 23 41 14 25 46 43 7 47 28 25 2 30 37 37 19 32\\nGBBBRBGRBRBRGRGRBBGBGRRBGGRBGRBRRRRRRRBRGRGGGGBRGG\\n', '6 1 21\\n4 2 3 5 1 6\\nRGBRGB\\n', '50 50 1250\\n1 3 5 7 9 11 13 15 17 19 21 23 25 27 29 31 33 35 37 39 41 43 45 47 49 50 48 11 44 42 40 38 36 34 32 30 28 26 24 22 20 18 16 14 12 10 8 6 4 2\\nRRRRRRRRRRRRRRRRRRRRRRRRRGGGGGGGGGGGGGGGGGGGGGGGGG\\n', '2 1 24\\n5 6\\nRG\\n', '48 2 259\\n25 31 22 30 30 17 31 50 28 30 46 43 4 6 10 22 50 27 5 46 12 6 46 3 17 12 4 28 25 21 5 5 6 14 22 12 17 43 43 10 4 3 31 3 25 28 50 10\\nBBBBGGRRBRRBBRGGGBGGRGBRBGRGRGRBBRRBRRGBGBGGGRBR\\n', '9 1 6\\n1 1 2 5 3 3 2 2 2\\nRGGBRRGBB\\n', '50 50 2000\\n1 3 5 7 9 11 13 15 32 19 21 23 25 27 29 31 33 35 37 39 41 43 45 47 49 50 48 46 44 42 40 46 36 34 32 30 28 26 24 22 20 18 16 14 12 10 8 6 4 2\\nGRGRGBBGGRGGRRRGGBGGGRRRBGRRBGBRGBBGGGGRRGGBBRRRRG\\n', '50 49 1000\\n30 37 34 31 26 44 32 12 36 15 5 5 31 24 17 24 43 19 17 23 45 2 24 17 23 48 20 44 46 44 13 4 29 49 23 15 14 25 46 43 7 47 28 25 2 30 37 37 19 32\\nGBBBRBGRBRBRGRGRBBGBGRRBGGRBGRBRRRRRRRBRGRGGGGBRGG\\n', '6 1 21\\n4 2 3 5 1 6\\nBGRBGR\\n', '50 50 1250\\n1 3 5 7 9 11 13 15 17 19 21 23 25 27 29 31 33 35 37 39 41 43 45 47 49 50 48 11 44 42 40 38 36 34 32 44 28 26 24 22 20 18 16 14 12 10 8 6 4 2\\nRRRRRRRRRRRRRRRRRRRRRRRRRGGGGGGGGGGGGGGGGGGGGGGGGG\\n', '9 1 6\\n1 1 1 5 3 3 2 2 2\\nRGGBRRGBB\\n', '50 50 2000\\n1 3 5 7 9 11 13 15 32 19 21 32 25 27 29 31 33 35 37 39 41 43 45 47 49 50 48 46 44 42 40 46 36 34 32 30 28 26 24 22 20 18 16 14 12 10 8 6 4 2\\nGRGRGBBGGRGGRRRGGBGGGRRRBGRRBGBRGBBGGGGRRGGBBRRRRG\\n', '39 36 282\\n13 39 20 29 30 14 29 29 30 29 16 39 50 13 16 45 36 36 13 10 29 21 34 36 39 30 34 21 21 14 16 45 21 45 29 34 50 50 14\\nGGGBRRGRBGBRRBRGRBRBBGBGBGRRRGGRBBRGBGB\\n', '50 49 1000\\n30 37 34 31 26 44 32 12 36 15 5 5 31 24 17 24 43 19 17 23 45 2 24 17 23 48 20 44 46 44 13 4 29 49 23 15 14 25 46 43 7 47 28 50 2 30 37 37 19 32\\nGBBBRBGRBRBRGRGRBBGBGRRBGGRBGRBRRRRRRRBRGRGGGGBRGG\\n', '6 1 21\\n5 2 3 5 1 6\\nBGRBGR\\n', '50 50 1250\\n1 3 5 7 9 11 13 15 17 19 21 23 25 27 29 31 33 35 37 39 41 43 45 47 49 50 48 11 44 42 40 38 36 34 32 44 28 26 24 22 20 18 16 14 12 10 8 6 4 2\\nGGGGGGGGGGGGGGGGGGGGGGGGGRRRRRRRRRRRRRRRRRRRRRRRRR\\n', '9 1 6\\n1 1 1 5 3 1 2 2 2\\nRGGBRRGBB\\n', '50 50 2000\\n1 3 5 7 9 11 13 15 32 19 21 32 25 27 29 31 33 35 37 39 41 43 45 47 49 50 48 46 44 42 40 46 36 34 32 30 28 26 24 22 20 18 16 14 12 10 1 6 4 2\\nGRGRGBBGGRGGRRRGGBGGGRRRBGRRBGBRGBBGGGGRRGGBBRRRRG\\n', '50 49 1000\\n30 37 34 31 26 44 32 12 36 15 5 5 31 24 17 24 43 19 17 23 45 2 24 17 23 48 20 44 46 44 13 4 40 49 23 15 14 25 46 43 7 47 28 50 2 30 37 37 19 32\\nGBBBRBGRBRBRGRGRBBGBGRRBGGRBGRBRRRRRRRBRGRGGGGBRGG\\n', '50 50 1250\\n1 3 5 7 9 11 13 15 17 17 21 23 25 27 29 31 33 35 37 39 41 43 45 47 49 50 48 11 44 42 40 38 36 34 32 44 28 26 24 22 20 18 16 14 12 10 8 6 4 2\\nGGGGGGGGGGGGGGGGGGGGGGGGGRRRRRRRRRRRRRRRRRRRRRRRRR\\n', '9 1 6\\n1 1 1 5 3 1 4 2 2\\nRGGBRRGBB\\n', '50 50 2000\\n1 3 7 7 9 11 13 15 32 19 21 32 25 27 29 31 33 35 37 39 41 43 45 47 49 50 48 46 44 42 40 46 36 34 32 30 28 26 24 22 20 18 16 14 12 10 1 6 4 2\\nGRGRGBBGGRGGRRRGGBGGGRRRBGRRBGBRGBBGGGGRRGGBBRRRRG\\n', '50 50 2000\\n1 3 7 7 9 11 13 15 32 19 21 32 25 27 29 31 33 35 37 39 41 43 45 47 49 50 48 46 44 42 40 46 36 34 32 30 28 26 24 22 20 18 16 14 12 10 1 10 4 2\\nGRGRGBBGGRGGRRRGGBGGGRRRBGRRBGBRGBBGGGGRRGGBBRRRRG\\n', '50 50 2000\\n1 3 7 7 9 11 13 15 32 19 21 32 25 10 29 31 33 35 37 39 41 43 45 47 49 50 48 46 44 42 40 46 36 34 32 30 28 26 24 22 20 18 16 14 12 10 1 10 4 2\\nGRGRGBBGGRGGRRRGGBGGGRRRBGRRBGBRGBBGGGGRRGGBBRRRRG\\n', '50 50 2000\\n1 3 7 7 9 11 13 15 32 19 21 32 25 10 29 31 33 35 37 39 41 43 45 47 49 50 48 46 44 42 40 46 36 34 32 30 28 26 24 22 20 18 16 14 12 10 1 10 6 2\\nGRGRGBBGGRGGRRRGGBGGGRRRBGRRBGBRGBBGGGGRRGGBBRRRRG\\n', '50 39 2000\\n48 43 26 24 46 37 15 30 39 34 4 14 29 34 8 18 40 8 17 40 15 29 2 23 41 7 12 13 36 11 24 22 26 46 11 31 10 46 11 35 6 41 16 50 11 1 46 20 46 28\\nBGBBBBBBRGGBBBRRRRBBGRGGRBBRBBBRBBBBBRRGBGGRRRBBRB\\n', '48 2 259\\n25 31 22 30 30 17 31 50 28 30 46 43 4 6 10 22 50 14 5 46 12 6 46 4 17 12 4 28 25 14 5 5 6 14 22 12 17 43 43 10 4 3 31 3 25 28 50 10\\nBBBBGGRRBRRBBRGGGBGGRGBRBGRGRGRBBRRBRRGBGBGGGRBR\\n', '1 1 20\\n10\\nR\\n', '2 1 16\\n5 5\\nRG\\n', '2 1 10\\n1 6\\nRR\\n', '50 50 2000\\n1 3 5 7 9 11 13 15 17 19 21 23 25 27 29 31 33 35 37 39 41 7 45 47 49 50 48 46 44 42 40 38 36 34 32 30 28 26 24 22 20 18 16 14 12 10 8 6 4 2\\nGRGRGBBGGRGGRRRGGBGGGRRRBGRRBGBRGBBGGGGRRGGBBRRRRG\\n', '48 33 357\\n18 37 22 21 4 17 39 32 40 43 29 29 50 21 39 43 11 11 4 50 36 40 32 50 18 32 11 36 29 36 22 21 29 43 49 18 17 29 37 40 17 43 49 4 39 49 22 29\\nGRGGGGBRBRRGGRGBRGBBGRBRRGBBRRBBBGRBBBBGRGGRRBRG\\n', '50 49 1000\\n30 37 34 31 26 44 32 12 36 15 5 5 31 24 17 24 43 19 17 23 45 2 31 17 23 48 20 44 46 44 13 4 29 49 33 41 14 25 46 43 7 47 28 25 2 30 37 37 19 32\\nGBBBRBGRBRBRGRGRBBGBGRRBGGRBGRBRRRRRRRBRGRGGGGBRGG\\n', '6 1 21\\n4 2 3 2 1 6\\nRGBGRB\\n', '50 50 1250\\n1 3 5 7 9 11 13 15 17 19 21 1 25 27 29 31 33 35 37 39 41 43 45 47 49 50 48 46 44 42 40 38 36 34 32 30 28 26 24 22 20 18 16 14 12 10 8 6 4 2\\nRRRRRRRRRRRRRRRRRRRRRRRRRGGGGGGGGGGGGGGGGGGGGGGGGG\\n', '2 1 15\\n5 1\\nRG\\n', '50 39 2000\\n48 43 26 24 46 37 15 30 36 34 4 14 29 34 8 18 40 8 17 37 15 29 2 23 41 7 12 13 36 11 24 22 26 46 11 31 1 46 11 35 6 41 16 50 11 1 46 20 46 28\\nBGBBBBBBRGGBBBRRRRBBGRGGRBBRBBBRBBBBBRRGBGGRRRBBRB\\n', '2 1 15\\n5 6\\nRG\\n', '5 3 10\\n1 2 3 4 5\\nRGBRR\\n'], 'outputs': ['4\\n', '-1\\n', '15\\n', '10\\n', '0\\n', '-1\\n', '-1\\n', '2\\n', '7\\n', '-1\\n', '-1\\n', '185\\n', '86\\n', '23\\n', '992\\n', '20\\n', '24\\n', '39\\n', '64\\n', '63\\n', '-1\\n', '20\\n', '-1\\n', '185\\n', '39\\n', '0\\n', '7\\n', '2\\n', '10\\n', '-1\\n', '-1\\n', '-1\\n', '63\\n', '64\\n', '24\\n', '-1\\n', '23\\n', '15\\n', '86\\n', '992', '-1\\n', '39\\n', '3\\n', '2\\n', '63\\n', '24\\n', '86\\n', '31\\n', '20\\n', '5\\n', '4\\n', '28\\n', '23\\n', '-1\\n', '-1\\n', '-1\\n', '-1\\n', '-1\\n', '-1\\n', '39\\n', '3\\n', '-1\\n', '-1\\n', '-1\\n', '-1\\n', '3\\n', '-1\\n', '31\\n', '-1\\n', '-1\\n', '-1\\n', '3\\n', '-1\\n', '-1\\n', '-1\\n', '3\\n', '-1\\n', '-1\\n', '-1\\n', '-1\\n', '-1\\n', '39\\n', '-1\\n', '-1\\n', '-1\\n', '-1\\n', '63\\n', '-1\\n', '-1\\n', '-1\\n', '-1\\n', '-1\\n', '-1\\n', '4\\n']}, 'solutions': \"INF = 10000000000.0\\nmax_n = 50\\nmax_k = 2000\\n\\ndef main():\\n\\t(n, s, k) = map(int, input().split())\\n\\ts -= 1\\n\\tbuf = [''] * (max_n + 1)\\n\\tdp = [[0 for i in range(max_n + 1)] for j in range(max_k + 1)]\\n\\tr = list(map(int, input().split()))\\n\\tc = input()\\n\\tanswer = INF\\n\\tfor i in range(len(c)):\\n\\t\\tbuf[i] = c[i]\\n\\tfor i in range(k, -1, -1):\\n\\t\\tfor j in range(n):\\n\\t\\t\\tdp[i][j] = INF\\n\\tfor j in range(n):\\n\\t\\tvalue = abs(j - s)\\n\\t\\tif k - r[j] <= 0:\\n\\t\\t\\tanswer = min(answer, value)\\n\\t\\telse:\\n\\t\\t\\tdp[k - r[j]][j] = value\\n\\tfor i in range(k, 0, -1):\\n\\t\\tfor j in range(n):\\n\\t\\t\\tif dp[i][j] < INF:\\n\\t\\t\\t\\tfor l in range(n):\\n\\t\\t\\t\\t\\tif buf[j] != buf[l] and r[j] < r[l]:\\n\\t\\t\\t\\t\\t\\tvalue = dp[i][j] + abs(j - l)\\n\\t\\t\\t\\t\\t\\tif i - r[l] <= 0:\\n\\t\\t\\t\\t\\t\\t\\tanswer = min(answer, value)\\n\\t\\t\\t\\t\\t\\telse:\\n\\t\\t\\t\\t\\t\\t\\tdp[i - r[l]][l] = min(dp[i - r[l]][l], value)\\n\\tif answer == INF:\\n\\t\\tprint(-1)\\n\\t\\treturn\\n\\tprint(answer)\\n\\ndef __starting_point():\\n\\tmain()\\n__starting_point()\\n\", 'id': 1}\n",
      "0\n"
     ]
    }
   ],
   "source": [
    "import ast\n",
    "dataset = []\n",
    "unknown_difficulty = 0\n",
    "for entry in ds:\n",
    "\n",
    "    tests = entry[\"input_output\"]\n",
    "    if not tests:\n",
    "        continue\n",
    "    \n",
    "    if isinstance(tests, str):\n",
    "        try:\n",
    "            tests = ast.literal_eval(entry[\"input_output\"])\n",
    "        except (ValueError, SyntaxError) as e:\n",
    "            # Try Json loads instead\n",
    "            try:\n",
    "                tests = json.loads(entry[\"input_output\"])\n",
    "            except (json.JSONDecodeError, SyntaxError, ValueError) as e:\n",
    "                print(repr(entry[\"input_output\"]))\n",
    "                print(f\"Error in json.loads: {e}\")\n",
    "                continue\n",
    "    assert isinstance(tests, dict), \"Tests should be a dictionary\"\n",
    "    assert len(tests[\"inputs\"]) == len(tests[\"outputs\"]), \"Inputs and outputs should have the same length\"\n",
    "  \n",
    "    new_entry = {\n",
    "        \"problem\": entry[\"question\"],\n",
    "        \"tests\": tests,\n",
    "        \"solutions\": entry[\"solutions\"][0],\n",
    "        \"id\": entry[\"id\"],\n",
    "    }\n",
    "    # Assert tests is a dictionary of inputs and outputs that map to a list of strings\n",
    "    assert isinstance(tests, dict), \"Tests should be a dictionary\"\n",
    "    assert \"inputs\" in tests, \"Inputs should be a key in the dictionary\"\n",
    "    assert \"outputs\" in tests, \"Outputs should be a key in the dictionary\"\n",
    "    assert isinstance(tests[\"inputs\"], list), \"Inputs should be a list\"\n",
    "    assert isinstance(tests[\"outputs\"], list), \"Outputs should be a list\"\n",
    "    assert len(tests[\"inputs\"]) == len(tests[\"outputs\"]), \"Inputs and outputs should have the same length\"\n",
    "    \n",
    "\n",
    "    inputs = tests[\"inputs\"]\n",
    "    outputs = tests[\"outputs\"]\n",
    "    if len(inputs) <= 2:\n",
    "        continue\n",
    "    # difficulty_level = difficulty_to_int(entry[\"difficulty\"])\n",
    "    # if difficulty_level <= 3 and difficulty_level >=0:\n",
    "    #     if difficulty_level == -1:\n",
    "    #         unknown_difficulty += 1\n",
    "    dataset.append(new_entry)\n",
    "\n",
    "print(len(dataset))\n",
    "print(dataset[0])\n",
    "print(unknown_difficulty)\n",
    "\n",
    "output_dir = os.path.abspath(\"../../train/code\")\n",
    "output_file = os.path.join(output_dir, \"taco.json\")\n",
    "with open(output_file, \"w\") as f:\n",
    "    json.dump(dataset, f, indent=4)"
   ]
  },
  {
   "cell_type": "code",
   "execution_count": 4,
   "metadata": {},
   "outputs": [
    {
     "name": "stdout",
     "output_type": "stream",
     "text": [
      "Dataset({\n",
      "    features: ['question', 'solutions', 'starter_code', 'input_output', 'difficulty', 'raw_tags', 'name', 'source', 'tags', 'skill_types', 'url', 'Expected Auxiliary Space', 'time_limit', 'date', 'picture_num', 'memory_limit', 'Expected Time Complexity'],\n",
      "    num_rows: 1000\n",
      "})\n"
     ]
    }
   ],
   "source": [
    "ds = load_dataset(\"likaixin/TACO-verified\", split=\"test\", trust_remote_code=True)\n",
    "print(ds)"
   ]
  },
  {
   "cell_type": "code",
   "execution_count": 5,
   "metadata": {},
   "outputs": [
    {
     "name": "stdout",
     "output_type": "stream",
     "text": [
      "1000\n",
      "{'problem': 'The city park of IT City contains n east to west paths and n north to south paths. Each east to west path crosses each north to south path, so there are n^2 intersections.\\n\\nThe city funded purchase of five benches. To make it seems that there are many benches it was decided to place them on as many paths as possible. Obviously this requirement is satisfied by the following scheme: each bench is placed on a cross of paths and each path contains not more than one bench.\\n\\nHelp the park administration count the number of ways to place the benches.\\n\\n\\n-----Input-----\\n\\nThe only line of the input contains one integer n (5 ≤ n ≤ 100) — the number of east to west paths and north to south paths.\\n\\n\\n-----Output-----\\n\\nOutput one integer — the number of ways to place the benches.\\n\\n\\n-----Examples-----\\nInput\\n5\\n\\nOutput\\n120', 'tests': {'inputs': ['5\\n', '6\\n', '7\\n', '15\\n', '17\\n', '72\\n', '83\\n', '95\\n', '99\\n', '100\\n', '7\\n', '100\\n', '83\\n', '72\\n', '6\\n', '15\\n', '99\\n', '17\\n', '95\\n', '5\\n', '6\\n', '7\\n', '8\\n', '9\\n', '10\\n', '11\\n', '12\\n', '13\\n', '14\\n', '15\\n', '16\\n', '17\\n', '18\\n', '19\\n', '20\\n', '21\\n', '22\\n', '23\\n', '24\\n', '25\\n', '26\\n', '27\\n', '28\\n', '29\\n', '30\\n', '31\\n', '32\\n', '33\\n', '34\\n', '35\\n', '36\\n', '37\\n', '38\\n', '39\\n', '40\\n', '41\\n', '42\\n', '43\\n', '44\\n', '45\\n', '46\\n', '47\\n', '48\\n', '49\\n', '50\\n', '51\\n', '52\\n', '53\\n', '54\\n', '55\\n', '56\\n', '57\\n', '58\\n', '59\\n', '60\\n', '61\\n', '62\\n', '63\\n', '64\\n', '65\\n', '66\\n', '67\\n', '68\\n', '69\\n', '70\\n', '71\\n', '72\\n', '73\\n', '74\\n', '75\\n', '76\\n', '77\\n', '78\\n', '79\\n', '80\\n', '81\\n', '82\\n', '83\\n', '84\\n', '85\\n', '86\\n', '87\\n', '88\\n', '89\\n', '90\\n', '91\\n', '92\\n', '93\\n', '94\\n', '95\\n', '96\\n', '97\\n', '98\\n', '100\\n', '99\\n', '38\\n', '9\\n', '23\\n', '19\\n', '36\\n', '41\\n', '16\\n', '8\\n', '11\\n', '28\\n', '14\\n', '12\\n', '24\\n', '10\\n', '18\\n', '13\\n', '101\\n', '58\\n', '20\\n', '73\\n', '30\\n', '33\\n', '21\\n', '22\\n', '26\\n', '52\\n', '25\\n', '55\\n', '27\\n', '35\\n', '34\\n', '56\\n', '43\\n', '40\\n', '47\\n', '87\\n', '51\\n', '62\\n', '29\\n', '48\\n', '94\\n', '85\\n', '71\\n', '50\\n', '53\\n', '75\\n', '90\\n', '66\\n', '97\\n', '78\\n', '60\\n', '82\\n', '57\\n', '32\\n', '39\\n', '54\\n', '59\\n', '45\\n', '49\\n', '61\\n', '80\\n', '70\\n', '96\\n', '46\\n', '65\\n', '84\\n', '91\\n', '86\\n', '77\\n', '44\\n', '37\\n', '64\\n', '69\\n', '79\\n', '81\\n', '31\\n', '93\\n', '104\\n', '105\\n', '67\\n', '42\\n', '74\\n', '89\\n', '98\\n', '68\\n', '102\\n', '103\\n', '92\\n', '88\\n', '63\\n', '76\\n', '010\\n', '011\\n', '5\\n'], 'outputs': ['120', '4320', '52920', '1082161080', '4594961280', '23491596420472320', '101159538130177920', '402852449038723320', '613867215317368320', '680185280130048000', '52920\\n', '680185280130048000\\n', '101159538130177920\\n', '23491596420472320\\n', '4320\\n', '1082161080\\n', '613867215317368320\\n', '4594961280\\n', '402852449038723320\\n', '120', '4320\\n', '52920\\n', '376320\\n', '1905120\\n', '7620480\\n', '25613280\\n', '75271680\\n', '198764280\\n', '480960480\\n', '1082161080\\n', '2289530880\\n', '4594961280\\n', '8809274880\\n', '16225246080\\n', '28844881920\\n', '49689816120\\n', '83217546720\\n', '135870624120\\n', '216790801920\\n', '338735628000\\n', '519241008000\\n', '782079948000\\n', '1159075008000\\n', '1692330003000\\n', '2436955204320\\n', '3464369750520\\n', '4866275205120\\n', '6759405227520\\n', '9291168184320\\n', '12646312250880\\n', '17054756167680\\n', '22800743353080\\n', '30233492563680\\n', '39779534765880\\n', '51956943367680\\n', '67391683488480\\n', '86836325546880\\n', '111191389152480\\n', '141529605127680\\n', '179123406489720\\n', '225475983421920\\n', '282356262686520\\n', '351838198609920\\n', '436344790734720\\n', '538697272512000\\n', '662169946032000\\n', '810551169792000\\n', '988211039907000\\n', '1200176340012000\\n', '1452213371414520\\n', '1750919312862720\\n', '2103822798628320\\n', '2519494444494720\\n', '3007668093719520\\n', '3579373599137280\\n', '4247082003313080\\n', '5024864026080480\\n', '5928562817929080\\n', '6975981988577280\\n', '8187089972705280\\n', '9584241849262080\\n', '11192419787028480\\n', '13039493347246080\\n', '15156500934140280\\n', '17577953746103520\\n', '20342163644193720\\n', '23491596420472320\\n', '27073252016586720\\n', '31139073312923520\\n', '35746385180652000\\n', '40958365563072000\\n', '46844550428907000\\n', '53481374518572000\\n', '60952749885027000\\n', '69350684313630720\\n', '78775941790465920\\n', '89338747275947520\\n', '101159538130177920\\n', '114369764628510720\\n', '129112742100154680\\n', '145544557319424480\\n', '163835031878453880\\n', '184168745371860480\\n', '206746121328019680\\n', '231784578928298880\\n', '259519753664851680\\n', '290206790199406080\\n', '324121710799930680\\n', '361562862849158880\\n', '402852449038723320\\n', '448338143985131520\\n', '498394801129029120\\n', '553426253907179520\\n', '680185280130048000\\n', '613867215317368320\\n', '30233492563680\\n', '1905120\\n', '135870624120\\n', '16225246080\\n', '17054756167680\\n', '67391683488480\\n', '2289530880\\n', '376320\\n', '25613280\\n', '1159075008000\\n', '480960480\\n', '75271680\\n', '216790801920\\n', '7620480\\n', '8809274880\\n', '198764280\\n', '752883034137003000\\n', '2519494444494720\\n', '28844881920\\n', '27073252016586720\\n', '2436955204320\\n', '6759405227520\\n', '49689816120\\n', '83217546720\\n', '519241008000\\n', '810551169792000\\n', '338735628000\\n', '1452213371414520\\n', '782079948000\\n', '12646312250880\\n', '9291168184320\\n', '1750919312862720\\n', '111191389152480\\n', '51956943367680\\n', '282356262686520\\n', '163835031878453880\\n', '662169946032000\\n', '5024864026080480\\n', '1692330003000\\n', '351838198609920\\n', '361562862849158880\\n', '129112742100154680\\n', '20342163644193720\\n', '538697272512000\\n', '988211039907000\\n', '35746385180652000\\n', '231784578928298880\\n', '9584241849262080\\n', '498394801129029120\\n', '53481374518572000\\n', '3579373599137280\\n', '89338747275947520\\n', '2103822798628320\\n', '4866275205120\\n', '39779534765880\\n', '1200176340012000\\n', '3007668093719520\\n', '179123406489720\\n', '436344790734720\\n', '4247082003313080\\n', '69350684313630720\\n', '17577953746103520\\n', '448338143985131520\\n', '225475983421920\\n', '8187089972705280\\n', '114369764628510720\\n', '259519753664851680\\n', '145544557319424480\\n', '46844550428907000\\n', '141529605127680\\n', '22800743353080\\n', '6975981988577280\\n', '15156500934140280\\n', '60952749885027000\\n', '78775941790465920\\n', '3464369750520\\n', '324121710799930680\\n', '1014852610170048000\\n', '1118875002712477920\\n', '11192419787028480\\n', '86836325546880\\n', '31139073312923520\\n', '206746121328019680\\n', '553426253907179520\\n', '13039493347246080\\n', '832500274966668000\\n', '919616349138003000\\n', '290206790199406080\\n', '184168745371860480\\n', '5928562817929080\\n', '40958365563072000\\n', '7620480\\n', '25613280\\n', '120\\n']}}\n"
     ]
    }
   ],
   "source": [
    "dataset = []\n",
    "for entry in ds:\n",
    "    tests = entry[\"input_output\"]\n",
    "    if not tests:\n",
    "        continue\n",
    "    if isinstance(tests, str):\n",
    "        try:\n",
    "            tests = ast.literal_eval(entry[\"input_output\"])\n",
    "        except (ValueError, SyntaxError) as e:\n",
    "            # Try Json loads instead\n",
    "            try:\n",
    "                tests = json.loads(entry[\"input_output\"])\n",
    "            except (json.JSONDecodeError, SyntaxError, ValueError) as e:\n",
    "                print(repr(entry[\"input_output\"]))\n",
    "                print(f\"Error in json.loads: {e}\")\n",
    "                continue\n",
    "    assert isinstance(tests, dict), \"Tests should be a dictionary\"\n",
    "\n",
    "  \n",
    "    new_entry = {\n",
    "        \"problem\": entry[\"question\"],\n",
    "        \"tests\": tests,\n",
    "    }\n",
    "    dataset.append(new_entry)\n",
    "\n",
    "print(len(dataset))\n",
    "print(dataset[0])\n",
    "\n",
    "output_dir = os.path.abspath(\"../../test/code\")\n",
    "output_file = os.path.join(output_dir, \"taco.json\")\n",
    "\n",
    "with open(output_file, \"w\") as f:\n",
    "    json.dump(dataset, f, indent=4)"
   ]
  },
  {
   "cell_type": "code",
   "execution_count": null,
   "metadata": {},
   "outputs": [],
   "source": []
  }
 ],
 "metadata": {
  "kernelspec": {
   "display_name": "rllm-xiao",
   "language": "python",
   "name": "python3"
  },
  "language_info": {
   "codemirror_mode": {
    "name": "ipython",
    "version": 3
   },
   "file_extension": ".py",
   "mimetype": "text/x-python",
   "name": "python",
   "nbconvert_exporter": "python",
   "pygments_lexer": "ipython3",
   "version": "3.10.16"
  }
 },
 "nbformat": 4,
 "nbformat_minor": 2
}
