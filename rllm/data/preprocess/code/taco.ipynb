{
 "cells": [
  {
   "cell_type": "code",
   "execution_count": 1,
   "metadata": {},
   "outputs": [
    {
     "name": "stderr",
     "output_type": "stream",
     "text": [
      "/opt/conda/envs/rllm/lib/python3.10/site-packages/tqdm/auto.py:21: TqdmWarning: IProgress not found. Please update jupyter and ipywidgets. See https://ipywidgets.readthedocs.io/en/stable/user_install.html\n",
      "  from .autonotebook import tqdm as notebook_tqdm\n",
      "Generating train split: 100%|██████████| 25443/25443 [00:20<00:00, 1263.00 examples/s]\n",
      "Generating test split: 100%|██████████| 1000/1000 [00:02<00:00, 491.27 examples/s]"
     ]
    },
    {
     "name": "stdout",
     "output_type": "stream",
     "text": [
      "Dataset({\n",
      "    features: ['question', 'solutions', 'starter_code', 'input_output', 'difficulty', 'raw_tags', 'name', 'source', 'tags', 'skill_types', 'url', 'Expected Auxiliary Space', 'time_limit', 'date', 'picture_num', 'memory_limit', 'Expected Time Complexity'],\n",
      "    num_rows: 25443\n",
      "})\n"
     ]
    },
    {
     "name": "stderr",
     "output_type": "stream",
     "text": [
      "\n"
     ]
    }
   ],
   "source": [
    "import json\n",
    "import os\n",
    "from datasets import load_dataset\n",
    "\n",
    "ds = load_dataset(\"BAAI/TACO\", split=\"train\", trust_remote_code=True)\n",
    "\n",
    "print(ds)"
   ]
  },
  {
   "cell_type": "code",
   "execution_count": 2,
   "metadata": {},
   "outputs": [],
   "source": [
    "# TACO dataset has difficulties as strings: EASY, MEDIUM, MEDIUM_HARD, HARD, VERY_HARD\n",
    "# Let EASY->1.9, MEDIUM->3.7, MEDIUM_HARD->5.5, HARD->7.3, VERY_HARD->9.1\n",
    "def difficulty_to_int(difficulty):\n",
    "    if difficulty == \"EASY\":\n",
    "        return 1.9\n",
    "    elif difficulty == \"MEDIUM\":\n",
    "        return 3.7\n",
    "    elif difficulty == \"MEDIUM_HARD\":\n",
    "        return 5.5\n",
    "    elif difficulty == \"HARD\":\n",
    "        return 7.3\n",
    "    elif difficulty == \"VERY_HARD\":\n",
    "        return 9.1\n",
    "    else:\n",
    "        return 0"
   ]
  },
  {
   "cell_type": "code",
   "execution_count": 4,
   "metadata": {},
   "outputs": [
    {
     "name": "stdout",
     "output_type": "stream",
     "text": [
      "8281\n",
      "{'problem': 'This is an interactive problem.\\n\\nIn good old times dwarves tried to develop extrasensory abilities:\\n\\n  * Exactly n dwarves entered completely dark cave. \\n  * Each dwarf received a hat — white or black. While in cave, none of the dwarves was able to see either his own hat or hats of other Dwarves. \\n  * Dwarves went out of the cave to the meadow and sat at an arbitrary place one after the other. When a dwarf leaves the cave, he sees the colors of all hats of all dwarves that are seating on the meadow (i.e. left the cave before him). However, he is not able to see the color of his own hat and none of the dwarves can give him this information. \\n  * The task for dwarves was to got diverged into two parts — one with dwarves with white hats and one with black hats. \\n\\n\\n\\nAfter many centuries, dwarves finally managed to select the right place on the meadow without error. Will you be able to repeat their success?\\n\\nYou are asked to successively name n different integer points on the plane. After naming each new point you will be given its color — black or white. Your task is to ensure that the named points can be split by a line in such a way that all points of one color lie on the same side from the line and points of different colors lie on different sides. Moreover, no points can belong to the line. Also, you need to report any such line at the end of the process.\\n\\nIn this problem, the interactor is adaptive — the colors of the points in the tests are not fixed beforehand and the jury program can select them arbitrarily, in particular, depending on your program output.\\n\\nInteraction\\n\\nThe first line of the standard input stream contains an integer n (1 ≤ n ≤ 30) — the number of points your program should name.\\n\\nThen n times your program must print two integer coordinates x and y (0 ≤ x ≤ 109, 0 ≤ y ≤ 109). All points you print must be distinct.\\n\\nIn response to each coordinate pair your program will receive the string \"black\", if the point is black, or \"white\", if the point is white.\\n\\nWhen all n points are processed, you need to print four integers x1, y1, x2 and y2 (0 ≤ x1, y1 ≤ 109, 0 ≤ x2, y2 ≤ 109) — coordinates of points (x1, y1) and (x2, y2), which form a line, which separates n points into black and white. Points (x1, y1) and (x2, y2) should not coincide.\\n\\nHacks\\n\\nTo hack solution use the following format. The first line must contain word \"hack\", the second line should contain the number n and the last line should contain the sequence of 0 and 1 — colors of points, which will be reported to the solution. Unlike the jury tests, colors of points in hacks are always fixed in advance. Of course, the hacked solution wouldn\\'t be able to get the information about the colors in advance.\\n\\nFor example, the hack corresponding to sample test will look like this: \\n    \\n    \\n      \\n    hack  \\n    5  \\n    0 0 1 1 0  \\n    \\n\\nExample\\n\\nInput\\n\\n5\\n<span class=\"tex-span\"></span>\\nblack\\n<span class=\"tex-span\"></span>\\nblack\\n<span class=\"tex-span\"></span>\\nwhite\\n<span class=\"tex-span\"></span>\\nwhite\\n<span class=\"tex-span\"></span>\\nblack\\n\\n\\nOutput\\n\\n<span class=\"tex-span\"></span>\\n0 0\\n<span class=\"tex-span\"></span>\\n3 1\\n<span class=\"tex-span\"></span>\\n2 3\\n<span class=\"tex-span\"></span>\\n4 4\\n<span class=\"tex-span\"></span>\\n0 2\\n<span class=\"tex-span\"></span>\\n1 3 4 1\\n\\nNote\\n\\nIn the sample input and output values are aligned only for simplicity of interpreting them chronologically. In real interaction no \"extra\" line breaks should appear.\\n\\nThe following picture illustrates the first test.\\n\\n<image>', 'tests': '{\"inputs\": [\"hack\\\\n30\\\\n1 0 1 1 1 1 1 1 1 1 1 1 1 1 1 1 1 1 1 1 1 1 1 1 1 1 1 1 1 1\\\\n\", \"random\\\\n22\\\\n2\\\\n\", \"random\\\\n20\\\\n11\\\\n\", \"random\\\\n10\\\\n1\\\\n\", \"random\\\\n20\\\\n12\\\\n\", \"random\\\\n30\\\\n14\\\\n\", \"random\\\\n23\\\\n1\\\\n\", \"predefined\\\\n15\\\\n1 1 1 1 1 1 1 1 1 1 1 1 1 1 0\\\\n\", \"random\\\\n21\\\\n2\\\\n\", \"random\\\\n22\\\\n1\\\\n\", \"random\\\\n28\\\\n1\\\\n\", \"random\\\\n28\\\\n2\\\\n\", \"chess\\\\n10\\\\n\", \"chess\\\\n11\\\\n\", \"random\\\\n25\\\\n2\\\\n\", \"random\\\\n24\\\\n1\\\\n\", \"random\\\\n13\\\\n1\\\\n\", \"chess\\\\n19\\\\n\", \"predefined\\\\n15\\\\n1 1 1 1 1 1 1 1 1 1 1 1 1 1 1\\\\n\", \"random\\\\n29\\\\n1\\\\n\", \"random\\\\n20\\\\n1\\\\n\", \"random\\\\n26\\\\n1\\\\n\", \"predefined\\\\n2\\\\n0 1\\\\n\", \"random\\\\n16\\\\n1\\\\n\", \"random\\\\n15\\\\n1\\\\n\", \"random\\\\n8\\\\n1\\\\n\", \"random\\\\n19\\\\n1\\\\n\", \"random\\\\n21\\\\n1\\\\n\", \"random\\\\n27\\\\n1\\\\n\", \"predefined\\\\n2\\\\n0 0\\\\n\", \"random\\\\n2\\\\n1\\\\n\", \"predefined\\\\n15\\\\n0 0 0 0 0 0 0 0 0 0 0 0 0 0 0\\\\n\", \"random\\\\n3\\\\n1\\\\n\", \"predefined\\\\n15\\\\n0 1 0 1 0 1 0 1 0 1 0 1 0 1 0\\\\n\", \"predefined\\\\n29\\\\n0 0 0 0 0 0 0 0 0 0 0 0 0 0 0 0 0 0 0 0 0 0 0 0 0 0 0 0 0\\\\n\", \"hack\\\\n30\\\\n0 1 1 1 1 1 1 1 1 1 1 1 1 1 1 1 1 1 1 1 1 1 1 1 1 1 1 1 1 1\\\\n\", \"predefined\\\\n29\\\\n1 1 1 1 1 1 1 1 1 1 1 1 1 1 1 1 1 1 1 1 1 1 1 1 1 1 1 1 0\\\\n\", \"predefined\\\\n30\\\\n0 0 0 0 0 0 0 0 0 0 0 0 0 0 0 0 0 0 0 0 0 0 0 0 0 0 0 0 0 0\\\\n\", \"random\\\\n23\\\\n2\\\\n\", \"random\\\\n29\\\\n2\\\\n\", \"random\\\\n30\\\\n13\\\\n\", \"random\\\\n9\\\\n1\\\\n\", \"predefined\\\\n16\\\\n1 1 1 1 1 1 1 1 1 1 1 1 1 1 1 0\\\\n\", \"predefined\\\\n8\\\\n1 1 1 1 1 1 1 0\\\\n\", \"random\\\\n30\\\\n2\\\\n\", \"hack\\\\n5\\\\n0 0 1 1 0\\\\n\", \"random\\\\n25\\\\n1\\\\n\", \"random\\\\n14\\\\n1\\\\n\", \"predefined\\\\n8\\\\n1 1 1 1 1 1 1 1\\\\n\", \"random\\\\n12\\\\n1\\\\n\", \"random\\\\n30\\\\n1\\\\n\", \"random\\\\n17\\\\n1\\\\n\", \"random\\\\n26\\\\n2\\\\n\", \"chess\\\\n30\\\\n\", \"random\\\\n18\\\\n1\\\\n\", \"predefined\\\\n29\\\\n0 1 0 1 0 1 0 1 0 1 0 1 0 1 0 1 0 1 0 1 0 1 0 1 0 1 0 1 0\\\\n\", \"chess\\\\n20\\\\n\", \"predefined\\\\n8\\\\n0 0 0 0 0 0 0 0\\\\n\", \"random\\\\n27\\\\n2\\\\n\", \"random\\\\n5\\\\n1\\\\n\", \"predefined\\\\n29\\\\n1 1 1 1 1 1 1 1 1 1 1 1 1 1 1 1 1 1 1 1 1 1 1 1 1 1 1 1 1\\\\n\", \"random\\\\n24\\\\n2\\\\n\", \"random\\\\n11\\\\n1\\\\n\", \"random\\\\n6\\\\n1\\\\n\", \"random\\\\n4\\\\n1\\\\n\", \"predefined\\\\n30\\\\n1 1 1 1 1 1 1 1 1 1 1 1 1 1 1 1 1 1 1 1 1 1 1 1 1 1 1 1 1 1\\\\n\", \"predefined\\\\n1\\\\n0\\\\n\", \"predefined\\\\n5\\\\n0 1 0 1 1\\\\n\", \"chess\\\\n29\\\\n\", \"random\\\\n7\\\\n1\\\\n\", \"random\\\\n1\\\\n1\\\\n\", \"predefined\\\\n8\\\\n0 1 0 1 0 1 0 1\\\\n\", \"predefined\\\\n1\\\\n1\\\\n\", \"hack\\\\n30\\\\n1 0 1 1 1 1 1 1 1 1 1 1 1 1 1 1 1 1 1 1 1 1 1 1 1 1 1 1 0 1\\\\n\", \"random\\\\n7\\\\n2\\\\n\", \"modnar\\\\n20\\\\n11\\\\n\", \"random\\\\n10\\\\n2\\\\n\", \"sandom\\\\n20\\\\n12\\\\n\", \"random\\\\n30\\\\n25\\\\n\", \"random\\\\n34\\\\n1\\\\n\", \"oredefined\\\\n15\\\\n1 1 1 1 1 1 1 1 1 1 1 1 1 1 0\\\\n\", \"radnom\\\\n21\\\\n2\\\\n\", \"random\\\\n21\\\\n0\\\\n\", \"rbndom\\\\n28\\\\n1\\\\n\", \"random\\\\n13\\\\n2\\\\n\", \"cgess\\\\n10\\\\n\", \"ciess\\\\n11\\\\n\", \"random\\\\n2\\\\n2\\\\n\", \"random\\\\n35\\\\n1\\\\n\", \"random\\\\n13\\\\n0\\\\n\", \"shesc\\\\n19\\\\n\", \"predefined\\\\n15\\\\n1 1 2 1 1 1 1 1 1 1 1 1 1 1 1\\\\n\", \"modnar\\\\n29\\\\n2\\\\n\", \"modnar\\\\n15\\\\n1\\\\n\", \"random\\\\n26\\\\n0\\\\n\", \"predefinec\\\\n2\\\\n0 1\\\\n\", \"random\\\\n8\\\\n2\\\\n\", \"random\\\\n15\\\\n0\\\\n\", \"rnadom\\\\n8\\\\n1\\\\n\", \"rbndom\\\\n19\\\\n1\\\\n\", \"sandom\\\\n21\\\\n1\\\\n\", \"r`ndom\\\\n27\\\\n1\\\\n\", \"denifederp\\\\n2\\\\n0 1\\\\n\", \"rbndom\\\\n3\\\\n1\\\\n\", \"predefined\\\\n15\\\\n0 0 0 0 0 0 0 0 0 0 -1 0 0 0 0\\\\n\", \"random\\\\n3\\\\n0\\\\n\", \"predefined\\\\n15\\\\n0 1 0 1 0 1 0 1 0 0 0 1 0 1 0\\\\n\", \"predefined\\\\n3\\\\n0 0 0 0 0 0 0 0 0 0 0 0 0 0 0 0 0 0 0 0 0 0 0 0 0 0 0 0 0\\\\n\", \"hack\\\\n30\\\\n0 1 1 1 1 1 1 1 0 1 1 1 1 1 1 1 1 1 1 1 1 1 1 1 1 1 1 1 1 1\\\\n\", \"predefined\\\\n29\\\\n1 0 1 1 1 1 1 1 1 1 1 1 1 1 1 1 1 1 1 1 1 1 1 1 1 1 1 1 0\\\\n\", \"predefined\\\\n30\\\\n0 0 0 1 0 0 0 0 0 0 0 0 0 0 0 0 0 0 0 0 0 0 0 0 0 0 0 0 0 0\\\\n\", \"random\\\\n15\\\\n2\\\\n\", \"random\\\\n58\\\\n2\\\\n\", \"random\\\\n30\\\\n0\\\\n\", \"raodom\\\\n9\\\\n1\\\\n\", \"predefined\\\\n16\\\\n1 1 1 1 1 1 1 1 0 1 1 1 1 1 1 0\\\\n\", \"predefined\\\\n8\\\\n0 1 1 1 1 1 1 0\\\\n\", \"r`ndom\\\\n30\\\\n2\\\\n\", \"hack\\\\n5\\\\n0 1 1 1 0\\\\n\", \"modnar\\\\n2\\\\n1\\\\n\", \"random\\\\n14\\\\n2\\\\n\", \"precefined\\\\n8\\\\n1 1 1 1 1 1 1 1\\\\n\", \"r`ndom\\\\n14\\\\n1\\\\n\", \"random\\\\n30\\\\n4\\\\n\", \"raneom\\\\n17\\\\n1\\\\n\", \"randon\\\\n26\\\\n2\\\\n\", \"ssehc\\\\n30\\\\n\", \"random\\\\n31\\\\n1\\\\n\", \"predefined\\\\n29\\\\n0 1 0 1 0 1 0 1 0 1 0 0 0 1 0 1 0 1 0 1 0 1 0 1 0 1 0 1 0\\\\n\", \"chess\\\\n13\\\\n\", \"denifederp\\\\n8\\\\n0 0 0 0 0 0 0 0\\\\n\", \"randpm\\\\n27\\\\n2\\\\n\", \"random\\\\n5\\\\n2\\\\n\", \"5\\\\n<span class=\\\\\"tex-span\\\\\"></span>\\\\nblack\\\\n<span class=\\\\\"tex-span\\\\\"></span>\\\\nblack\\\\n<span class=\\\\\"tex-span\\\\\"></span>\\\\nwhite\\\\n<span class=\\\\\"tex-span\\\\\"></span>\\\\nwhite\\\\n<span class=\\\\\"tex-span\\\\\"></span>\\\\nblack\\\\n\"], \"outputs\": [\"0 1\\\\n0 0 1000000000 2\\\\n\", \"0 1\\\\n0 0 1000000000 2\\\\n\", \"0 1\\\\n0 0 1000000000 2\\\\n\", \"0 1\\\\n0 0 1000000000 2\\\\n\", \"0 1\\\\n0 0 1000000000 2\\\\n\", \"0 1\\\\n0 0 1000000000 2\\\\n\", \"0 1\\\\n0 0 1000000000 2\\\\n\", \"0 1\\\\n0 0 1000000000 2\\\\n\", \"0 1\\\\n0 0 1000000000 2\\\\n\", \"0 1\\\\n0 0 1000000000 2\\\\n\", \"0 1\\\\n0 0 1000000000 2\\\\n\", \"0 1\\\\n0 0 1000000000 2\\\\n\", \"0 1\\\\n0 0 1000000000 2\\\\n\", \"0 1\\\\n0 0 1000000000 2\\\\n\", \"0 1\\\\n0 0 1000000000 2\\\\n\", \"0 1\\\\n0 0 1000000000 2\\\\n\", \"0 1\\\\n0 0 1000000000 2\\\\n\", \"0 1\\\\n0 0 1000000000 2\\\\n\", \"0 1\\\\n0 0 1000000000 2\\\\n\", \"0 1\\\\n0 0 1000000000 2\\\\n\", \"0 1\\\\n0 0 1000000000 2\\\\n\", \"0 1\\\\n0 0 1000000000 2\\\\n\", \"0 1\\\\n0 0 1000000000 2\\\\n\", \"0 1\\\\n0 0 1000000000 2\\\\n\", \"0 1\\\\n0 0 1000000000 2\\\\n\", \"0 1\\\\n0 0 1000000000 2\\\\n\", \"0 1\\\\n0 0 1000000000 2\\\\n\", \"0 1\\\\n0 0 1000000000 2\\\\n\", \"0 1\\\\n0 0 1000000000 2\\\\n\", \"0 1\\\\n0 0 1000000000 2\\\\n\", \"0 1\\\\n0 0 1000000000 2\\\\n\", \"0 1\\\\n0 0 1000000000 2\\\\n\", \"0 1\\\\n0 0 1000000000 2\\\\n\", \"0 1\\\\n0 0 1000000000 2\\\\n\", \"0 1\\\\n0 0 1000000000 2\\\\n\", \"0 1\\\\n0 0 1000000000 2\\\\n\", \"0 1\\\\n0 0 1000000000 2\\\\n\", \"0 1\\\\n0 0 1000000000 2\\\\n\", \"0 1\\\\n0 0 1000000000 2\\\\n\", \"0 1\\\\n0 0 1000000000 2\\\\n\", \"0 1\\\\n0 0 1000000000 2\\\\n\", \"0 1\\\\n0 0 1000000000 2\\\\n\", \"0 1\\\\n0 0 1000000000 2\\\\n\", \"0 1\\\\n0 0 1000000000 2\\\\n\", \"0 1\\\\n0 0 1000000000 2\\\\n\", \"0 1\\\\n0 0 1000000000 2\\\\n\", \"0 1\\\\n0 0 1000000000 2\\\\n\", \"0 1\\\\n0 0 1000000000 2\\\\n\", \"0 1\\\\n0 0 1000000000 2\\\\n\", \"0 1\\\\n0 0 1000000000 2\\\\n\", \"0 1\\\\n0 0 1000000000 2\\\\n\", \"0 1\\\\n0 0 1000000000 2\\\\n\", \"0 1\\\\n0 0 1000000000 2\\\\n\", \"0 1\\\\n0 0 1000000000 2\\\\n\", \"0 1\\\\n0 0 1000000000 2\\\\n\", \"0 1\\\\n0 0 1000000000 2\\\\n\", \"0 1\\\\n0 0 1000000000 2\\\\n\", \"0 1\\\\n0 0 1000000000 2\\\\n\", \"0 1\\\\n0 0 1000000000 2\\\\n\", \"0 1\\\\n0 0 1000000000 2\\\\n\", \"0 1\\\\n0 0 1000000000 2\\\\n\", \"0 1\\\\n0 0 1000000000 2\\\\n\", \"0 1\\\\n0 0 1000000000 2\\\\n\", \"0 1\\\\n0 0 1000000000 2\\\\n\", \"0 1\\\\n0 0 1000000000 2\\\\n\", \"0 1\\\\n0 0 1000000000 2\\\\n\", \"0 1\\\\n0 0 1000000000 2\\\\n\", \"0 1\\\\n0 0 1000000000 2\\\\n\", \"0 1\\\\n0 0 1000000000 2\\\\n\", \"0 1\\\\n0 0 1000000000 2\\\\n\", \"0 1\\\\n0 0 1000000000 2\\\\n\", \"0 1\\\\n0 0 1000000000 2\\\\n\", \"0 1\\\\n0 0 1000000000 2\\\\n\", \"0 1\\\\n0 0 1000000000 2\\\\n\", \"0 1\\\\n0 0 1000000000 2\\\\n\", \"0 1\\\\n0 0 1000000000 2\\\\n\", \"0 1\\\\n0 0 1000000000 2\\\\n\", \"0 1\\\\n0 0 1000000000 2\\\\n\", \"0 1\\\\n0 0 1000000000 2\\\\n\", \"0 1\\\\n0 0 1000000000 2\\\\n\", \"0 1\\\\n0 0 1000000000 2\\\\n\", \"0 1\\\\n0 0 1000000000 2\\\\n\", \"0 1\\\\n0 0 1000000000 2\\\\n\", \"0 1\\\\n0 0 1000000000 2\\\\n\", \"0 1\\\\n0 0 1000000000 2\\\\n\", \"0 1\\\\n0 0 1000000000 2\\\\n\", \"0 1\\\\n0 0 1000000000 2\\\\n\", \"0 1\\\\n0 0 1000000000 2\\\\n\", \"0 1\\\\n0 0 1000000000 2\\\\n\", \"0 1\\\\n0 0 1000000000 2\\\\n\", \"0 1\\\\n0 0 1000000000 2\\\\n\", \"0 1\\\\n0 0 1000000000 2\\\\n\", \"0 1\\\\n0 0 1000000000 2\\\\n\", \"0 1\\\\n0 0 1000000000 2\\\\n\", \"0 1\\\\n0 0 1000000000 2\\\\n\", \"0 1\\\\n0 0 1000000000 2\\\\n\", \"0 1\\\\n0 0 1000000000 2\\\\n\", \"0 1\\\\n0 0 1000000000 2\\\\n\", \"0 1\\\\n0 0 1000000000 2\\\\n\", \"0 1\\\\n0 0 1000000000 2\\\\n\", \"0 1\\\\n0 0 1000000000 2\\\\n\", \"0 1\\\\n0 0 1000000000 2\\\\n\", \"0 1\\\\n0 0 1000000000 2\\\\n\", \"0 1\\\\n0 0 1000000000 2\\\\n\", \"0 1\\\\n0 0 1000000000 2\\\\n\", \"0 1\\\\n0 0 1000000000 2\\\\n\", \"0 1\\\\n0 0 1000000000 2\\\\n\", \"0 1\\\\n0 0 1000000000 2\\\\n\", \"0 1\\\\n0 0 1000000000 2\\\\n\", \"0 1\\\\n0 0 1000000000 2\\\\n\", \"0 1\\\\n0 0 1000000000 2\\\\n\", \"0 1\\\\n0 0 1000000000 2\\\\n\", \"0 1\\\\n0 0 1000000000 2\\\\n\", \"0 1\\\\n0 0 1000000000 2\\\\n\", \"0 1\\\\n0 0 1000000000 2\\\\n\", \"0 1\\\\n0 0 1000000000 2\\\\n\", \"0 1\\\\n0 0 1000000000 2\\\\n\", \"0 1\\\\n0 0 1000000000 2\\\\n\", \"0 1\\\\n0 0 1000000000 2\\\\n\", \"0 1\\\\n0 0 1000000000 2\\\\n\", \"0 1\\\\n0 0 1000000000 2\\\\n\", \"0 1\\\\n0 0 1000000000 2\\\\n\", \"0 1\\\\n0 0 1000000000 2\\\\n\", \"0 1\\\\n0 0 1000000000 2\\\\n\", \"0 1\\\\n0 0 1000000000 2\\\\n\", \"0 1\\\\n0 0 1000000000 2\\\\n\", \"0 1\\\\n0 0 1000000000 2\\\\n\", \"0 1\\\\n0 0 1000000000 2\\\\n\", \"0 1\\\\n0 0 1000000000 2\\\\n\", \"0 1\\\\n0 0 1000000000 2\\\\n\", \"0 1\\\\n0 0 1000000000 2\\\\n\", \"0 1\\\\n0 0 1000000000 2\\\\n\", \"0 1\\\\n0 0 1000000000 2\\\\n\", \"0 1\\\\n500000000 1\\\\n250000000 1\\\\n125000000 1\\\\n187500000 1\\\\n125000000 0 187500000 2\\\\n\"]}'}\n"
     ]
    }
   ],
   "source": [
    "dataset = []\n",
    "for entry in ds:        \n",
    "    new_entry = {\n",
    "        \"problem\": entry[\"question\"],\n",
    "        \"tests\": entry[\"input_output\"],\n",
    "    }\n",
    "\n",
    "    if difficulty_to_int(entry[\"difficulty\"]) > 5:\n",
    "        dataset.append(new_entry)\n",
    "\n",
    "print(len(dataset))\n",
    "print(dataset[0])\n",
    "\n",
    "output_dir = os.path.abspath(\"../../train/code\")\n",
    "output_file = os.path.join(output_dir, \"taco.json\")\n",
    "\n",
    "with open(output_file, \"w\") as f:\n",
    "    json.dump(dataset, f, indent=4)"
   ]
  },
  {
   "cell_type": "code",
   "execution_count": 5,
   "metadata": {},
   "outputs": [
    {
     "name": "stdout",
     "output_type": "stream",
     "text": [
      "Dataset({\n",
      "    features: ['question', 'solutions', 'starter_code', 'input_output', 'difficulty', 'raw_tags', 'name', 'source', 'tags', 'skill_types', 'url', 'Expected Auxiliary Space', 'time_limit', 'date', 'picture_num', 'memory_limit', 'Expected Time Complexity'],\n",
      "    num_rows: 1000\n",
      "})\n"
     ]
    }
   ],
   "source": [
    "ds = load_dataset(\"BAAI/TACO\", split=\"test\", trust_remote_code=True)\n",
    "print(ds)"
   ]
  },
  {
   "cell_type": "code",
   "execution_count": 6,
   "metadata": {},
   "outputs": [
    {
     "name": "stdout",
     "output_type": "stream",
     "text": [
      "1000\n",
      "{'problem': 'The city park of IT City contains n east to west paths and n north to south paths. Each east to west path crosses each north to south path, so there are n^2 intersections.\\n\\nThe city funded purchase of five benches. To make it seems that there are many benches it was decided to place them on as many paths as possible. Obviously this requirement is satisfied by the following scheme: each bench is placed on a cross of paths and each path contains not more than one bench.\\n\\nHelp the park administration count the number of ways to place the benches.\\n\\n\\n-----Input-----\\n\\nThe only line of the input contains one integer n (5 ≤ n ≤ 100) — the number of east to west paths and north to south paths.\\n\\n\\n-----Output-----\\n\\nOutput one integer — the number of ways to place the benches.\\n\\n\\n-----Examples-----\\nInput\\n5\\n\\nOutput\\n120', 'tests': '{\"inputs\": [\"5\\\\n\", \"6\\\\n\", \"7\\\\n\", \"15\\\\n\", \"17\\\\n\", \"72\\\\n\", \"83\\\\n\", \"95\\\\n\", \"99\\\\n\", \"100\\\\n\", \"7\\\\n\", \"100\\\\n\", \"83\\\\n\", \"72\\\\n\", \"6\\\\n\", \"15\\\\n\", \"99\\\\n\", \"17\\\\n\", \"95\\\\n\", \"5\\\\n\", \"6\\\\n\", \"7\\\\n\", \"8\\\\n\", \"9\\\\n\", \"10\\\\n\", \"11\\\\n\", \"12\\\\n\", \"13\\\\n\", \"14\\\\n\", \"15\\\\n\", \"16\\\\n\", \"17\\\\n\", \"18\\\\n\", \"19\\\\n\", \"20\\\\n\", \"21\\\\n\", \"22\\\\n\", \"23\\\\n\", \"24\\\\n\", \"25\\\\n\", \"26\\\\n\", \"27\\\\n\", \"28\\\\n\", \"29\\\\n\", \"30\\\\n\", \"31\\\\n\", \"32\\\\n\", \"33\\\\n\", \"34\\\\n\", \"35\\\\n\", \"36\\\\n\", \"37\\\\n\", \"38\\\\n\", \"39\\\\n\", \"40\\\\n\", \"41\\\\n\", \"42\\\\n\", \"43\\\\n\", \"44\\\\n\", \"45\\\\n\", \"46\\\\n\", \"47\\\\n\", \"48\\\\n\", \"49\\\\n\", \"50\\\\n\", \"51\\\\n\", \"52\\\\n\", \"53\\\\n\", \"54\\\\n\", \"55\\\\n\", \"56\\\\n\", \"57\\\\n\", \"58\\\\n\", \"59\\\\n\", \"60\\\\n\", \"61\\\\n\", \"62\\\\n\", \"63\\\\n\", \"64\\\\n\", \"65\\\\n\", \"66\\\\n\", \"67\\\\n\", \"68\\\\n\", \"69\\\\n\", \"70\\\\n\", \"71\\\\n\", \"72\\\\n\", \"73\\\\n\", \"74\\\\n\", \"75\\\\n\", \"76\\\\n\", \"77\\\\n\", \"78\\\\n\", \"79\\\\n\", \"80\\\\n\", \"81\\\\n\", \"82\\\\n\", \"83\\\\n\", \"84\\\\n\", \"85\\\\n\", \"86\\\\n\", \"87\\\\n\", \"88\\\\n\", \"89\\\\n\", \"90\\\\n\", \"91\\\\n\", \"92\\\\n\", \"93\\\\n\", \"94\\\\n\", \"95\\\\n\", \"96\\\\n\", \"97\\\\n\", \"98\\\\n\", \"100\\\\n\", \"99\\\\n\", \"38\\\\n\", \"9\\\\n\", \"23\\\\n\", \"19\\\\n\", \"36\\\\n\", \"41\\\\n\", \"16\\\\n\", \"8\\\\n\", \"11\\\\n\", \"28\\\\n\", \"14\\\\n\", \"12\\\\n\", \"24\\\\n\", \"10\\\\n\", \"18\\\\n\", \"13\\\\n\", \"101\\\\n\", \"58\\\\n\", \"20\\\\n\", \"73\\\\n\", \"30\\\\n\", \"33\\\\n\", \"21\\\\n\", \"22\\\\n\", \"26\\\\n\", \"52\\\\n\", \"25\\\\n\", \"55\\\\n\", \"27\\\\n\", \"35\\\\n\", \"34\\\\n\", \"56\\\\n\", \"43\\\\n\", \"40\\\\n\", \"47\\\\n\", \"87\\\\n\", \"51\\\\n\", \"62\\\\n\", \"29\\\\n\", \"48\\\\n\", \"94\\\\n\", \"85\\\\n\", \"71\\\\n\", \"50\\\\n\", \"53\\\\n\", \"75\\\\n\", \"90\\\\n\", \"66\\\\n\", \"97\\\\n\", \"78\\\\n\", \"60\\\\n\", \"82\\\\n\", \"57\\\\n\", \"32\\\\n\", \"39\\\\n\", \"54\\\\n\", \"59\\\\n\", \"45\\\\n\", \"49\\\\n\", \"61\\\\n\", \"80\\\\n\", \"70\\\\n\", \"96\\\\n\", \"46\\\\n\", \"65\\\\n\", \"84\\\\n\", \"91\\\\n\", \"86\\\\n\", \"77\\\\n\", \"44\\\\n\", \"37\\\\n\", \"64\\\\n\", \"69\\\\n\", \"79\\\\n\", \"81\\\\n\", \"31\\\\n\", \"93\\\\n\", \"104\\\\n\", \"105\\\\n\", \"67\\\\n\", \"42\\\\n\", \"74\\\\n\", \"89\\\\n\", \"98\\\\n\", \"68\\\\n\", \"102\\\\n\", \"103\\\\n\", \"92\\\\n\", \"88\\\\n\", \"63\\\\n\", \"76\\\\n\", \"010\\\\n\", \"011\\\\n\", \"5\\\\n\"], \"outputs\": [\"120\", \"4320\", \"52920\", \"1082161080\", \"4594961280\", \"23491596420472320\", \"101159538130177920\", \"402852449038723320\", \"613867215317368320\", \"680185280130048000\", \"52920\\\\n\", \"680185280130048000\\\\n\", \"101159538130177920\\\\n\", \"23491596420472320\\\\n\", \"4320\\\\n\", \"1082161080\\\\n\", \"613867215317368320\\\\n\", \"4594961280\\\\n\", \"402852449038723320\\\\n\", \"120\", \"4320\\\\n\", \"52920\\\\n\", \"376320\\\\n\", \"1905120\\\\n\", \"7620480\\\\n\", \"25613280\\\\n\", \"75271680\\\\n\", \"198764280\\\\n\", \"480960480\\\\n\", \"1082161080\\\\n\", \"2289530880\\\\n\", \"4594961280\\\\n\", \"8809274880\\\\n\", \"16225246080\\\\n\", \"28844881920\\\\n\", \"49689816120\\\\n\", \"83217546720\\\\n\", \"135870624120\\\\n\", \"216790801920\\\\n\", \"338735628000\\\\n\", \"519241008000\\\\n\", \"782079948000\\\\n\", \"1159075008000\\\\n\", \"1692330003000\\\\n\", \"2436955204320\\\\n\", \"3464369750520\\\\n\", \"4866275205120\\\\n\", \"6759405227520\\\\n\", \"9291168184320\\\\n\", \"12646312250880\\\\n\", \"17054756167680\\\\n\", \"22800743353080\\\\n\", \"30233492563680\\\\n\", \"39779534765880\\\\n\", \"51956943367680\\\\n\", \"67391683488480\\\\n\", \"86836325546880\\\\n\", \"111191389152480\\\\n\", \"141529605127680\\\\n\", \"179123406489720\\\\n\", \"225475983421920\\\\n\", \"282356262686520\\\\n\", \"351838198609920\\\\n\", \"436344790734720\\\\n\", \"538697272512000\\\\n\", \"662169946032000\\\\n\", \"810551169792000\\\\n\", \"988211039907000\\\\n\", \"1200176340012000\\\\n\", \"1452213371414520\\\\n\", \"1750919312862720\\\\n\", \"2103822798628320\\\\n\", \"2519494444494720\\\\n\", \"3007668093719520\\\\n\", \"3579373599137280\\\\n\", \"4247082003313080\\\\n\", \"5024864026080480\\\\n\", \"5928562817929080\\\\n\", \"6975981988577280\\\\n\", \"8187089972705280\\\\n\", \"9584241849262080\\\\n\", \"11192419787028480\\\\n\", \"13039493347246080\\\\n\", \"15156500934140280\\\\n\", \"17577953746103520\\\\n\", \"20342163644193720\\\\n\", \"23491596420472320\\\\n\", \"27073252016586720\\\\n\", \"31139073312923520\\\\n\", \"35746385180652000\\\\n\", \"40958365563072000\\\\n\", \"46844550428907000\\\\n\", \"53481374518572000\\\\n\", \"60952749885027000\\\\n\", \"69350684313630720\\\\n\", \"78775941790465920\\\\n\", \"89338747275947520\\\\n\", \"101159538130177920\\\\n\", \"114369764628510720\\\\n\", \"129112742100154680\\\\n\", \"145544557319424480\\\\n\", \"163835031878453880\\\\n\", \"184168745371860480\\\\n\", \"206746121328019680\\\\n\", \"231784578928298880\\\\n\", \"259519753664851680\\\\n\", \"290206790199406080\\\\n\", \"324121710799930680\\\\n\", \"361562862849158880\\\\n\", \"402852449038723320\\\\n\", \"448338143985131520\\\\n\", \"498394801129029120\\\\n\", \"553426253907179520\\\\n\", \"680185280130048000\\\\n\", \"613867215317368320\\\\n\", \"30233492563680\\\\n\", \"1905120\\\\n\", \"135870624120\\\\n\", \"16225246080\\\\n\", \"17054756167680\\\\n\", \"67391683488480\\\\n\", \"2289530880\\\\n\", \"376320\\\\n\", \"25613280\\\\n\", \"1159075008000\\\\n\", \"480960480\\\\n\", \"75271680\\\\n\", \"216790801920\\\\n\", \"7620480\\\\n\", \"8809274880\\\\n\", \"198764280\\\\n\", \"752883034137003000\\\\n\", \"2519494444494720\\\\n\", \"28844881920\\\\n\", \"27073252016586720\\\\n\", \"2436955204320\\\\n\", \"6759405227520\\\\n\", \"49689816120\\\\n\", \"83217546720\\\\n\", \"519241008000\\\\n\", \"810551169792000\\\\n\", \"338735628000\\\\n\", \"1452213371414520\\\\n\", \"782079948000\\\\n\", \"12646312250880\\\\n\", \"9291168184320\\\\n\", \"1750919312862720\\\\n\", \"111191389152480\\\\n\", \"51956943367680\\\\n\", \"282356262686520\\\\n\", \"163835031878453880\\\\n\", \"662169946032000\\\\n\", \"5024864026080480\\\\n\", \"1692330003000\\\\n\", \"351838198609920\\\\n\", \"361562862849158880\\\\n\", \"129112742100154680\\\\n\", \"20342163644193720\\\\n\", \"538697272512000\\\\n\", \"988211039907000\\\\n\", \"35746385180652000\\\\n\", \"231784578928298880\\\\n\", \"9584241849262080\\\\n\", \"498394801129029120\\\\n\", \"53481374518572000\\\\n\", \"3579373599137280\\\\n\", \"89338747275947520\\\\n\", \"2103822798628320\\\\n\", \"4866275205120\\\\n\", \"39779534765880\\\\n\", \"1200176340012000\\\\n\", \"3007668093719520\\\\n\", \"179123406489720\\\\n\", \"436344790734720\\\\n\", \"4247082003313080\\\\n\", \"69350684313630720\\\\n\", \"17577953746103520\\\\n\", \"448338143985131520\\\\n\", \"225475983421920\\\\n\", \"8187089972705280\\\\n\", \"114369764628510720\\\\n\", \"259519753664851680\\\\n\", \"145544557319424480\\\\n\", \"46844550428907000\\\\n\", \"141529605127680\\\\n\", \"22800743353080\\\\n\", \"6975981988577280\\\\n\", \"15156500934140280\\\\n\", \"60952749885027000\\\\n\", \"78775941790465920\\\\n\", \"3464369750520\\\\n\", \"324121710799930680\\\\n\", \"1014852610170048000\\\\n\", \"1118875002712477920\\\\n\", \"11192419787028480\\\\n\", \"86836325546880\\\\n\", \"31139073312923520\\\\n\", \"206746121328019680\\\\n\", \"553426253907179520\\\\n\", \"13039493347246080\\\\n\", \"832500274966668000\\\\n\", \"919616349138003000\\\\n\", \"290206790199406080\\\\n\", \"184168745371860480\\\\n\", \"5928562817929080\\\\n\", \"40958365563072000\\\\n\", \"7620480\\\\n\", \"25613280\\\\n\", \"120\\\\n\"]}'}\n"
     ]
    }
   ],
   "source": [
    "dataset = []\n",
    "for entry in ds:\n",
    "    new_entry = {\n",
    "        \"problem\": entry[\"question\"],\n",
    "        \"tests\": entry[\"input_output\"], #str, when use it to test the model response, need use json.load()\n",
    "    }\n",
    "    dataset.append(new_entry)\n",
    "\n",
    "print(len(dataset))\n",
    "print(dataset[0])\n",
    "\n",
    "output_dir = os.path.abspath(\"../../test/code\")\n",
    "output_file = os.path.join(output_dir, \"taco.json\")\n",
    "\n",
    "with open(output_file, \"w\") as f:\n",
    "    json.dump(dataset, f, indent=4)"
   ]
  },
  {
   "cell_type": "code",
   "execution_count": null,
   "metadata": {},
   "outputs": [],
   "source": []
  }
 ],
 "metadata": {
  "kernelspec": {
   "display_name": "rllm",
   "language": "python",
   "name": "python3"
  },
  "language_info": {
   "codemirror_mode": {
    "name": "ipython",
    "version": 3
   },
   "file_extension": ".py",
   "mimetype": "text/x-python",
   "name": "python",
   "nbconvert_exporter": "python",
   "pygments_lexer": "ipython3",
   "version": "3.10.16"
  }
 },
 "nbformat": 4,
 "nbformat_minor": 2
}
