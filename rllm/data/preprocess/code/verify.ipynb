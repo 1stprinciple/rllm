{
 "cells": [
  {
   "cell_type": "code",
   "execution_count": 1,
   "metadata": {},
   "outputs": [
    {
     "name": "stderr",
     "output_type": "stream",
     "text": [
      "/opt/conda/envs/rllm-xiao/lib/python3.10/site-packages/tqdm/auto.py:21: TqdmWarning: IProgress not found. Please update jupyter and ipywidgets. See https://ipywidgets.readthedocs.io/en/stable/user_install.html\n",
      "  from .autonotebook import tqdm as notebook_tqdm\n"
     ]
    },
    {
     "name": "stdout",
     "output_type": "stream",
     "text": [
      "dict_keys(['source', 'task_type', 'in_source_id', 'prompt', 'gold_standard_solution', 'verification_info', 'metadata', 'problem_id'])\n"
     ]
    }
   ],
   "source": [
    "import json\n",
    "import os\n",
    "from datasets import load_dataset\n",
    "\n",
    "\n",
    "ds = load_dataset(\"PrimeIntellect/verifiable-coding-problems\", split=\"train\", trust_remote_code=True)\n",
    "\n",
    "print(ds[0].keys())"
   ]
  },
  {
   "cell_type": "code",
   "execution_count": 3,
   "metadata": {},
   "outputs": [
    {
     "name": "stdout",
     "output_type": "stream",
     "text": [
      "34755\n",
      "{'problem': 'Solve the following coding problem using the programming language python:\\n\\nPolycarp has $n$ different binary words. A word called binary if it contains only characters \\'0\\' and \\'1\\'. For example, these words are binary: \"0001\", \"11\", \"0\" and \"0011100\".\\n\\nPolycarp wants to offer his set of $n$ binary words to play a game \"words\". In this game, players name words and each next word (starting from the second) must start with the last character of the previous word. The first word can be any. For example, these sequence of words can be named during the game: \"0101\", \"1\", \"10\", \"00\", \"00001\".\\n\\nWord reversal is the operation of reversing the order of the characters. For example, the word \"0111\" after the reversal becomes \"1110\", the word \"11010\" after the reversal becomes \"01011\".\\n\\nProbably, Polycarp has such a set of words that there is no way to put them in the order correspondent to the game rules. In this situation, he wants to reverse some words from his set so that:  the final set of $n$ words still contains different words (i.e. all words are unique);  there is a way to put all words of the final set of words in the order so that the final sequence of $n$ words is consistent with the game rules. \\n\\nPolycarp wants to reverse minimal number of words. Please, help him.\\n\\n\\n-----Input-----\\n\\nThe first line of the input contains one integer $t$ ($1 \\\\le t \\\\le 10^4$) — the number of test cases in the input. Then $t$ test cases follow.\\n\\nThe first line of a test case contains one integer $n$ ($1 \\\\le n \\\\le 2\\\\cdot10^5$) — the number of words in the Polycarp\\'s set. Next $n$ lines contain these words. All of $n$ words aren\\'t empty and contains only characters \\'0\\' and \\'1\\'. The sum of word lengths doesn\\'t exceed $4\\\\cdot10^6$. All words are different.\\n\\nGuaranteed, that the sum of $n$ for all test cases in the input doesn\\'t exceed $2\\\\cdot10^5$. Also, guaranteed that the sum of word lengths for all test cases in the input doesn\\'t exceed $4\\\\cdot10^6$.\\n\\n\\n-----Output-----\\n\\nPrint answer for all of $t$ test cases in the order they appear.\\n\\nIf there is no answer for the test case, print -1. Otherwise, the first line of the output should contain $k$ ($0 \\\\le k \\\\le n$) — the minimal number of words in the set which should be reversed. The second line of the output should contain $k$ distinct integers — the indexes of the words in the set which should be reversed. Words are numerated from $1$ to $n$ in the order they appear. If $k=0$ you can skip this line (or you can print an empty line). If there are many answers you can print any of them.\\n\\n\\n-----Example-----\\nInput\\n4\\n4\\n0001\\n1000\\n0011\\n0111\\n3\\n010\\n101\\n0\\n2\\n00000\\n00001\\n4\\n01\\n001\\n0001\\n00001\\n\\nOutput\\n1\\n3 \\n-1\\n0\\n\\n2\\n1 2\\n\\nThe input will be stdin and you should print your solution to stdout\\n\\n\\nNow solve the problem and return the code.', 'solutions': [\"```python\\nfor _ in range(int(input())):\\n    n = int(input())\\n    mass = []\\n    zo = 0\\n    oz = 0\\n    zz = 0\\n    oo = 0\\n    ozs = []\\n    zos = []\\n    ozss = set()\\n    zoss = set()\\n    for j in range(n):\\n        k = input()\\n        mass.append(k)\\n        if k[0] == '0' and k[-1] == '1':\\n            zoss.add(k)\\n            zos.append(j + 1)\\n            zo += 1\\n        elif k[0] == '1' and k[-1] == '0':\\n            ozss.add(k)\\n            ozs.append(j + 1)\\n            oz += 1\\n        elif k[0] == '0' and k[-1] == '0':\\n            zz += 1\\n        else:\\n            oo += 1\\n    if zz and oo and not oz and not zo:\\n        print(-1)\\n        continue\\n    else:\\n        if zo > oz:\\n            print((zo - oz) // 2)\\n            ans = []\\n            need = (zo - oz) // 2\\n            i = 0\\n            while need:\\n                zzz = mass[zos[i] - 1][len(mass[zos[i] - 1]) - 1:: -1]\\n                if zzz not in ozss:\\n                    ans.append(zos[i])\\n                    need -= 1\\n                i += 1\\n            print(*ans)\\n        else:\\n            print((oz - zo) // 2)\\n            ans = []\\n            need = (oz - zo) // 2\\n            i = 0\\n            while need:\\n                zzz = mass[ozs[i] - 1][len(mass[ozs[i] - 1]) - 1:: -1]\\n                if zzz not in zoss:\\n                    ans.append(ozs[i])\\n                    need -= 1\\n                i += 1\\n            print(*ans)\\n\\n```\"], 'tests': [{'type': 'stdin_stdout', 'input': '4\\n4\\n0001\\n1000\\n0011\\n0111\\n3\\n010\\n101\\n0\\n2\\n00000\\n00001\\n4\\n01\\n001\\n0001\\n00001\\n', 'output': '1\\n3 \\n-1\\n0\\n\\n2\\n1 2 \\n'}]}\n"
     ]
    }
   ],
   "source": [
    "import ast\n",
    "dataset = []\n",
    "for entry in ds:\n",
    "    gold_standard_solution = entry[\"gold_standard_solution\"]\n",
    "    if gold_standard_solution is None:\n",
    "        continue\n",
    "    if gold_standard_solution.startswith(\"```python\") and gold_standard_solution.endswith(\"```\"):\n",
    "        tests = entry[\"verification_info\"]\n",
    "        if isinstance(tests, str):\n",
    "            try:\n",
    "                tests = ast.literal_eval(tests)\n",
    "            except (ValueError, SyntaxError) as e:\n",
    "                #Try Json loads instread\n",
    "                try: \n",
    "                    tests = json.loads(entry[\"verification_info\"])\n",
    "                except (json.JSONDecodeError, SyntaxError, ValueError) as e:\n",
    "                    print(repr(entry[\"verification_info\"]))\n",
    "                    print(f\"Error in json.loads: {e}\")\n",
    "                    continue\n",
    "        assert isinstance(tests, dict), \"Tests should be a dictionary\"\n",
    "        tests = tests[\"test_cases\"]\n",
    "        if len(tests) == 0:\n",
    "            continue \n",
    "        new_entry = {\n",
    "            \"problem\": entry[\"prompt\"],\n",
    "            \"solutions\": [gold_standard_solution],\n",
    "            \"tests\":tests,\n",
    "        }\n",
    "\n",
    "        #Assert tests is a dictionary \n",
    "        assert isinstance(tests, list), \"Tests should be a dictionary\"\n",
    "        assert \"input\" in tests[0], \"Tests should have an input key\"\n",
    "        assert \"output\" in tests[0], \"Tests should have an output key\"\n",
    "\n",
    "        dataset.append(new_entry)\n",
    "\n",
    "print(len(dataset))\n",
    "print(dataset[0])\n",
    "dataset = dataset\n",
    "output_dir = os.path.abspath(\"../../train/code\")\n",
    "output_file = os.path.join(output_dir, \"verify.json\")\n",
    "with open(output_file, \"w\") as f:\n",
    "    json.dump(dataset, f, indent=4)"
   ]
  }
 ],
 "metadata": {
  "kernelspec": {
   "display_name": "rllm-xiao",
   "language": "python",
   "name": "python3"
  },
  "language_info": {
   "codemirror_mode": {
    "name": "ipython",
    "version": 3
   },
   "file_extension": ".py",
   "mimetype": "text/x-python",
   "name": "python",
   "nbconvert_exporter": "python",
   "pygments_lexer": "ipython3",
   "version": "3.10.16"
  }
 },
 "nbformat": 4,
 "nbformat_minor": 2
}
