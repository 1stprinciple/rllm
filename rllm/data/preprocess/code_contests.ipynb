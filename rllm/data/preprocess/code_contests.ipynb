{
 "cells": [
  {
   "cell_type": "code",
   "execution_count": 1,
   "metadata": {},
   "outputs": [
    {
     "name": "stderr",
     "output_type": "stream",
     "text": [
      "/Users/Bill/.pyenv/versions/3.9.13/lib/python3.9/site-packages/tqdm/auto.py:21: TqdmWarning: IProgress not found. Please update jupyter and ipywidgets. See https://ipywidgets.readthedocs.io/en/stable/user_install.html\n",
      "  from .autonotebook import tqdm as notebook_tqdm\n"
     ]
    },
    {
     "name": "stdout",
     "output_type": "stream",
     "text": [
      "Dataset({\n",
      "    features: ['name', 'description', 'public_tests', 'private_tests', 'generated_tests', 'source', 'difficulty', 'solutions', 'incorrect_solutions', 'cf_contest_id', 'cf_index', 'cf_points', 'cf_rating', 'cf_tags', 'is_description_translated', 'untranslated_description', 'time_limit', 'memory_limit_bytes', 'input_file', 'output_file'],\n",
      "    num_rows: 13328\n",
      "})\n"
     ]
    }
   ],
   "source": [
    "import json\n",
    "from datasets import load_dataset\n",
    "\n",
    "ds = load_dataset(\"deepmind/code_contests\", split=\"train\")\n",
    "\n",
    "print(ds)"
   ]
  },
  {
   "cell_type": "code",
   "execution_count": 2,
   "metadata": {},
   "outputs": [
    {
     "name": "stdout",
     "output_type": "stream",
     "text": [
      "13328\n"
     ]
    }
   ],
   "source": [
    "dataset = []\n",
    "for entry in ds:\n",
    "    difficulty = entry[\"difficulty\"] # TODO: understand how the difficulty is calculated and convert the difficulty to a number from 1-10 or 0 for unknown\n",
    "    new_entry = {\n",
    "        \"problem\": entry[\"description\"],\n",
    "        \"input_file\": entry[\"input_file\"],\n",
    "        \"output_file\": entry[\"output_file\"],\n",
    "        \"solutions\": entry[\"solutions\"],\n",
    "        \"incorrect_solutions\": entry[\"incorrect_solutions\"],\n",
    "        \"public_tests\": entry[\"public_tests\"],\n",
    "        \"private_tests\": entry[\"private_tests\"],\n",
    "        \"generated_tests\": entry[\"generated_tests\"],\n",
    "        \"time_limit\": entry[\"time_limit\"],\n",
    "        \"memory_limit_bytes\": entry[\"memory_limit_bytes\"],\n",
    "        \"difficulty\": difficulty,\n",
    "    }\n",
    "    dataset.append(new_entry)\n",
    "\n",
    "print(len(dataset))\n",
    "\n",
    "with open(\"code_contests.json\", \"w\") as f:\n",
    "    json.dump(dataset, f, indent=4)"
   ]
  }
 ],
 "metadata": {
  "kernelspec": {
   "display_name": "tsj",
   "language": "python",
   "name": "python3"
  },
  "language_info": {
   "codemirror_mode": {
    "name": "ipython",
    "version": 3
   },
   "file_extension": ".py",
   "mimetype": "text/x-python",
   "name": "python",
   "nbconvert_exporter": "python",
   "pygments_lexer": "ipython3",
   "version": "3.9.13"
  }
 },
 "nbformat": 4,
 "nbformat_minor": 2
}
