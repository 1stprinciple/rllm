{
 "cells": [
  {
   "cell_type": "code",
   "execution_count": 2,
   "metadata": {},
   "outputs": [
    {
     "name": "stderr",
     "output_type": "stream",
     "text": [
      "Downloading data: 100%|██████████| 39/39 [01:49<00:00,  2.82s/files]\n",
      "Generating train split: 100%|██████████| 13328/13328 [00:37<00:00, 358.30 examples/s]\n",
      "Generating test split: 100%|██████████| 165/165 [00:00<00:00, 534.91 examples/s]\n",
      "Generating valid split: 100%|██████████| 117/117 [00:00<00:00, 440.44 examples/s]"
     ]
    },
    {
     "name": "stdout",
     "output_type": "stream",
     "text": [
      "Dataset({\n",
      "    features: ['name', 'description', 'public_tests', 'private_tests', 'generated_tests', 'source', 'difficulty', 'solutions', 'incorrect_solutions', 'cf_contest_id', 'cf_index', 'cf_points', 'cf_rating', 'cf_tags', 'is_description_translated', 'untranslated_description', 'time_limit', 'memory_limit_bytes', 'input_file', 'output_file'],\n",
      "    num_rows: 13328\n",
      "})\n"
     ]
    },
    {
     "name": "stderr",
     "output_type": "stream",
     "text": [
      "\n"
     ]
    }
   ],
   "source": [
    "import json\n",
    "from datasets import load_dataset\n",
    "\n",
    "ds = load_dataset(\"deepmind/code_contests\", split=\"train\")\n",
    "\n",
    "print(ds)"
   ]
  },
  {
   "cell_type": "code",
   "execution_count": null,
   "metadata": {},
   "outputs": [],
   "source": []
  },
  {
   "cell_type": "code",
   "execution_count": 3,
   "metadata": {},
   "outputs": [
    {
     "name": "stdout",
     "output_type": "stream",
     "text": [
      "public_tests: {'input': ['3\\n((()))\\n(())()\\n()(()'], 'output': ['YES\\nYES\\nNO']}\n",
      "public_tests: {'input': ['3\\n1\\n0 1\\n0 0\\n1 0\\n2\\n0 1\\n0 0\\n1 0\\n2\\n0 0\\n0 2\\n2 1'], 'output': ['yes\\nyes\\nno\\n']}\n",
      "public_tests: {'input': ['2\\n2 6\\n10 11'], 'output': ['2\\n1\\n']}\n"
     ]
    },
    {
     "name": "stdout",
     "output_type": "stream",
     "text": [
      "13328\n"
     ]
    }
   ],
   "source": [
    "dataset = []\n",
    "i = 0 \n",
    "for entry in ds:\n",
    "    difficulty = entry[\"difficulty\"] # TODO: understand how the difficulty is calculated and convert the difficulty to a number from 1-10 or 0 for unknown\n",
    "    if i <= 2 :\n",
    "        i = i + 1\n",
    "        print(f\"public_tests: {entry['public_tests']}\")\n",
    "        \n",
    "    new_entry = {\n",
    "        \"problem\": entry[\"description\"],\n",
    "        \"input_file\": entry[\"input_file\"],\n",
    "        \"output_file\": entry[\"output_file\"],\n",
    "        \"solutions\": entry[\"solutions\"],\n",
    "        \"incorrect_solutions\": entry[\"incorrect_solutions\"],\n",
    "        \"public_tests\": entry[\"public_tests\"],\n",
    "        \"private_tests\": entry[\"private_tests\"],\n",
    "        \"generated_tests\": entry[\"generated_tests\"],\n",
    "        \"time_limit\": entry[\"time_limit\"],\n",
    "        \"memory_limit_bytes\": entry[\"memory_limit_bytes\"],\n",
    "        \"difficulty\": difficulty,\n",
    "    }\n",
    "    dataset.append(new_entry)\n",
    "\n",
    "print(len(dataset))\n",
    "\n",
    "with open(\"code_contests.json\", \"w\") as f:\n",
    "    json.dump(dataset, f, indent=4)"
   ]
  },
  {
   "cell_type": "code",
   "execution_count": 4,
   "metadata": {},
   "outputs": [
    {
     "name": "stdout",
     "output_type": "stream",
     "text": [
      "public_tests: {'input': ['5 2\\nAA\\nAB\\nBB\\nBA\\nAZ\\n'], 'output': ['5 2 1 3 4 \\n']}\n",
      "public_tests: {'input': ['8 4\\n-3 1\\n-4 4\\n1 5\\n2 2\\n2 -2\\n-2 -4\\n-1 -1\\n-6 0\\n', '1 1\\n0 0\\n'], 'output': ['3.162277660\\n', '0.000000000\\n']}\n",
      "public_tests: {'input': ['5 1 5\\n1 2 3 4 3\\n', '5 1 5\\n1 2 3 4 5\\n', '5 4 5\\n1 2 3 4 5\\n'], 'output': ['4\\n', '5\\n', '125\\n']}\n",
      "165\n"
     ]
    }
   ],
   "source": [
    "ds = load_dataset(\"deepmind/code_contests\", split=\"test\")\n",
    "\n",
    "\n",
    "dataset = []\n",
    "i = 0 \n",
    "for entry in ds:\n",
    "    difficulty = entry[\"difficulty\"] # TODO: understand how the difficulty is calculated and convert the difficulty to a number from 1-10 or 0 for unknown\n",
    "    if i <= 2 :\n",
    "        i = i + 1\n",
    "        print(f\"public_tests: {entry['public_tests']}\")\n",
    "        \n",
    "    new_entry = {\n",
    "        \"problem\": entry[\"description\"],\n",
    "        \"input_file\": entry[\"input_file\"],\n",
    "        \"output_file\": entry[\"output_file\"],\n",
    "        \"solutions\": entry[\"solutions\"],\n",
    "        \"incorrect_solutions\": entry[\"incorrect_solutions\"],\n",
    "        \"public_tests\": entry[\"public_tests\"],\n",
    "        \"private_tests\": entry[\"private_tests\"],\n",
    "        \"generated_tests\": entry[\"generated_tests\"],\n",
    "        \"time_limit\": entry[\"time_limit\"],\n",
    "        \"memory_limit_bytes\": entry[\"memory_limit_bytes\"],\n",
    "        \"difficulty\": difficulty,\n",
    "    }\n",
    "    dataset.append(new_entry)\n",
    "\n",
    "print(len(dataset))\n",
    "\n",
    "with open(\"test_code_contests.json\", \"w\") as f:\n",
    "    json.dump(dataset, f, indent=4)"
   ]
  }
 ],
 "metadata": {
  "kernelspec": {
   "display_name": "rllm-xiao",
   "language": "python",
   "name": "python3"
  },
  "language_info": {
   "codemirror_mode": {
    "name": "ipython",
    "version": 3
   },
   "file_extension": ".py",
   "mimetype": "text/x-python",
   "name": "python",
   "nbconvert_exporter": "python",
   "pygments_lexer": "ipython3",
   "version": "3.10.0"
  }
 },
 "nbformat": 4,
 "nbformat_minor": 2
}
