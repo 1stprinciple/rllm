{
  "cells": [
    {
      "cell_type": "code",
      "execution_count": 3,
      "metadata": {
        "colab": {
          "base_uri": "https://localhost:8080/"
        },
        "id": "hmnrwuHZHxss",
        "outputId": "3896a25b-0eeb-4cd5-9d26-6eba6954fe53"
      },
      "outputs": [
        {
          "name": "stderr",
          "output_type": "stream",
          "text": [
            "/opt/conda/envs/rllm-xiao/lib/python3.10/site-packages/tqdm/auto.py:21: TqdmWarning: IProgress not found. Please update jupyter and ipywidgets. See https://ipywidgets.readthedocs.io/en/stable/user_install.html\n",
            "  from .autonotebook import tqdm as notebook_tqdm\n"
          ]
        },
        {
          "name": "stdout",
          "output_type": "stream",
          "text": [
            "Dataset({\n",
            "    features: ['contestId', 'index', 'name', 'type', 'rating', 'tags', 'title', 'time-limit', 'memory-limit', 'problem-description', 'input-specification', 'output-specification', 'demo-input', 'demo-output', 'note', 'points', 'test_cases', 'creationTimeSeconds', 'relativeTimeSeconds', 'programmingLanguage', 'verdict', 'testset', 'passedTestCount', 'timeConsumedMillis', 'memoryConsumedBytes', 'code', 'prompt', 'response', 'score'],\n",
            "    num_rows: 621356\n",
            "})\n"
          ]
        }
      ],
      "source": [
        "import json\n",
        "import pandas as pd\n",
        "from datasets import load_dataset\n",
        "\n",
        "ds = load_dataset(\"MatrixStudio/Codeforces-Python-Submissions\", split=\"train\")\n",
        "\n",
        "print(ds)"
      ]
    },
    {
      "cell_type": "code",
      "execution_count": 4,
      "metadata": {
        "id": "311OF4w_K4EJ"
      },
      "outputs": [],
      "source": [
        "# func. to extract difficulty rating from tags\n",
        "def extract_difficulty(tags):\n",
        "    if pd.isnull(tags):  # Handles when tags are null\n",
        "        return 0\n",
        "    for tag in tags.split(\",\"):\n",
        "        if \"*\" in tag:  # Difficulty is marked with a '*' symbol\n",
        "            try:\n",
        "                return int(tag.replace(\"*\", \"\"))\n",
        "            except ValueError:\n",
        "                continue\n",
        "    return 0  # Default difficulty "
      ]
    },
    {
      "cell_type": "code",
      "execution_count": 5,
      "metadata": {
        "id": "U2gCVF4ULG9l"
      },
      "outputs": [
        {
          "name": "stdout",
          "output_type": "stream",
          "text": [
            "train dataset size: 621356\n"
          ]
        }
      ],
      "source": [
        "dataset = []\n",
        "for entry in ds:\n",
        "    new_entry = {\n",
        "        \"problem\": entry[\"prompt\"] + \"\\n\" + entry[\"problem-description\"],#Note(Xiao):this may have problem\n",
        "        \"test_cases\": entry[\"test_cases\"],#str, when use it as a reward, need use json.loads\n",
        "    }\n",
        "    dataset.append(new_entry)\n",
        "\n",
        "print(f\"train dataset size: {len(dataset)}\")\n",
        "\n",
        "with open(\"train_codeforces.json\", \"w\") as f:\n",
        "    json.dump(dataset, f, indent=4)"
      ]
    },
    {
      "cell_type": "code",
      "execution_count": null,
      "metadata": {},
      "outputs": [],
      "source": [
        "ds = load_dataset(\"MatrixStudio/Codeforces-Python-Submissions\", split=\"test\")\n",
        "\n",
        "print(ds)"
      ]
    },
    {
      "cell_type": "code",
      "execution_count": null,
      "metadata": {},
      "outputs": [],
      "source": [
        "dataset = []\n",
        "for entry in ds:\n",
        "    new_entry = {\n",
        "        \"problem\": entry[\"prompt\"] + \"\\n\" + entry[\"problem-description\"],#Note(Xiao):this may have problem\n",
        "        \"test_cases\": entry[\"test_cases\"],#str, when use it as a reward, need use json.loads\n",
        "    }\n",
        "    dataset.append(new_entry)\n",
        "\n",
        "print(f\"test dataset size: {len(dataset)}\")\n",
        "\n",
        "with open(\"test_codeforces.json\", \"w\") as f:\n",
        "    json.dump(dataset, f, indent=4)"
      ]
    }
  ],
  "metadata": {
    "colab": {
      "provenance": []
    },
    "kernelspec": {
      "display_name": "rllm-xiao",
      "language": "python",
      "name": "python3"
    },
    "language_info": {
      "codemirror_mode": {
        "name": "ipython",
        "version": 3
      },
      "file_extension": ".py",
      "mimetype": "text/x-python",
      "name": "python",
      "nbconvert_exporter": "python",
      "pygments_lexer": "ipython3",
      "version": "3.10.16"
    }
  },
  "nbformat": 4,
  "nbformat_minor": 0
}
