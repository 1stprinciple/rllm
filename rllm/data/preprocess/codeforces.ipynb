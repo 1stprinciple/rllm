{
  "cells": [
    {
      "cell_type": "code",
      "execution_count": 3,
      "metadata": {
        "colab": {
          "base_uri": "https://localhost:8080/"
        },
        "id": "hmnrwuHZHxss",
        "outputId": "3896a25b-0eeb-4cd5-9d26-6eba6954fe53"
      },
      "outputs": [
        {
          "name": "stdout",
          "output_type": "stream",
          "text": [
            "Dataset({\n",
            "    features: ['contest', 'problem_name', 'problem_statement', 'problem_tags'],\n",
            "    num_rows: 8343\n",
            "})\n"
          ]
        }
      ],
      "source": [
        "import json\n",
        "import pandas as pd\n",
        "\n",
        "df = pd.read_csv(\"data.csv\")\n",
        "\n",
        "\n",
        "print(ds)"
      ]
    },
    {
      "cell_type": "code",
      "execution_count": 4,
      "metadata": {
        "id": "311OF4w_K4EJ"
      },
      "outputs": [],
      "source": [
        "# func. to extract difficulty rating from tags\n",
        "def extract_difficulty(tags):\n",
        "    if pd.isnull(tags):  # Handles when tags are null\n",
        "        return 0\n",
        "    for tag in tags.split(\",\"):\n",
        "        if \"*\" in tag:  # Difficulty is marked with a '*' symbol\n",
        "            try:\n",
        "                return int(tag.replace(\"*\", \"\"))\n",
        "            except ValueError:\n",
        "                continue\n",
        "    return 0  # Default difficulty "
      ]
    },
    {
      "cell_type": "code",
      "execution_count": 5,
      "metadata": {
        "colab": {
          "base_uri": "https://localhost:8080/"
        },
        "id": "OrXFZCQxHxsv",
        "outputId": "263bec7b-218a-4e21-8a0f-dd52ac9978d2"
      },
      "outputs": [
        {
          "name": "stdout",
          "output_type": "stream",
          "text": [
            "8343\n",
            "{'problem': 'You are given n rectangles. The corners of rectangles have integer coordinates and their edges are parallel to the Ox and Oy axes. The rectangles may touch each other, but they do not overlap (that is, there are no points that belong to the interior of more than one rectangle). \\n\\nYour task is to determine if the rectangles form a square. In other words, determine if the set of points inside or on the border of at least one rectangle is precisely equal to the set of points inside or on the border of some square.\\n\\nThe first line contains a single integer n (1\\u2009≤\\u2009n\\u2009≤\\u20095). Next n lines contain four integers each, describing a single rectangle: x1, y1, x2, y2 (0\\u2009≤\\u2009x1\\u2009<\\u2009x2\\u2009≤\\u200931400,\\u20090\\u2009≤\\u2009y1\\u2009<\\u2009y2\\u2009≤\\u200931400) — x1 and x2 are x-coordinates of the left and right edges of the rectangle, and y1 and y2 are y-coordinates of the bottom and top edges of the rectangle. \\n\\nNo two rectangles overlap (that is, there are no points that belong to the interior of more than one rectangle).\\n\\nIn a single line print \"YES\", if the given rectangles form a square, or \"NO\" otherwise.', 'tags': ['implementation', '*1500'], 'difficulty': 1500, 'contest': 325, 'problem_name': 'A'}\n"
          ]
        }
      ],
      "source": [
        "dataset = []\n",
        "# Process the dataset\n",
        "dataset = []\n",
        "for _, row in df.iterrows():\n",
        "    new_entry = {\n",
        "        \"problem\": row[\"problem_statement\"],\n",
        "        \"tags\": row[\"problem_tags\"].split(\",\") if pd.notnull(row[\"problem_tags\"]) else [],\n",
        "        \"difficulty\": extract_difficulty(row[\"problem_tags\"]),\n",
        "        \"contest\": row[\"contest\"],\n",
        "        \"problem_name\": row[\"problem_name\"],\n",
        "    }\n",
        "    dataset.append(new_entry)\n",
        "\n",
        "print(len(dataset))\n",
        "print(dataset[0])\n",
        "\n",
        "with open(\"codeforces.json\", \"w\") as f:\n",
        "    json.dump(dataset, f, indent=4)"
      ]
    },
    {
      "cell_type": "code",
      "execution_count": null,
      "metadata": {
        "id": "U2gCVF4ULG9l"
      },
      "outputs": [],
      "source": []
    }
  ],
  "metadata": {
    "colab": {
      "provenance": []
    },
    "kernelspec": {
      "display_name": "Python 3",
      "name": "python3"
    },
    "language_info": {
      "codemirror_mode": {
        "name": "ipython",
        "version": 3
      },
      "file_extension": ".py",
      "mimetype": "text/x-python",
      "name": "python",
      "nbconvert_exporter": "python",
      "pygments_lexer": "ipython3",
      "version": "3.9.13"
    }
  },
  "nbformat": 4,
  "nbformat_minor": 0
}
