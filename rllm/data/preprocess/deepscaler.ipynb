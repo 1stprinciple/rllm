{
 "cells": [
  {
   "cell_type": "code",
   "execution_count": 21,
   "metadata": {},
   "outputs": [
    {
     "data": {
      "text/plain": [
       "41991"
      ]
     },
     "execution_count": 21,
     "metadata": {},
     "output_type": "execute_result"
    }
   ],
   "source": [
    "import json\n",
    "\n",
    "datasets = [\"amc\", \"omni_math\", \"aime\", \"still\", \"math\"]\n",
    "\n",
    "data = []\n",
    "for dataset in datasets:\n",
    "    with open(f'../train/{dataset}.json', 'r') as f:\n",
    "        data.extend(json.load(f))\n",
    "len(data)"
   ]
  },
  {
   "cell_type": "code",
   "execution_count": 22,
   "metadata": {},
   "outputs": [
    {
     "data": {
      "text/plain": [
       "1603"
      ]
     },
     "execution_count": 22,
     "metadata": {},
     "output_type": "execute_result"
    }
   ],
   "source": [
    "from rllm.rewards.math_utils.utils import _sympy_parse, _normalize, should_allow_eval\n",
    "\n",
    "\n",
    "filtered_data = []\n",
    "count = 0\n",
    "for entry in data:\n",
    "    answer = entry['answer']\n",
    "    try:\n",
    "        if should_allow_eval(_normalize(answer)):\n",
    "            filtered_data.append(entry)\n",
    "            continue\n",
    "        else:\n",
    "            # print(answer)\n",
    "            count += 1\n",
    "    except Exception as e:\n",
    "        # print(answer)\n",
    "        count += 1\n",
    "\n",
    "count"
   ]
  },
  {
   "cell_type": "code",
   "execution_count": null,
   "metadata": {},
   "outputs": [],
   "source": [
    "with open('./deepscaler.json', 'r') as f:\n",
    "    json.dump(filtered_data, f)"
   ]
  }
 ],
 "metadata": {
  "kernelspec": {
   "display_name": "tsj",
   "language": "python",
   "name": "python3"
  },
  "language_info": {
   "codemirror_mode": {
    "name": "ipython",
    "version": 3
   },
   "file_extension": ".py",
   "mimetype": "text/x-python",
   "name": "python",
   "nbconvert_exporter": "python",
   "pygments_lexer": "ipython3",
   "version": "3.11.11"
  }
 },
 "nbformat": 4,
 "nbformat_minor": 2
}
