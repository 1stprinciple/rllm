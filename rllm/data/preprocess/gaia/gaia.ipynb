{
 "cells": [
  {
   "cell_type": "code",
   "execution_count": 1,
   "metadata": {},
   "outputs": [
    {
     "name": "stderr",
     "output_type": "stream",
     "text": [
      "/opt/conda/envs/rllm-xiao/lib/python3.10/site-packages/tqdm/auto.py:21: TqdmWarning: IProgress not found. Please update jupyter and ipywidgets. See https://ipywidgets.readthedocs.io/en/stable/user_install.html\n",
      "  from .autonotebook import tqdm as notebook_tqdm\n"
     ]
    },
    {
     "name": "stdout",
     "output_type": "stream",
     "text": [
      "Dataset({\n",
      "    features: ['task_id', 'Question', 'Level', 'Final answer', 'file_name', 'file_path', 'Annotator Metadata'],\n",
      "    num_rows: 301\n",
      "})\n",
      "len(ds): 301\n",
      "keys: dict_keys(['task_id', 'Question', 'Level', 'Final answer', 'file_name', 'file_path', 'Annotator Metadata'])\n"
     ]
    }
   ],
   "source": [
    "import ast\n",
    "import json\n",
    "import os\n",
    "from datasets import load_dataset\n",
    "\n",
    "ds = load_dataset(\"gaia-benchmark/GAIA\" , '2023_all', trust_remote_code=True, split=\"test\")\n",
    "print(ds)\n",
    "print(f'len(ds): {len(ds)}')\n",
    "print(f\"keys: {ds[0].keys()}\")"
   ]
  },
  {
   "cell_type": "code",
   "execution_count": 2,
   "metadata": {},
   "outputs": [],
   "source": [
    "def process_datasets(ds):\n",
    "    dataset = []\n",
    "    for entry in ds:\n",
    "        task_id = entry['task_id']\n",
    "        problem = entry['Question']\n",
    "        tests = entry['Final answer']\n",
    "        file_name = entry['file_name']\n",
    "        new_entry = {\n",
    "            'task_id': task_id,\n",
    "            'problem': problem,\n",
    "            'tests': tests,\n",
    "            'file_name': file_name\n",
    "        }\n",
    "        dataset.append(new_entry)\n",
    "    return dataset"
   ]
  },
  {
   "cell_type": "code",
   "execution_count": 3,
   "metadata": {},
   "outputs": [
    {
     "name": "stdout",
     "output_type": "stream",
     "text": [
      "len(test_data): 301\n"
     ]
    }
   ],
   "source": [
    "test_dataset = process_datasets(ds)\n",
    "print(f\"len(test_data): {len(test_dataset)}\")\n",
    "output_dir = os.path.abspath(\"../../test/gaia\")\n",
    "output_file = os.path.join(output_dir, \"gaia.json\")\n",
    "\n",
    "with open(output_file, \"w\") as f:\n",
    "    json.dump(test_dataset, f, indent=4)\n"
   ]
  }
 ],
 "metadata": {
  "kernelspec": {
   "display_name": "rllm-xiao",
   "language": "python",
   "name": "python3"
  },
  "language_info": {
   "codemirror_mode": {
    "name": "ipython",
    "version": 3
   },
   "file_extension": ".py",
   "mimetype": "text/x-python",
   "name": "python",
   "nbconvert_exporter": "python",
   "pygments_lexer": "ipython3",
   "version": "3.10.16"
  }
 },
 "nbformat": 4,
 "nbformat_minor": 2
}
