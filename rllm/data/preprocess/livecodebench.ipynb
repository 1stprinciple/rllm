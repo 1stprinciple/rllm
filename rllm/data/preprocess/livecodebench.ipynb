{
 "cells": [
  {
   "cell_type": "code",
   "execution_count": 6,
   "metadata": {},
   "outputs": [
    {
     "name": "stdout",
     "output_type": "stream",
     "text": [
      "Dataset({\n",
      "    features: ['question_title', 'question_content', 'platform', 'question_id', 'contest_id', 'contest_date', 'starter_code', 'difficulty', 'public_test_cases', 'private_test_cases', 'metadata'],\n",
      "    num_rows: 511\n",
      "})\n"
     ]
    }
   ],
   "source": [
    "from datasets import load_dataset\n",
    "import json \n",
    "livecodebench = load_dataset(\"livecodebench/code_generation_lite\", version_tag=\"release_v2\", trust_remote_code=True, split=\"test\")\n",
    "\n",
    "print(livecodebench)\n",
    "\n"
   ]
  },
  {
   "cell_type": "code",
   "execution_count": 10,
   "metadata": {},
   "outputs": [
    {
     "name": "stdout",
     "output_type": "stream",
     "text": [
      "len(dataset): 511\n"
     ]
    }
   ],
   "source": [
    "\n",
    "dataset = []\n",
    "for entry in livecodebench:\n",
    "    new_entry = {\n",
    "        \"problem_title\": entry[\"question_title\"],\n",
    "        \"problem\": entry[\"question_content\"],\n",
    "        \"platform\":entry[\"platform\"],\n",
    "        \"question_id\":entry[\"question_id\"],\n",
    "         \"contest_id\":entry[\"contest_id\"],\n",
    "        \"starter_code\": entry[\"starter_code\"],\n",
    "        \"difficulty\":entry[\"starter_code\"],\n",
    "    }\n",
    "    new_entry[\"public_test_cases\"] = entry[\"public_test_cases\"]\n",
    "    dataset.append(new_entry)\n",
    "\n",
    "print(f'len(dataset): {len(dataset)}')\n",
    "with open(\"test_livecodebench.json\", \"w\") as f:\n",
    "    json.dump(dataset, f, indent=4)\n"
   ]
  }
 ],
 "metadata": {
  "kernelspec": {
   "display_name": "rllm-xiao",
   "language": "python",
   "name": "python3"
  },
  "language_info": {
   "codemirror_mode": {
    "name": "ipython",
    "version": 3
   },
   "file_extension": ".py",
   "mimetype": "text/x-python",
   "name": "python",
   "nbconvert_exporter": "python",
   "pygments_lexer": "ipython3",
   "version": "3.10.16"
  }
 },
 "nbformat": 4,
 "nbformat_minor": 2
}
